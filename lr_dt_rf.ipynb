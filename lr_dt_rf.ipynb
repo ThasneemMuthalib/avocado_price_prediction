{
  "cells": [
    {
      "cell_type": "markdown",
      "metadata": {
        "id": "XoO3PAAfR80_"
      },
      "source": [
        "## Importing the libraries"
      ]
    },
    {
      "cell_type": "code",
      "execution_count": null,
      "metadata": {
        "id": "Nej-w4RSYb-B"
      },
      "outputs": [],
      "source": [
        "import numpy as np\n",
        "import pandas as pd\n",
        "\n",
        "# Visualization\n",
        "import matplotlib.pyplot as plt\n",
        "import seaborn as sns\n",
        "\n",
        "# train test split, hyper parameter tuning\n",
        "from sklearn.model_selection import train_test_split, RandomizedSearchCV, GridSearchCV, RepeatedKFold, cross_val_score\n",
        "\n",
        "# accuracy check\n",
        "from sklearn.metrics import r2_score, mean_squared_error, mean_absolute_error\n",
        "\n",
        "# applying random forest and feature selection\n",
        "from sklearn.ensemble import RandomForestRegressor, ExtraTreesRegressor\n",
        "\n",
        "from sklearn.tree import DecisionTreeRegressor\n",
        "\n",
        "# encoding for categorical variables \n",
        "from sklearn.preprocessing import LabelEncoder, OneHotEncoder\n",
        "\n",
        "from sklearn.linear_model import Ridge, Lasso, ElasticNet, RidgeCV, LassoCV, ElasticNetCV, LinearRegression"
      ]
    },
    {
      "cell_type": "markdown",
      "metadata": {
        "id": "KyWHh0gMSZlE"
      },
      "source": [
        "## Import the dataset and create dataframe \n",
        "\n",
        "> Here train and test sets are seperate because the data is time related. Therefore, the data from 2015 to 2017 is considered as the train set and data from 2018 as the test set"
      ]
    },
    {
      "cell_type": "code",
      "execution_count": null,
      "metadata": {
        "id": "9fbogUjS2B5d"
      },
      "outputs": [],
      "source": []
    },
    {
      "cell_type": "code",
      "execution_count": null,
      "metadata": {
        "id": "Y3CnXkywxrzT"
      },
      "outputs": [],
      "source": [
        "avo = pd.read_csv('/content/FinalWithNoOut.csv')"
      ]
    },
    {
      "cell_type": "code",
      "source": [
        "avo_without = pd.read_csv('/content/Final.csv')"
      ],
      "metadata": {
        "id": "eowI4giQVCS5"
      },
      "execution_count": null,
      "outputs": []
    },
    {
      "cell_type": "code",
      "execution_count": null,
      "metadata": {
        "colab": {
          "base_uri": "https://localhost:8080/",
          "height": 375
        },
        "id": "XY_AoioYPMKO",
        "outputId": "fc8129a2-0816-4695-dc8a-2fb34b8129f5"
      },
      "outputs": [
        {
          "output_type": "execute_result",
          "data": {
            "text/plain": [
              "   Unnamed: 0    X        Date  AveragePrice  Total.Volume      X4046  \\\n",
              "0         541  540  2015-02-08          0.99     10.844548   7.214777   \n",
              "1         542  541  2015-02-08          1.03     12.980532  12.840686   \n",
              "2         543  542  2015-02-08          1.09     13.647010  11.180323   \n",
              "3         544  543  2015-02-08          1.07     11.155833  10.901014   \n",
              "4         545  544  2015-02-08          1.04     13.321190   8.943139   \n",
              "\n",
              "       X4225      X4770  Total.Bags  Small.Bags  Large.Bags          type  \\\n",
              "0  10.574231   5.107459    9.270828    9.221785    6.235273  conventional   \n",
              "1   9.750599   6.266916   10.569833    9.800702    9.947398  conventional   \n",
              "2  13.226470  10.530477   12.105893   12.076951    8.549383  conventional   \n",
              "3   9.174634   8.022569    8.022625    7.226514    7.424016  conventional   \n",
              "4  13.113794   5.955138   11.573256   11.565569    6.703605  conventional   \n",
              "\n",
              "                region  Year  Month  Day  first_lag  Fifthlag_XL.Bag  \\\n",
              "0               Albany  2015      2    8   1.247037         1.477449   \n",
              "1              Atlanta  2015      2    8   1.247037         1.477449   \n",
              "2  BaltimoreWashington  2015      2    8   1.247037         1.477449   \n",
              "3                Boise  2015      2    8   1.247037         1.477449   \n",
              "4               Boston  2015      2    8   1.247037         1.477449   \n",
              "\n",
              "   Time_Index  \n",
              "0           1  \n",
              "1           1  \n",
              "2           1  \n",
              "3           1  \n",
              "4           1  "
            ],
            "text/html": [
              "\n",
              "  <div id=\"df-4e0047b0-32e7-48e2-9977-7e69e1e7548a\">\n",
              "    <div class=\"colab-df-container\">\n",
              "      <div>\n",
              "<style scoped>\n",
              "    .dataframe tbody tr th:only-of-type {\n",
              "        vertical-align: middle;\n",
              "    }\n",
              "\n",
              "    .dataframe tbody tr th {\n",
              "        vertical-align: top;\n",
              "    }\n",
              "\n",
              "    .dataframe thead th {\n",
              "        text-align: right;\n",
              "    }\n",
              "</style>\n",
              "<table border=\"1\" class=\"dataframe\">\n",
              "  <thead>\n",
              "    <tr style=\"text-align: right;\">\n",
              "      <th></th>\n",
              "      <th>Unnamed: 0</th>\n",
              "      <th>X</th>\n",
              "      <th>Date</th>\n",
              "      <th>AveragePrice</th>\n",
              "      <th>Total.Volume</th>\n",
              "      <th>X4046</th>\n",
              "      <th>X4225</th>\n",
              "      <th>X4770</th>\n",
              "      <th>Total.Bags</th>\n",
              "      <th>Small.Bags</th>\n",
              "      <th>Large.Bags</th>\n",
              "      <th>type</th>\n",
              "      <th>region</th>\n",
              "      <th>Year</th>\n",
              "      <th>Month</th>\n",
              "      <th>Day</th>\n",
              "      <th>first_lag</th>\n",
              "      <th>Fifthlag_XL.Bag</th>\n",
              "      <th>Time_Index</th>\n",
              "    </tr>\n",
              "  </thead>\n",
              "  <tbody>\n",
              "    <tr>\n",
              "      <th>0</th>\n",
              "      <td>541</td>\n",
              "      <td>540</td>\n",
              "      <td>2015-02-08</td>\n",
              "      <td>0.99</td>\n",
              "      <td>10.844548</td>\n",
              "      <td>7.214777</td>\n",
              "      <td>10.574231</td>\n",
              "      <td>5.107459</td>\n",
              "      <td>9.270828</td>\n",
              "      <td>9.221785</td>\n",
              "      <td>6.235273</td>\n",
              "      <td>conventional</td>\n",
              "      <td>Albany</td>\n",
              "      <td>2015</td>\n",
              "      <td>2</td>\n",
              "      <td>8</td>\n",
              "      <td>1.247037</td>\n",
              "      <td>1.477449</td>\n",
              "      <td>1</td>\n",
              "    </tr>\n",
              "    <tr>\n",
              "      <th>1</th>\n",
              "      <td>542</td>\n",
              "      <td>541</td>\n",
              "      <td>2015-02-08</td>\n",
              "      <td>1.03</td>\n",
              "      <td>12.980532</td>\n",
              "      <td>12.840686</td>\n",
              "      <td>9.750599</td>\n",
              "      <td>6.266916</td>\n",
              "      <td>10.569833</td>\n",
              "      <td>9.800702</td>\n",
              "      <td>9.947398</td>\n",
              "      <td>conventional</td>\n",
              "      <td>Atlanta</td>\n",
              "      <td>2015</td>\n",
              "      <td>2</td>\n",
              "      <td>8</td>\n",
              "      <td>1.247037</td>\n",
              "      <td>1.477449</td>\n",
              "      <td>1</td>\n",
              "    </tr>\n",
              "    <tr>\n",
              "      <th>2</th>\n",
              "      <td>543</td>\n",
              "      <td>542</td>\n",
              "      <td>2015-02-08</td>\n",
              "      <td>1.09</td>\n",
              "      <td>13.647010</td>\n",
              "      <td>11.180323</td>\n",
              "      <td>13.226470</td>\n",
              "      <td>10.530477</td>\n",
              "      <td>12.105893</td>\n",
              "      <td>12.076951</td>\n",
              "      <td>8.549383</td>\n",
              "      <td>conventional</td>\n",
              "      <td>BaltimoreWashington</td>\n",
              "      <td>2015</td>\n",
              "      <td>2</td>\n",
              "      <td>8</td>\n",
              "      <td>1.247037</td>\n",
              "      <td>1.477449</td>\n",
              "      <td>1</td>\n",
              "    </tr>\n",
              "    <tr>\n",
              "      <th>3</th>\n",
              "      <td>544</td>\n",
              "      <td>543</td>\n",
              "      <td>2015-02-08</td>\n",
              "      <td>1.07</td>\n",
              "      <td>11.155833</td>\n",
              "      <td>10.901014</td>\n",
              "      <td>9.174634</td>\n",
              "      <td>8.022569</td>\n",
              "      <td>8.022625</td>\n",
              "      <td>7.226514</td>\n",
              "      <td>7.424016</td>\n",
              "      <td>conventional</td>\n",
              "      <td>Boise</td>\n",
              "      <td>2015</td>\n",
              "      <td>2</td>\n",
              "      <td>8</td>\n",
              "      <td>1.247037</td>\n",
              "      <td>1.477449</td>\n",
              "      <td>1</td>\n",
              "    </tr>\n",
              "    <tr>\n",
              "      <th>4</th>\n",
              "      <td>545</td>\n",
              "      <td>544</td>\n",
              "      <td>2015-02-08</td>\n",
              "      <td>1.04</td>\n",
              "      <td>13.321190</td>\n",
              "      <td>8.943139</td>\n",
              "      <td>13.113794</td>\n",
              "      <td>5.955138</td>\n",
              "      <td>11.573256</td>\n",
              "      <td>11.565569</td>\n",
              "      <td>6.703605</td>\n",
              "      <td>conventional</td>\n",
              "      <td>Boston</td>\n",
              "      <td>2015</td>\n",
              "      <td>2</td>\n",
              "      <td>8</td>\n",
              "      <td>1.247037</td>\n",
              "      <td>1.477449</td>\n",
              "      <td>1</td>\n",
              "    </tr>\n",
              "  </tbody>\n",
              "</table>\n",
              "</div>\n",
              "      <button class=\"colab-df-convert\" onclick=\"convertToInteractive('df-4e0047b0-32e7-48e2-9977-7e69e1e7548a')\"\n",
              "              title=\"Convert this dataframe to an interactive table.\"\n",
              "              style=\"display:none;\">\n",
              "        \n",
              "  <svg xmlns=\"http://www.w3.org/2000/svg\" height=\"24px\"viewBox=\"0 0 24 24\"\n",
              "       width=\"24px\">\n",
              "    <path d=\"M0 0h24v24H0V0z\" fill=\"none\"/>\n",
              "    <path d=\"M18.56 5.44l.94 2.06.94-2.06 2.06-.94-2.06-.94-.94-2.06-.94 2.06-2.06.94zm-11 1L8.5 8.5l.94-2.06 2.06-.94-2.06-.94L8.5 2.5l-.94 2.06-2.06.94zm10 10l.94 2.06.94-2.06 2.06-.94-2.06-.94-.94-2.06-.94 2.06-2.06.94z\"/><path d=\"M17.41 7.96l-1.37-1.37c-.4-.4-.92-.59-1.43-.59-.52 0-1.04.2-1.43.59L10.3 9.45l-7.72 7.72c-.78.78-.78 2.05 0 2.83L4 21.41c.39.39.9.59 1.41.59.51 0 1.02-.2 1.41-.59l7.78-7.78 2.81-2.81c.8-.78.8-2.07 0-2.86zM5.41 20L4 18.59l7.72-7.72 1.47 1.35L5.41 20z\"/>\n",
              "  </svg>\n",
              "      </button>\n",
              "      \n",
              "  <style>\n",
              "    .colab-df-container {\n",
              "      display:flex;\n",
              "      flex-wrap:wrap;\n",
              "      gap: 12px;\n",
              "    }\n",
              "\n",
              "    .colab-df-convert {\n",
              "      background-color: #E8F0FE;\n",
              "      border: none;\n",
              "      border-radius: 50%;\n",
              "      cursor: pointer;\n",
              "      display: none;\n",
              "      fill: #1967D2;\n",
              "      height: 32px;\n",
              "      padding: 0 0 0 0;\n",
              "      width: 32px;\n",
              "    }\n",
              "\n",
              "    .colab-df-convert:hover {\n",
              "      background-color: #E2EBFA;\n",
              "      box-shadow: 0px 1px 2px rgba(60, 64, 67, 0.3), 0px 1px 3px 1px rgba(60, 64, 67, 0.15);\n",
              "      fill: #174EA6;\n",
              "    }\n",
              "\n",
              "    [theme=dark] .colab-df-convert {\n",
              "      background-color: #3B4455;\n",
              "      fill: #D2E3FC;\n",
              "    }\n",
              "\n",
              "    [theme=dark] .colab-df-convert:hover {\n",
              "      background-color: #434B5C;\n",
              "      box-shadow: 0px 1px 3px 1px rgba(0, 0, 0, 0.15);\n",
              "      filter: drop-shadow(0px 1px 2px rgba(0, 0, 0, 0.3));\n",
              "      fill: #FFFFFF;\n",
              "    }\n",
              "  </style>\n",
              "\n",
              "      <script>\n",
              "        const buttonEl =\n",
              "          document.querySelector('#df-4e0047b0-32e7-48e2-9977-7e69e1e7548a button.colab-df-convert');\n",
              "        buttonEl.style.display =\n",
              "          google.colab.kernel.accessAllowed ? 'block' : 'none';\n",
              "\n",
              "        async function convertToInteractive(key) {\n",
              "          const element = document.querySelector('#df-4e0047b0-32e7-48e2-9977-7e69e1e7548a');\n",
              "          const dataTable =\n",
              "            await google.colab.kernel.invokeFunction('convertToInteractive',\n",
              "                                                     [key], {});\n",
              "          if (!dataTable) return;\n",
              "\n",
              "          const docLinkHtml = 'Like what you see? Visit the ' +\n",
              "            '<a target=\"_blank\" href=https://colab.research.google.com/notebooks/data_table.ipynb>data table notebook</a>'\n",
              "            + ' to learn more about interactive tables.';\n",
              "          element.innerHTML = '';\n",
              "          dataTable['output_type'] = 'display_data';\n",
              "          await google.colab.output.renderOutput(dataTable, element);\n",
              "          const docLink = document.createElement('div');\n",
              "          docLink.innerHTML = docLinkHtml;\n",
              "          element.appendChild(docLink);\n",
              "        }\n",
              "      </script>\n",
              "    </div>\n",
              "  </div>\n",
              "  "
            ]
          },
          "metadata": {},
          "execution_count": 3
        }
      ],
      "source": [
        "avo.head()"
      ]
    },
    {
      "cell_type": "code",
      "execution_count": null,
      "metadata": {
        "colab": {
          "base_uri": "https://localhost:8080/"
        },
        "id": "xJ9kjrpTPr0b",
        "outputId": "b00babb4-06a6-4561-b60f-41b953b228df"
      },
      "outputs": [
        {
          "output_type": "execute_result",
          "data": {
            "text/plain": [
              "(17506, 19)"
            ]
          },
          "metadata": {},
          "execution_count": 4
        }
      ],
      "source": [
        "avo.shape"
      ]
    },
    {
      "cell_type": "code",
      "execution_count": null,
      "metadata": {
        "colab": {
          "base_uri": "https://localhost:8080/"
        },
        "id": "8UpiKokOW4Ea",
        "outputId": "98293d6d-94c3-42b3-a4f9-647e8ec22fc5"
      },
      "outputs": [
        {
          "output_type": "execute_result",
          "data": {
            "text/plain": [
              "(17709, 19)"
            ]
          },
          "metadata": {},
          "execution_count": 42
        }
      ],
      "source": [
        "avo_without.shape"
      ]
    },
    {
      "cell_type": "code",
      "execution_count": null,
      "metadata": {
        "id": "UnyMzWVIXQfI"
      },
      "outputs": [],
      "source": [
        "# train = df.loc[0:14166]"
      ]
    },
    {
      "cell_type": "code",
      "execution_count": null,
      "metadata": {
        "id": "xNczBnWkXeRD"
      },
      "outputs": [],
      "source": [
        "# test = df.loc[14167:]"
      ]
    },
    {
      "cell_type": "code",
      "execution_count": null,
      "metadata": {
        "id": "MT_6hsaNXisV"
      },
      "outputs": [],
      "source": [
        "# train.shape"
      ]
    },
    {
      "cell_type": "code",
      "execution_count": null,
      "metadata": {
        "id": "79Wh9uOAXmBN"
      },
      "outputs": [],
      "source": [
        "# test.shape"
      ]
    },
    {
      "cell_type": "code",
      "execution_count": null,
      "metadata": {
        "id": "k1-GZAfRxs5i"
      },
      "outputs": [],
      "source": [
        "# plt.hist(train.AveragePrice, edgecolor='blue', color='pink', linestyle='dashed', bins=30)\n",
        "# plt.xlabel('Average Price')\n",
        "# plt.ylabel('Count')\n",
        "# plt.title('Histogram of Average price without outliers')\n",
        "# plt.grid(color='red', linestyle=':')\n",
        "# plt.figure(figsize=(10, 10))"
      ]
    },
    {
      "cell_type": "code",
      "execution_count": null,
      "metadata": {
        "id": "ijSueLnGdDrk"
      },
      "outputs": [],
      "source": [
        "# train = pd.read_csv('/content/timevariableadded_removedoutlier.csv')\n",
        "# test = pd.read_csv('/content/testdataforproject2ndfile.csv')"
      ]
    },
    {
      "cell_type": "code",
      "execution_count": null,
      "metadata": {
        "id": "FQzqnlwYF8ix"
      },
      "outputs": [],
      "source": [
        "# train.drop(['log.Total_Bags', 'Date_Ex'], axis=1, inplace=True)\n",
        "#test.drop(['log.Total_Bags', 'Date_Ex'], axis=1, inplace=True)"
      ]
    },
    {
      "cell_type": "code",
      "execution_count": null,
      "metadata": {
        "id": "39Ah-JXFdHg5"
      },
      "outputs": [],
      "source": [
        "# train.head()"
      ]
    },
    {
      "cell_type": "code",
      "execution_count": null,
      "metadata": {
        "id": "8k6yWH70Jdd6"
      },
      "outputs": [],
      "source": [
        "# train.tail()"
      ]
    },
    {
      "cell_type": "code",
      "execution_count": null,
      "metadata": {
        "id": "PMFUBO89s272"
      },
      "outputs": [],
      "source": [
        "# test.head()"
      ]
    },
    {
      "cell_type": "code",
      "execution_count": null,
      "metadata": {
        "id": "RlLpdUoX2H0S"
      },
      "outputs": [],
      "source": [
        "# test.tail()"
      ]
    },
    {
      "cell_type": "markdown",
      "metadata": {
        "id": "g4twovZASj7D"
      },
      "source": [
        "### Feature information"
      ]
    },
    {
      "cell_type": "code",
      "execution_count": null,
      "metadata": {
        "id": "Fnz3FvrddLNN"
      },
      "outputs": [],
      "source": [
        "# train.info()"
      ]
    },
    {
      "cell_type": "code",
      "execution_count": null,
      "metadata": {
        "id": "VMq_gWBts8fm"
      },
      "outputs": [],
      "source": [
        "# test.info()"
      ]
    },
    {
      "cell_type": "markdown",
      "metadata": {
        "id": "U6kGWnQVkI9A"
      },
      "source": [
        "> test set has 3581 observations"
      ]
    },
    {
      "cell_type": "code",
      "execution_count": null,
      "metadata": {
        "id": "C6GbJ1fpQplo"
      },
      "outputs": [],
      "source": [
        "# frame = [train, test]\n",
        "# avo = pd.concat(frame, ignore_index=True)"
      ]
    },
    {
      "cell_type": "code",
      "execution_count": null,
      "metadata": {
        "id": "aylffysRRC-x"
      },
      "outputs": [],
      "source": [
        "# avo.head()"
      ]
    },
    {
      "cell_type": "markdown",
      "metadata": {
        "id": "JvoibKuFkPjW"
      },
      "source": [
        "> the descriptive analysis did not show an exact pattern for Date_Ex variable. And total_bags is the summation of small_Bags, Large_Bags and XLarge_Bags. Therefore, Date_Ex and Total_Bags can be removed. "
      ]
    },
    {
      "cell_type": "code",
      "execution_count": null,
      "metadata": {
        "id": "7zwaYo59tavv"
      },
      "outputs": [],
      "source": [
        "# avo.shape"
      ]
    },
    {
      "cell_type": "markdown",
      "metadata": {
        "id": "JHZe01-JsEF7"
      },
      "source": [
        "> Apply label encoding for region and type variables\n",
        "\n",
        "> Did not apply One Hot Encoding because there are 54 unique categories and it will lead in creating many columns. Therefore, used Label Encoding from 0-53"
      ]
    },
    {
      "cell_type": "code",
      "execution_count": null,
      "metadata": {
        "id": "s8oID4eIn_dN"
      },
      "outputs": [],
      "source": [
        "le = LabelEncoder()"
      ]
    },
    {
      "cell_type": "code",
      "execution_count": null,
      "metadata": {
        "colab": {
          "base_uri": "https://localhost:8080/"
        },
        "id": "cgy_Dz61pJVl",
        "outputId": "b2bd96f7-7484-47e0-afcb-c401d2750593"
      },
      "outputs": [
        {
          "data": {
            "text/plain": [
              "array([0, 0, 0, ..., 1, 1, 1])"
            ]
          },
          "execution_count": 44,
          "metadata": {},
          "output_type": "execute_result"
        }
      ],
      "source": [
        "# Fit and transformed the regions into numeric\n",
        "# le.fit_transform(avo.region)\n",
        "# le.fit_transform(avo.type)"
      ]
    },
    {
      "cell_type": "code",
      "execution_count": null,
      "metadata": {
        "id": "D8LoK5Jl3VDO"
      },
      "outputs": [],
      "source": [
        "# x = le.fit_transform(avo.region)\n",
        "# y = le.fit_transform(avo.type)"
      ]
    },
    {
      "cell_type": "code",
      "execution_count": null,
      "metadata": {
        "colab": {
          "base_uri": "https://localhost:8080/",
          "height": 1000
        },
        "id": "5s6LbQ7h3eNc",
        "outputId": "666269d8-0a15-4f6f-8041-9e2f3010a423"
      },
      "outputs": [
        {
          "data": {
            "text/html": [
              "\n",
              "  <div id=\"df-d555ede2-fc20-4645-b379-15c87431b7df\">\n",
              "    <div class=\"colab-df-container\">\n",
              "      <div>\n",
              "<style scoped>\n",
              "    .dataframe tbody tr th:only-of-type {\n",
              "        vertical-align: middle;\n",
              "    }\n",
              "\n",
              "    .dataframe tbody tr th {\n",
              "        vertical-align: top;\n",
              "    }\n",
              "\n",
              "    .dataframe thead th {\n",
              "        text-align: right;\n",
              "    }\n",
              "</style>\n",
              "<table border=\"1\" class=\"dataframe\">\n",
              "  <thead>\n",
              "    <tr style=\"text-align: right;\">\n",
              "      <th></th>\n",
              "      <th>Actual</th>\n",
              "      <th>Predicted</th>\n",
              "    </tr>\n",
              "  </thead>\n",
              "  <tbody>\n",
              "    <tr>\n",
              "      <th>0</th>\n",
              "      <td>Albany</td>\n",
              "      <td>0</td>\n",
              "    </tr>\n",
              "    <tr>\n",
              "      <th>1</th>\n",
              "      <td>Atlanta</td>\n",
              "      <td>1</td>\n",
              "    </tr>\n",
              "    <tr>\n",
              "      <th>2</th>\n",
              "      <td>BaltimoreWashington</td>\n",
              "      <td>2</td>\n",
              "    </tr>\n",
              "    <tr>\n",
              "      <th>3</th>\n",
              "      <td>Boise</td>\n",
              "      <td>3</td>\n",
              "    </tr>\n",
              "    <tr>\n",
              "      <th>4</th>\n",
              "      <td>Boston</td>\n",
              "      <td>4</td>\n",
              "    </tr>\n",
              "    <tr>\n",
              "      <th>5</th>\n",
              "      <td>BuffaloRochester</td>\n",
              "      <td>5</td>\n",
              "    </tr>\n",
              "    <tr>\n",
              "      <th>6</th>\n",
              "      <td>California</td>\n",
              "      <td>6</td>\n",
              "    </tr>\n",
              "    <tr>\n",
              "      <th>7</th>\n",
              "      <td>Charlotte</td>\n",
              "      <td>7</td>\n",
              "    </tr>\n",
              "    <tr>\n",
              "      <th>8</th>\n",
              "      <td>Chicago</td>\n",
              "      <td>8</td>\n",
              "    </tr>\n",
              "    <tr>\n",
              "      <th>9</th>\n",
              "      <td>CincinnatiDayton</td>\n",
              "      <td>9</td>\n",
              "    </tr>\n",
              "    <tr>\n",
              "      <th>10</th>\n",
              "      <td>Columbus</td>\n",
              "      <td>10</td>\n",
              "    </tr>\n",
              "    <tr>\n",
              "      <th>11</th>\n",
              "      <td>DallasFtWorth</td>\n",
              "      <td>11</td>\n",
              "    </tr>\n",
              "    <tr>\n",
              "      <th>12</th>\n",
              "      <td>Denver</td>\n",
              "      <td>12</td>\n",
              "    </tr>\n",
              "    <tr>\n",
              "      <th>13</th>\n",
              "      <td>Detroit</td>\n",
              "      <td>13</td>\n",
              "    </tr>\n",
              "    <tr>\n",
              "      <th>14</th>\n",
              "      <td>GrandRapids</td>\n",
              "      <td>14</td>\n",
              "    </tr>\n",
              "    <tr>\n",
              "      <th>15</th>\n",
              "      <td>GreatLakes</td>\n",
              "      <td>15</td>\n",
              "    </tr>\n",
              "    <tr>\n",
              "      <th>16</th>\n",
              "      <td>HarrisburgScranton</td>\n",
              "      <td>16</td>\n",
              "    </tr>\n",
              "    <tr>\n",
              "      <th>17</th>\n",
              "      <td>HartfordSpringfield</td>\n",
              "      <td>17</td>\n",
              "    </tr>\n",
              "    <tr>\n",
              "      <th>18</th>\n",
              "      <td>Houston</td>\n",
              "      <td>18</td>\n",
              "    </tr>\n",
              "    <tr>\n",
              "      <th>19</th>\n",
              "      <td>Indianapolis</td>\n",
              "      <td>19</td>\n",
              "    </tr>\n",
              "    <tr>\n",
              "      <th>20</th>\n",
              "      <td>Jacksonville</td>\n",
              "      <td>20</td>\n",
              "    </tr>\n",
              "    <tr>\n",
              "      <th>21</th>\n",
              "      <td>LasVegas</td>\n",
              "      <td>21</td>\n",
              "    </tr>\n",
              "    <tr>\n",
              "      <th>22</th>\n",
              "      <td>LosAngeles</td>\n",
              "      <td>22</td>\n",
              "    </tr>\n",
              "    <tr>\n",
              "      <th>23</th>\n",
              "      <td>Louisville</td>\n",
              "      <td>23</td>\n",
              "    </tr>\n",
              "    <tr>\n",
              "      <th>24</th>\n",
              "      <td>MiamiFtLauderdale</td>\n",
              "      <td>24</td>\n",
              "    </tr>\n",
              "    <tr>\n",
              "      <th>25</th>\n",
              "      <td>Midsouth</td>\n",
              "      <td>25</td>\n",
              "    </tr>\n",
              "    <tr>\n",
              "      <th>26</th>\n",
              "      <td>Nashville</td>\n",
              "      <td>26</td>\n",
              "    </tr>\n",
              "    <tr>\n",
              "      <th>27</th>\n",
              "      <td>NewOrleansMobile</td>\n",
              "      <td>27</td>\n",
              "    </tr>\n",
              "    <tr>\n",
              "      <th>28</th>\n",
              "      <td>NewYork</td>\n",
              "      <td>28</td>\n",
              "    </tr>\n",
              "    <tr>\n",
              "      <th>29</th>\n",
              "      <td>Northeast</td>\n",
              "      <td>29</td>\n",
              "    </tr>\n",
              "    <tr>\n",
              "      <th>30</th>\n",
              "      <td>NorthernNewEngland</td>\n",
              "      <td>30</td>\n",
              "    </tr>\n",
              "    <tr>\n",
              "      <th>31</th>\n",
              "      <td>Orlando</td>\n",
              "      <td>31</td>\n",
              "    </tr>\n",
              "    <tr>\n",
              "      <th>32</th>\n",
              "      <td>Philadelphia</td>\n",
              "      <td>32</td>\n",
              "    </tr>\n",
              "    <tr>\n",
              "      <th>33</th>\n",
              "      <td>PhoenixTucson</td>\n",
              "      <td>33</td>\n",
              "    </tr>\n",
              "    <tr>\n",
              "      <th>34</th>\n",
              "      <td>Pittsburgh</td>\n",
              "      <td>34</td>\n",
              "    </tr>\n",
              "    <tr>\n",
              "      <th>35</th>\n",
              "      <td>Plains</td>\n",
              "      <td>35</td>\n",
              "    </tr>\n",
              "    <tr>\n",
              "      <th>36</th>\n",
              "      <td>Portland</td>\n",
              "      <td>36</td>\n",
              "    </tr>\n",
              "    <tr>\n",
              "      <th>37</th>\n",
              "      <td>RaleighGreensboro</td>\n",
              "      <td>37</td>\n",
              "    </tr>\n",
              "    <tr>\n",
              "      <th>38</th>\n",
              "      <td>RichmondNorfolk</td>\n",
              "      <td>38</td>\n",
              "    </tr>\n",
              "    <tr>\n",
              "      <th>39</th>\n",
              "      <td>Roanoke</td>\n",
              "      <td>39</td>\n",
              "    </tr>\n",
              "    <tr>\n",
              "      <th>40</th>\n",
              "      <td>Sacramento</td>\n",
              "      <td>40</td>\n",
              "    </tr>\n",
              "    <tr>\n",
              "      <th>41</th>\n",
              "      <td>SanDiego</td>\n",
              "      <td>41</td>\n",
              "    </tr>\n",
              "    <tr>\n",
              "      <th>42</th>\n",
              "      <td>SanFrancisco</td>\n",
              "      <td>42</td>\n",
              "    </tr>\n",
              "    <tr>\n",
              "      <th>43</th>\n",
              "      <td>Seattle</td>\n",
              "      <td>43</td>\n",
              "    </tr>\n",
              "    <tr>\n",
              "      <th>44</th>\n",
              "      <td>SouthCarolina</td>\n",
              "      <td>44</td>\n",
              "    </tr>\n",
              "    <tr>\n",
              "      <th>45</th>\n",
              "      <td>SouthCentral</td>\n",
              "      <td>45</td>\n",
              "    </tr>\n",
              "    <tr>\n",
              "      <th>46</th>\n",
              "      <td>Southeast</td>\n",
              "      <td>46</td>\n",
              "    </tr>\n",
              "    <tr>\n",
              "      <th>47</th>\n",
              "      <td>Spokane</td>\n",
              "      <td>47</td>\n",
              "    </tr>\n",
              "    <tr>\n",
              "      <th>48</th>\n",
              "      <td>StLouis</td>\n",
              "      <td>48</td>\n",
              "    </tr>\n",
              "    <tr>\n",
              "      <th>49</th>\n",
              "      <td>Syracuse</td>\n",
              "      <td>49</td>\n",
              "    </tr>\n",
              "    <tr>\n",
              "      <th>50</th>\n",
              "      <td>Tampa</td>\n",
              "      <td>50</td>\n",
              "    </tr>\n",
              "    <tr>\n",
              "      <th>51</th>\n",
              "      <td>West</td>\n",
              "      <td>51</td>\n",
              "    </tr>\n",
              "    <tr>\n",
              "      <th>52</th>\n",
              "      <td>WestTexNewMexico</td>\n",
              "      <td>52</td>\n",
              "    </tr>\n",
              "    <tr>\n",
              "      <th>53</th>\n",
              "      <td>Albany</td>\n",
              "      <td>0</td>\n",
              "    </tr>\n",
              "    <tr>\n",
              "      <th>54</th>\n",
              "      <td>Atlanta</td>\n",
              "      <td>1</td>\n",
              "    </tr>\n",
              "  </tbody>\n",
              "</table>\n",
              "</div>\n",
              "      <button class=\"colab-df-convert\" onclick=\"convertToInteractive('df-d555ede2-fc20-4645-b379-15c87431b7df')\"\n",
              "              title=\"Convert this dataframe to an interactive table.\"\n",
              "              style=\"display:none;\">\n",
              "        \n",
              "  <svg xmlns=\"http://www.w3.org/2000/svg\" height=\"24px\"viewBox=\"0 0 24 24\"\n",
              "       width=\"24px\">\n",
              "    <path d=\"M0 0h24v24H0V0z\" fill=\"none\"/>\n",
              "    <path d=\"M18.56 5.44l.94 2.06.94-2.06 2.06-.94-2.06-.94-.94-2.06-.94 2.06-2.06.94zm-11 1L8.5 8.5l.94-2.06 2.06-.94-2.06-.94L8.5 2.5l-.94 2.06-2.06.94zm10 10l.94 2.06.94-2.06 2.06-.94-2.06-.94-.94-2.06-.94 2.06-2.06.94z\"/><path d=\"M17.41 7.96l-1.37-1.37c-.4-.4-.92-.59-1.43-.59-.52 0-1.04.2-1.43.59L10.3 9.45l-7.72 7.72c-.78.78-.78 2.05 0 2.83L4 21.41c.39.39.9.59 1.41.59.51 0 1.02-.2 1.41-.59l7.78-7.78 2.81-2.81c.8-.78.8-2.07 0-2.86zM5.41 20L4 18.59l7.72-7.72 1.47 1.35L5.41 20z\"/>\n",
              "  </svg>\n",
              "      </button>\n",
              "      \n",
              "  <style>\n",
              "    .colab-df-container {\n",
              "      display:flex;\n",
              "      flex-wrap:wrap;\n",
              "      gap: 12px;\n",
              "    }\n",
              "\n",
              "    .colab-df-convert {\n",
              "      background-color: #E8F0FE;\n",
              "      border: none;\n",
              "      border-radius: 50%;\n",
              "      cursor: pointer;\n",
              "      display: none;\n",
              "      fill: #1967D2;\n",
              "      height: 32px;\n",
              "      padding: 0 0 0 0;\n",
              "      width: 32px;\n",
              "    }\n",
              "\n",
              "    .colab-df-convert:hover {\n",
              "      background-color: #E2EBFA;\n",
              "      box-shadow: 0px 1px 2px rgba(60, 64, 67, 0.3), 0px 1px 3px 1px rgba(60, 64, 67, 0.15);\n",
              "      fill: #174EA6;\n",
              "    }\n",
              "\n",
              "    [theme=dark] .colab-df-convert {\n",
              "      background-color: #3B4455;\n",
              "      fill: #D2E3FC;\n",
              "    }\n",
              "\n",
              "    [theme=dark] .colab-df-convert:hover {\n",
              "      background-color: #434B5C;\n",
              "      box-shadow: 0px 1px 3px 1px rgba(0, 0, 0, 0.15);\n",
              "      filter: drop-shadow(0px 1px 2px rgba(0, 0, 0, 0.3));\n",
              "      fill: #FFFFFF;\n",
              "    }\n",
              "  </style>\n",
              "\n",
              "      <script>\n",
              "        const buttonEl =\n",
              "          document.querySelector('#df-d555ede2-fc20-4645-b379-15c87431b7df button.colab-df-convert');\n",
              "        buttonEl.style.display =\n",
              "          google.colab.kernel.accessAllowed ? 'block' : 'none';\n",
              "\n",
              "        async function convertToInteractive(key) {\n",
              "          const element = document.querySelector('#df-d555ede2-fc20-4645-b379-15c87431b7df');\n",
              "          const dataTable =\n",
              "            await google.colab.kernel.invokeFunction('convertToInteractive',\n",
              "                                                     [key], {});\n",
              "          if (!dataTable) return;\n",
              "\n",
              "          const docLinkHtml = 'Like what you see? Visit the ' +\n",
              "            '<a target=\"_blank\" href=https://colab.research.google.com/notebooks/data_table.ipynb>data table notebook</a>'\n",
              "            + ' to learn more about interactive tables.';\n",
              "          element.innerHTML = '';\n",
              "          dataTable['output_type'] = 'display_data';\n",
              "          await google.colab.output.renderOutput(dataTable, element);\n",
              "          const docLink = document.createElement('div');\n",
              "          docLink.innerHTML = docLinkHtml;\n",
              "          element.appendChild(docLink);\n",
              "        }\n",
              "      </script>\n",
              "    </div>\n",
              "  </div>\n",
              "  "
            ],
            "text/plain": [
              "                 Actual  Predicted\n",
              "0                Albany          0\n",
              "1               Atlanta          1\n",
              "2   BaltimoreWashington          2\n",
              "3                 Boise          3\n",
              "4                Boston          4\n",
              "5      BuffaloRochester          5\n",
              "6            California          6\n",
              "7             Charlotte          7\n",
              "8               Chicago          8\n",
              "9      CincinnatiDayton          9\n",
              "10             Columbus         10\n",
              "11        DallasFtWorth         11\n",
              "12               Denver         12\n",
              "13              Detroit         13\n",
              "14          GrandRapids         14\n",
              "15           GreatLakes         15\n",
              "16   HarrisburgScranton         16\n",
              "17  HartfordSpringfield         17\n",
              "18              Houston         18\n",
              "19         Indianapolis         19\n",
              "20         Jacksonville         20\n",
              "21             LasVegas         21\n",
              "22           LosAngeles         22\n",
              "23           Louisville         23\n",
              "24    MiamiFtLauderdale         24\n",
              "25             Midsouth         25\n",
              "26            Nashville         26\n",
              "27     NewOrleansMobile         27\n",
              "28              NewYork         28\n",
              "29            Northeast         29\n",
              "30   NorthernNewEngland         30\n",
              "31              Orlando         31\n",
              "32         Philadelphia         32\n",
              "33        PhoenixTucson         33\n",
              "34           Pittsburgh         34\n",
              "35               Plains         35\n",
              "36             Portland         36\n",
              "37    RaleighGreensboro         37\n",
              "38      RichmondNorfolk         38\n",
              "39              Roanoke         39\n",
              "40           Sacramento         40\n",
              "41             SanDiego         41\n",
              "42         SanFrancisco         42\n",
              "43              Seattle         43\n",
              "44        SouthCarolina         44\n",
              "45         SouthCentral         45\n",
              "46            Southeast         46\n",
              "47              Spokane         47\n",
              "48              StLouis         48\n",
              "49             Syracuse         49\n",
              "50                Tampa         50\n",
              "51                 West         51\n",
              "52     WestTexNewMexico         52\n",
              "53               Albany          0\n",
              "54              Atlanta          1"
            ]
          },
          "execution_count": 49,
          "metadata": {},
          "output_type": "execute_result"
        }
      ],
      "source": [
        "# df = pd.DataFrame({'Actual':avo.region, \"Predicted\":x})\n",
        "# df.head(55)"
      ]
    },
    {
      "cell_type": "code",
      "execution_count": null,
      "metadata": {
        "id": "Ykm_b-J0pRQs"
      },
      "outputs": [],
      "source": [
        "avo.region = le.fit_transform(avo.region)\n",
        "avo.type = le.fit_transform(avo.type)"
      ]
    },
    {
      "cell_type": "code",
      "source": [
        "avo_without.region = le.fit_transform(avo_without.region)\n",
        "avo_without.type = le.fit_transform(avo_without.type)"
      ],
      "metadata": {
        "id": "QEbcpWXiVSAs"
      },
      "execution_count": null,
      "outputs": []
    },
    {
      "cell_type": "code",
      "execution_count": null,
      "metadata": {
        "colab": {
          "base_uri": "https://localhost:8080/",
          "height": 375
        },
        "id": "AcChIKczpWgV",
        "outputId": "dc60d279-db0d-493b-c95d-d9603ac91cd2"
      },
      "outputs": [
        {
          "output_type": "execute_result",
          "data": {
            "text/plain": [
              "   Unnamed: 0    X        Date  AveragePrice  Total.Volume      X4046  \\\n",
              "0         541  540  2015-02-08          0.99     10.844548   7.214777   \n",
              "1         542  541  2015-02-08          1.03     12.980532  12.840686   \n",
              "2         543  542  2015-02-08          1.09     13.647010  11.180323   \n",
              "3         544  543  2015-02-08          1.07     11.155833  10.901014   \n",
              "4         545  544  2015-02-08          1.04     13.321190   8.943139   \n",
              "\n",
              "       X4225      X4770  Total.Bags  Small.Bags  Large.Bags  type  region  \\\n",
              "0  10.574231   5.107459    9.270828    9.221785    6.235273     0       0   \n",
              "1   9.750599   6.266916   10.569833    9.800702    9.947398     0       1   \n",
              "2  13.226470  10.530477   12.105893   12.076951    8.549383     0       2   \n",
              "3   9.174634   8.022569    8.022625    7.226514    7.424016     0       3   \n",
              "4  13.113794   5.955138   11.573256   11.565569    6.703605     0       4   \n",
              "\n",
              "   Year  Month  Day  first_lag  Fifthlag_XL.Bag  Time_Index  \n",
              "0  2015      2    8   1.247037         1.477449           1  \n",
              "1  2015      2    8   1.247037         1.477449           1  \n",
              "2  2015      2    8   1.247037         1.477449           1  \n",
              "3  2015      2    8   1.247037         1.477449           1  \n",
              "4  2015      2    8   1.247037         1.477449           1  "
            ],
            "text/html": [
              "\n",
              "  <div id=\"df-9c7ef894-e4b0-45ba-9a0e-6223737ec8ee\">\n",
              "    <div class=\"colab-df-container\">\n",
              "      <div>\n",
              "<style scoped>\n",
              "    .dataframe tbody tr th:only-of-type {\n",
              "        vertical-align: middle;\n",
              "    }\n",
              "\n",
              "    .dataframe tbody tr th {\n",
              "        vertical-align: top;\n",
              "    }\n",
              "\n",
              "    .dataframe thead th {\n",
              "        text-align: right;\n",
              "    }\n",
              "</style>\n",
              "<table border=\"1\" class=\"dataframe\">\n",
              "  <thead>\n",
              "    <tr style=\"text-align: right;\">\n",
              "      <th></th>\n",
              "      <th>Unnamed: 0</th>\n",
              "      <th>X</th>\n",
              "      <th>Date</th>\n",
              "      <th>AveragePrice</th>\n",
              "      <th>Total.Volume</th>\n",
              "      <th>X4046</th>\n",
              "      <th>X4225</th>\n",
              "      <th>X4770</th>\n",
              "      <th>Total.Bags</th>\n",
              "      <th>Small.Bags</th>\n",
              "      <th>Large.Bags</th>\n",
              "      <th>type</th>\n",
              "      <th>region</th>\n",
              "      <th>Year</th>\n",
              "      <th>Month</th>\n",
              "      <th>Day</th>\n",
              "      <th>first_lag</th>\n",
              "      <th>Fifthlag_XL.Bag</th>\n",
              "      <th>Time_Index</th>\n",
              "    </tr>\n",
              "  </thead>\n",
              "  <tbody>\n",
              "    <tr>\n",
              "      <th>0</th>\n",
              "      <td>541</td>\n",
              "      <td>540</td>\n",
              "      <td>2015-02-08</td>\n",
              "      <td>0.99</td>\n",
              "      <td>10.844548</td>\n",
              "      <td>7.214777</td>\n",
              "      <td>10.574231</td>\n",
              "      <td>5.107459</td>\n",
              "      <td>9.270828</td>\n",
              "      <td>9.221785</td>\n",
              "      <td>6.235273</td>\n",
              "      <td>0</td>\n",
              "      <td>0</td>\n",
              "      <td>2015</td>\n",
              "      <td>2</td>\n",
              "      <td>8</td>\n",
              "      <td>1.247037</td>\n",
              "      <td>1.477449</td>\n",
              "      <td>1</td>\n",
              "    </tr>\n",
              "    <tr>\n",
              "      <th>1</th>\n",
              "      <td>542</td>\n",
              "      <td>541</td>\n",
              "      <td>2015-02-08</td>\n",
              "      <td>1.03</td>\n",
              "      <td>12.980532</td>\n",
              "      <td>12.840686</td>\n",
              "      <td>9.750599</td>\n",
              "      <td>6.266916</td>\n",
              "      <td>10.569833</td>\n",
              "      <td>9.800702</td>\n",
              "      <td>9.947398</td>\n",
              "      <td>0</td>\n",
              "      <td>1</td>\n",
              "      <td>2015</td>\n",
              "      <td>2</td>\n",
              "      <td>8</td>\n",
              "      <td>1.247037</td>\n",
              "      <td>1.477449</td>\n",
              "      <td>1</td>\n",
              "    </tr>\n",
              "    <tr>\n",
              "      <th>2</th>\n",
              "      <td>543</td>\n",
              "      <td>542</td>\n",
              "      <td>2015-02-08</td>\n",
              "      <td>1.09</td>\n",
              "      <td>13.647010</td>\n",
              "      <td>11.180323</td>\n",
              "      <td>13.226470</td>\n",
              "      <td>10.530477</td>\n",
              "      <td>12.105893</td>\n",
              "      <td>12.076951</td>\n",
              "      <td>8.549383</td>\n",
              "      <td>0</td>\n",
              "      <td>2</td>\n",
              "      <td>2015</td>\n",
              "      <td>2</td>\n",
              "      <td>8</td>\n",
              "      <td>1.247037</td>\n",
              "      <td>1.477449</td>\n",
              "      <td>1</td>\n",
              "    </tr>\n",
              "    <tr>\n",
              "      <th>3</th>\n",
              "      <td>544</td>\n",
              "      <td>543</td>\n",
              "      <td>2015-02-08</td>\n",
              "      <td>1.07</td>\n",
              "      <td>11.155833</td>\n",
              "      <td>10.901014</td>\n",
              "      <td>9.174634</td>\n",
              "      <td>8.022569</td>\n",
              "      <td>8.022625</td>\n",
              "      <td>7.226514</td>\n",
              "      <td>7.424016</td>\n",
              "      <td>0</td>\n",
              "      <td>3</td>\n",
              "      <td>2015</td>\n",
              "      <td>2</td>\n",
              "      <td>8</td>\n",
              "      <td>1.247037</td>\n",
              "      <td>1.477449</td>\n",
              "      <td>1</td>\n",
              "    </tr>\n",
              "    <tr>\n",
              "      <th>4</th>\n",
              "      <td>545</td>\n",
              "      <td>544</td>\n",
              "      <td>2015-02-08</td>\n",
              "      <td>1.04</td>\n",
              "      <td>13.321190</td>\n",
              "      <td>8.943139</td>\n",
              "      <td>13.113794</td>\n",
              "      <td>5.955138</td>\n",
              "      <td>11.573256</td>\n",
              "      <td>11.565569</td>\n",
              "      <td>6.703605</td>\n",
              "      <td>0</td>\n",
              "      <td>4</td>\n",
              "      <td>2015</td>\n",
              "      <td>2</td>\n",
              "      <td>8</td>\n",
              "      <td>1.247037</td>\n",
              "      <td>1.477449</td>\n",
              "      <td>1</td>\n",
              "    </tr>\n",
              "  </tbody>\n",
              "</table>\n",
              "</div>\n",
              "      <button class=\"colab-df-convert\" onclick=\"convertToInteractive('df-9c7ef894-e4b0-45ba-9a0e-6223737ec8ee')\"\n",
              "              title=\"Convert this dataframe to an interactive table.\"\n",
              "              style=\"display:none;\">\n",
              "        \n",
              "  <svg xmlns=\"http://www.w3.org/2000/svg\" height=\"24px\"viewBox=\"0 0 24 24\"\n",
              "       width=\"24px\">\n",
              "    <path d=\"M0 0h24v24H0V0z\" fill=\"none\"/>\n",
              "    <path d=\"M18.56 5.44l.94 2.06.94-2.06 2.06-.94-2.06-.94-.94-2.06-.94 2.06-2.06.94zm-11 1L8.5 8.5l.94-2.06 2.06-.94-2.06-.94L8.5 2.5l-.94 2.06-2.06.94zm10 10l.94 2.06.94-2.06 2.06-.94-2.06-.94-.94-2.06-.94 2.06-2.06.94z\"/><path d=\"M17.41 7.96l-1.37-1.37c-.4-.4-.92-.59-1.43-.59-.52 0-1.04.2-1.43.59L10.3 9.45l-7.72 7.72c-.78.78-.78 2.05 0 2.83L4 21.41c.39.39.9.59 1.41.59.51 0 1.02-.2 1.41-.59l7.78-7.78 2.81-2.81c.8-.78.8-2.07 0-2.86zM5.41 20L4 18.59l7.72-7.72 1.47 1.35L5.41 20z\"/>\n",
              "  </svg>\n",
              "      </button>\n",
              "      \n",
              "  <style>\n",
              "    .colab-df-container {\n",
              "      display:flex;\n",
              "      flex-wrap:wrap;\n",
              "      gap: 12px;\n",
              "    }\n",
              "\n",
              "    .colab-df-convert {\n",
              "      background-color: #E8F0FE;\n",
              "      border: none;\n",
              "      border-radius: 50%;\n",
              "      cursor: pointer;\n",
              "      display: none;\n",
              "      fill: #1967D2;\n",
              "      height: 32px;\n",
              "      padding: 0 0 0 0;\n",
              "      width: 32px;\n",
              "    }\n",
              "\n",
              "    .colab-df-convert:hover {\n",
              "      background-color: #E2EBFA;\n",
              "      box-shadow: 0px 1px 2px rgba(60, 64, 67, 0.3), 0px 1px 3px 1px rgba(60, 64, 67, 0.15);\n",
              "      fill: #174EA6;\n",
              "    }\n",
              "\n",
              "    [theme=dark] .colab-df-convert {\n",
              "      background-color: #3B4455;\n",
              "      fill: #D2E3FC;\n",
              "    }\n",
              "\n",
              "    [theme=dark] .colab-df-convert:hover {\n",
              "      background-color: #434B5C;\n",
              "      box-shadow: 0px 1px 3px 1px rgba(0, 0, 0, 0.15);\n",
              "      filter: drop-shadow(0px 1px 2px rgba(0, 0, 0, 0.3));\n",
              "      fill: #FFFFFF;\n",
              "    }\n",
              "  </style>\n",
              "\n",
              "      <script>\n",
              "        const buttonEl =\n",
              "          document.querySelector('#df-9c7ef894-e4b0-45ba-9a0e-6223737ec8ee button.colab-df-convert');\n",
              "        buttonEl.style.display =\n",
              "          google.colab.kernel.accessAllowed ? 'block' : 'none';\n",
              "\n",
              "        async function convertToInteractive(key) {\n",
              "          const element = document.querySelector('#df-9c7ef894-e4b0-45ba-9a0e-6223737ec8ee');\n",
              "          const dataTable =\n",
              "            await google.colab.kernel.invokeFunction('convertToInteractive',\n",
              "                                                     [key], {});\n",
              "          if (!dataTable) return;\n",
              "\n",
              "          const docLinkHtml = 'Like what you see? Visit the ' +\n",
              "            '<a target=\"_blank\" href=https://colab.research.google.com/notebooks/data_table.ipynb>data table notebook</a>'\n",
              "            + ' to learn more about interactive tables.';\n",
              "          element.innerHTML = '';\n",
              "          dataTable['output_type'] = 'display_data';\n",
              "          await google.colab.output.renderOutput(dataTable, element);\n",
              "          const docLink = document.createElement('div');\n",
              "          docLink.innerHTML = docLinkHtml;\n",
              "          element.appendChild(docLink);\n",
              "        }\n",
              "      </script>\n",
              "    </div>\n",
              "  </div>\n",
              "  "
            ]
          },
          "metadata": {},
          "execution_count": 8
        }
      ],
      "source": [
        "avo.head()"
      ]
    },
    {
      "cell_type": "code",
      "execution_count": null,
      "metadata": {
        "colab": {
          "base_uri": "https://localhost:8080/"
        },
        "id": "hGxcO91C1FBy",
        "outputId": "2720f3c3-cca3-40dd-deb5-3be39373dba4"
      },
      "outputs": [
        {
          "data": {
            "text/plain": [
              "{0: 0, 1: 1}"
            ]
          },
          "execution_count": 29,
          "metadata": {},
          "output_type": "execute_result"
        }
      ],
      "source": [
        "# dict(zip(le.classes_,range(len(le.classes_))))"
      ]
    },
    {
      "cell_type": "code",
      "execution_count": null,
      "metadata": {
        "colab": {
          "base_uri": "https://localhost:8080/"
        },
        "id": "6yN5Z5UxpjDs",
        "outputId": "5cafbbbc-d0fb-4496-9976-ccb6acb0c741"
      },
      "outputs": [
        {
          "output_type": "stream",
          "name": "stdout",
          "text": [
            "<class 'pandas.core.frame.DataFrame'>\n",
            "RangeIndex: 17506 entries, 0 to 17505\n",
            "Data columns (total 19 columns):\n",
            " #   Column           Non-Null Count  Dtype  \n",
            "---  ------           --------------  -----  \n",
            " 0   Unnamed: 0       17506 non-null  int64  \n",
            " 1   X                17506 non-null  int64  \n",
            " 2   Date             17506 non-null  object \n",
            " 3   AveragePrice     17506 non-null  float64\n",
            " 4   Total.Volume     17506 non-null  float64\n",
            " 5   X4046            17506 non-null  float64\n",
            " 6   X4225            17506 non-null  float64\n",
            " 7   X4770            17506 non-null  float64\n",
            " 8   Total.Bags       17506 non-null  float64\n",
            " 9   Small.Bags       17506 non-null  float64\n",
            " 10  Large.Bags       17506 non-null  float64\n",
            " 11  type             17506 non-null  int64  \n",
            " 12  region           17506 non-null  int64  \n",
            " 13  Year             17506 non-null  int64  \n",
            " 14  Month            17506 non-null  int64  \n",
            " 15  Day              17506 non-null  int64  \n",
            " 16  first_lag        17506 non-null  float64\n",
            " 17  Fifthlag_XL.Bag  17506 non-null  float64\n",
            " 18  Time_Index       17506 non-null  int64  \n",
            "dtypes: float64(10), int64(8), object(1)\n",
            "memory usage: 2.5+ MB\n"
          ]
        }
      ],
      "source": [
        "avo.info()"
      ]
    },
    {
      "cell_type": "code",
      "source": [
        "avo_without.info()"
      ],
      "metadata": {
        "colab": {
          "base_uri": "https://localhost:8080/"
        },
        "id": "6Rcf3JA0VbBC",
        "outputId": "afac878a-9bf5-4852-f8a6-33e67fc5f109"
      },
      "execution_count": null,
      "outputs": [
        {
          "output_type": "stream",
          "name": "stdout",
          "text": [
            "<class 'pandas.core.frame.DataFrame'>\n",
            "RangeIndex: 17709 entries, 0 to 17708\n",
            "Data columns (total 19 columns):\n",
            " #   Column           Non-Null Count  Dtype  \n",
            "---  ------           --------------  -----  \n",
            " 0   Unnamed: 0       17709 non-null  int64  \n",
            " 1   X                17709 non-null  int64  \n",
            " 2   Date             17709 non-null  object \n",
            " 3   AveragePrice     17709 non-null  float64\n",
            " 4   Total.Volume     17709 non-null  float64\n",
            " 5   X4046            17709 non-null  float64\n",
            " 6   X4225            17709 non-null  float64\n",
            " 7   X4770            17709 non-null  float64\n",
            " 8   Total.Bags       17709 non-null  float64\n",
            " 9   Small.Bags       17709 non-null  float64\n",
            " 10  Large.Bags       17709 non-null  float64\n",
            " 11  type             17709 non-null  int64  \n",
            " 12  region           17709 non-null  int64  \n",
            " 13  Year             17709 non-null  int64  \n",
            " 14  Month            17709 non-null  int64  \n",
            " 15  Day              17709 non-null  int64  \n",
            " 16  first_lag        17709 non-null  float64\n",
            " 17  Fifthlag_XL.Bag  17709 non-null  float64\n",
            " 18  Time_Index       17709 non-null  int64  \n",
            "dtypes: float64(10), int64(8), object(1)\n",
            "memory usage: 2.6+ MB\n"
          ]
        }
      ]
    },
    {
      "cell_type": "code",
      "execution_count": null,
      "metadata": {
        "id": "ASoOpAoqZwWU"
      },
      "outputs": [],
      "source": [
        "avo.drop(['Unnamed: 0', 'X', 'Date'], axis=1, inplace=True)"
      ]
    },
    {
      "cell_type": "code",
      "source": [
        "avo_without.drop(['Unnamed: 0', 'X', 'Date'], axis=1, inplace=True)"
      ],
      "metadata": {
        "id": "3ZlSQy68Vedt"
      },
      "execution_count": null,
      "outputs": []
    },
    {
      "cell_type": "markdown",
      "metadata": {
        "id": "AJ_2Cpt9r2Tj"
      },
      "source": [
        "## Feature selection"
      ]
    },
    {
      "cell_type": "code",
      "execution_count": null,
      "metadata": {
        "id": "30UwO0k2r1wd"
      },
      "outputs": [],
      "source": [
        "# Seperating the independent variables by dropping target variable 'AveragePrice'\n",
        "x = avo.drop('AveragePrice', axis=1)"
      ]
    },
    {
      "cell_type": "code",
      "source": [
        "a =  avo_without.drop('AveragePrice', axis=1)"
      ],
      "metadata": {
        "id": "h2-MJz73Vjky"
      },
      "execution_count": null,
      "outputs": []
    },
    {
      "cell_type": "code",
      "source": [
        "a"
      ],
      "metadata": {
        "colab": {
          "base_uri": "https://localhost:8080/",
          "height": 423
        },
        "id": "aBpU9M69Vnt0",
        "outputId": "eff6cfcb-05ee-4127-e0bc-8e57d9efea1f"
      },
      "execution_count": null,
      "outputs": [
        {
          "output_type": "execute_result",
          "data": {
            "text/plain": [
              "       Total.Volume      X4046      X4225      X4770  Total.Bags  Small.Bags  \\\n",
              "0         10.844548   7.214777  10.574231   5.107459    9.270828    9.221785   \n",
              "1         12.980532  12.840686   9.750599   6.266916   10.569833    9.800702   \n",
              "2         13.647010  11.180323  13.226470  10.530477   12.105893   12.076951   \n",
              "3         11.155833  10.901014   9.174634   8.022569    8.022625    7.226514   \n",
              "4         13.321190   8.943139  13.113794   5.955138   11.573256   11.565569   \n",
              "...             ...        ...        ...        ...         ...         ...   \n",
              "17704      9.582143   4.393832   5.013099   0.693147    9.566486    9.209771   \n",
              "17705      9.213185   4.942713   6.653147   0.693147    9.118129    9.013208   \n",
              "17706     14.260175  11.703628  12.745063   6.977505   13.905226   13.713231   \n",
              "17707     12.512539  10.203528  11.262711   4.783818   12.024250   11.374927   \n",
              "17708      9.635830   7.752464   7.684168   0.693147    9.288083    9.265945   \n",
              "\n",
              "       Large.Bags  type  region  Year  Month  Day  first_lag  Fifthlag_XL.Bag  \\\n",
              "0        6.235273     0       0  2015      2    8   1.247037         1.477449   \n",
              "1        9.947398     0       1  2015      2    8   1.247037         1.477449   \n",
              "2        8.549383     0       2  2015      2    8   1.247037         1.477449   \n",
              "3        7.424016     0       3  2015      2    8   1.247037         1.477449   \n",
              "4        6.703605     0       4  2015      2    8   1.247037         1.477449   \n",
              "...           ...   ...     ...   ...    ...  ...        ...              ...   \n",
              "17704    8.363072     1      49  2018      3   25   1.313704         3.830688   \n",
              "17705    6.813774     1      50  2018      3   25   1.313704         3.830688   \n",
              "17706   12.159735     1      51  2018      3   25   1.313704         3.830688   \n",
              "17707   11.283479     1      52  2018      3   25   1.313704         3.830688   \n",
              "17708    5.474956     1      53  2018      3   25   1.313704         3.830688   \n",
              "\n",
              "       Time_Index  \n",
              "0               1  \n",
              "1               1  \n",
              "2               1  \n",
              "3               1  \n",
              "4               1  \n",
              "...           ...  \n",
              "17704         164  \n",
              "17705         164  \n",
              "17706         164  \n",
              "17707         164  \n",
              "17708         164  \n",
              "\n",
              "[17709 rows x 15 columns]"
            ],
            "text/html": [
              "\n",
              "  <div id=\"df-8e572d3f-e5ae-4af5-a5a4-6ad710db95ae\">\n",
              "    <div class=\"colab-df-container\">\n",
              "      <div>\n",
              "<style scoped>\n",
              "    .dataframe tbody tr th:only-of-type {\n",
              "        vertical-align: middle;\n",
              "    }\n",
              "\n",
              "    .dataframe tbody tr th {\n",
              "        vertical-align: top;\n",
              "    }\n",
              "\n",
              "    .dataframe thead th {\n",
              "        text-align: right;\n",
              "    }\n",
              "</style>\n",
              "<table border=\"1\" class=\"dataframe\">\n",
              "  <thead>\n",
              "    <tr style=\"text-align: right;\">\n",
              "      <th></th>\n",
              "      <th>Total.Volume</th>\n",
              "      <th>X4046</th>\n",
              "      <th>X4225</th>\n",
              "      <th>X4770</th>\n",
              "      <th>Total.Bags</th>\n",
              "      <th>Small.Bags</th>\n",
              "      <th>Large.Bags</th>\n",
              "      <th>type</th>\n",
              "      <th>region</th>\n",
              "      <th>Year</th>\n",
              "      <th>Month</th>\n",
              "      <th>Day</th>\n",
              "      <th>first_lag</th>\n",
              "      <th>Fifthlag_XL.Bag</th>\n",
              "      <th>Time_Index</th>\n",
              "    </tr>\n",
              "  </thead>\n",
              "  <tbody>\n",
              "    <tr>\n",
              "      <th>0</th>\n",
              "      <td>10.844548</td>\n",
              "      <td>7.214777</td>\n",
              "      <td>10.574231</td>\n",
              "      <td>5.107459</td>\n",
              "      <td>9.270828</td>\n",
              "      <td>9.221785</td>\n",
              "      <td>6.235273</td>\n",
              "      <td>0</td>\n",
              "      <td>0</td>\n",
              "      <td>2015</td>\n",
              "      <td>2</td>\n",
              "      <td>8</td>\n",
              "      <td>1.247037</td>\n",
              "      <td>1.477449</td>\n",
              "      <td>1</td>\n",
              "    </tr>\n",
              "    <tr>\n",
              "      <th>1</th>\n",
              "      <td>12.980532</td>\n",
              "      <td>12.840686</td>\n",
              "      <td>9.750599</td>\n",
              "      <td>6.266916</td>\n",
              "      <td>10.569833</td>\n",
              "      <td>9.800702</td>\n",
              "      <td>9.947398</td>\n",
              "      <td>0</td>\n",
              "      <td>1</td>\n",
              "      <td>2015</td>\n",
              "      <td>2</td>\n",
              "      <td>8</td>\n",
              "      <td>1.247037</td>\n",
              "      <td>1.477449</td>\n",
              "      <td>1</td>\n",
              "    </tr>\n",
              "    <tr>\n",
              "      <th>2</th>\n",
              "      <td>13.647010</td>\n",
              "      <td>11.180323</td>\n",
              "      <td>13.226470</td>\n",
              "      <td>10.530477</td>\n",
              "      <td>12.105893</td>\n",
              "      <td>12.076951</td>\n",
              "      <td>8.549383</td>\n",
              "      <td>0</td>\n",
              "      <td>2</td>\n",
              "      <td>2015</td>\n",
              "      <td>2</td>\n",
              "      <td>8</td>\n",
              "      <td>1.247037</td>\n",
              "      <td>1.477449</td>\n",
              "      <td>1</td>\n",
              "    </tr>\n",
              "    <tr>\n",
              "      <th>3</th>\n",
              "      <td>11.155833</td>\n",
              "      <td>10.901014</td>\n",
              "      <td>9.174634</td>\n",
              "      <td>8.022569</td>\n",
              "      <td>8.022625</td>\n",
              "      <td>7.226514</td>\n",
              "      <td>7.424016</td>\n",
              "      <td>0</td>\n",
              "      <td>3</td>\n",
              "      <td>2015</td>\n",
              "      <td>2</td>\n",
              "      <td>8</td>\n",
              "      <td>1.247037</td>\n",
              "      <td>1.477449</td>\n",
              "      <td>1</td>\n",
              "    </tr>\n",
              "    <tr>\n",
              "      <th>4</th>\n",
              "      <td>13.321190</td>\n",
              "      <td>8.943139</td>\n",
              "      <td>13.113794</td>\n",
              "      <td>5.955138</td>\n",
              "      <td>11.573256</td>\n",
              "      <td>11.565569</td>\n",
              "      <td>6.703605</td>\n",
              "      <td>0</td>\n",
              "      <td>4</td>\n",
              "      <td>2015</td>\n",
              "      <td>2</td>\n",
              "      <td>8</td>\n",
              "      <td>1.247037</td>\n",
              "      <td>1.477449</td>\n",
              "      <td>1</td>\n",
              "    </tr>\n",
              "    <tr>\n",
              "      <th>...</th>\n",
              "      <td>...</td>\n",
              "      <td>...</td>\n",
              "      <td>...</td>\n",
              "      <td>...</td>\n",
              "      <td>...</td>\n",
              "      <td>...</td>\n",
              "      <td>...</td>\n",
              "      <td>...</td>\n",
              "      <td>...</td>\n",
              "      <td>...</td>\n",
              "      <td>...</td>\n",
              "      <td>...</td>\n",
              "      <td>...</td>\n",
              "      <td>...</td>\n",
              "      <td>...</td>\n",
              "    </tr>\n",
              "    <tr>\n",
              "      <th>17704</th>\n",
              "      <td>9.582143</td>\n",
              "      <td>4.393832</td>\n",
              "      <td>5.013099</td>\n",
              "      <td>0.693147</td>\n",
              "      <td>9.566486</td>\n",
              "      <td>9.209771</td>\n",
              "      <td>8.363072</td>\n",
              "      <td>1</td>\n",
              "      <td>49</td>\n",
              "      <td>2018</td>\n",
              "      <td>3</td>\n",
              "      <td>25</td>\n",
              "      <td>1.313704</td>\n",
              "      <td>3.830688</td>\n",
              "      <td>164</td>\n",
              "    </tr>\n",
              "    <tr>\n",
              "      <th>17705</th>\n",
              "      <td>9.213185</td>\n",
              "      <td>4.942713</td>\n",
              "      <td>6.653147</td>\n",
              "      <td>0.693147</td>\n",
              "      <td>9.118129</td>\n",
              "      <td>9.013208</td>\n",
              "      <td>6.813774</td>\n",
              "      <td>1</td>\n",
              "      <td>50</td>\n",
              "      <td>2018</td>\n",
              "      <td>3</td>\n",
              "      <td>25</td>\n",
              "      <td>1.313704</td>\n",
              "      <td>3.830688</td>\n",
              "      <td>164</td>\n",
              "    </tr>\n",
              "    <tr>\n",
              "      <th>17706</th>\n",
              "      <td>14.260175</td>\n",
              "      <td>11.703628</td>\n",
              "      <td>12.745063</td>\n",
              "      <td>6.977505</td>\n",
              "      <td>13.905226</td>\n",
              "      <td>13.713231</td>\n",
              "      <td>12.159735</td>\n",
              "      <td>1</td>\n",
              "      <td>51</td>\n",
              "      <td>2018</td>\n",
              "      <td>3</td>\n",
              "      <td>25</td>\n",
              "      <td>1.313704</td>\n",
              "      <td>3.830688</td>\n",
              "      <td>164</td>\n",
              "    </tr>\n",
              "    <tr>\n",
              "      <th>17707</th>\n",
              "      <td>12.512539</td>\n",
              "      <td>10.203528</td>\n",
              "      <td>11.262711</td>\n",
              "      <td>4.783818</td>\n",
              "      <td>12.024250</td>\n",
              "      <td>11.374927</td>\n",
              "      <td>11.283479</td>\n",
              "      <td>1</td>\n",
              "      <td>52</td>\n",
              "      <td>2018</td>\n",
              "      <td>3</td>\n",
              "      <td>25</td>\n",
              "      <td>1.313704</td>\n",
              "      <td>3.830688</td>\n",
              "      <td>164</td>\n",
              "    </tr>\n",
              "    <tr>\n",
              "      <th>17708</th>\n",
              "      <td>9.635830</td>\n",
              "      <td>7.752464</td>\n",
              "      <td>7.684168</td>\n",
              "      <td>0.693147</td>\n",
              "      <td>9.288083</td>\n",
              "      <td>9.265945</td>\n",
              "      <td>5.474956</td>\n",
              "      <td>1</td>\n",
              "      <td>53</td>\n",
              "      <td>2018</td>\n",
              "      <td>3</td>\n",
              "      <td>25</td>\n",
              "      <td>1.313704</td>\n",
              "      <td>3.830688</td>\n",
              "      <td>164</td>\n",
              "    </tr>\n",
              "  </tbody>\n",
              "</table>\n",
              "<p>17709 rows × 15 columns</p>\n",
              "</div>\n",
              "      <button class=\"colab-df-convert\" onclick=\"convertToInteractive('df-8e572d3f-e5ae-4af5-a5a4-6ad710db95ae')\"\n",
              "              title=\"Convert this dataframe to an interactive table.\"\n",
              "              style=\"display:none;\">\n",
              "        \n",
              "  <svg xmlns=\"http://www.w3.org/2000/svg\" height=\"24px\"viewBox=\"0 0 24 24\"\n",
              "       width=\"24px\">\n",
              "    <path d=\"M0 0h24v24H0V0z\" fill=\"none\"/>\n",
              "    <path d=\"M18.56 5.44l.94 2.06.94-2.06 2.06-.94-2.06-.94-.94-2.06-.94 2.06-2.06.94zm-11 1L8.5 8.5l.94-2.06 2.06-.94-2.06-.94L8.5 2.5l-.94 2.06-2.06.94zm10 10l.94 2.06.94-2.06 2.06-.94-2.06-.94-.94-2.06-.94 2.06-2.06.94z\"/><path d=\"M17.41 7.96l-1.37-1.37c-.4-.4-.92-.59-1.43-.59-.52 0-1.04.2-1.43.59L10.3 9.45l-7.72 7.72c-.78.78-.78 2.05 0 2.83L4 21.41c.39.39.9.59 1.41.59.51 0 1.02-.2 1.41-.59l7.78-7.78 2.81-2.81c.8-.78.8-2.07 0-2.86zM5.41 20L4 18.59l7.72-7.72 1.47 1.35L5.41 20z\"/>\n",
              "  </svg>\n",
              "      </button>\n",
              "      \n",
              "  <style>\n",
              "    .colab-df-container {\n",
              "      display:flex;\n",
              "      flex-wrap:wrap;\n",
              "      gap: 12px;\n",
              "    }\n",
              "\n",
              "    .colab-df-convert {\n",
              "      background-color: #E8F0FE;\n",
              "      border: none;\n",
              "      border-radius: 50%;\n",
              "      cursor: pointer;\n",
              "      display: none;\n",
              "      fill: #1967D2;\n",
              "      height: 32px;\n",
              "      padding: 0 0 0 0;\n",
              "      width: 32px;\n",
              "    }\n",
              "\n",
              "    .colab-df-convert:hover {\n",
              "      background-color: #E2EBFA;\n",
              "      box-shadow: 0px 1px 2px rgba(60, 64, 67, 0.3), 0px 1px 3px 1px rgba(60, 64, 67, 0.15);\n",
              "      fill: #174EA6;\n",
              "    }\n",
              "\n",
              "    [theme=dark] .colab-df-convert {\n",
              "      background-color: #3B4455;\n",
              "      fill: #D2E3FC;\n",
              "    }\n",
              "\n",
              "    [theme=dark] .colab-df-convert:hover {\n",
              "      background-color: #434B5C;\n",
              "      box-shadow: 0px 1px 3px 1px rgba(0, 0, 0, 0.15);\n",
              "      filter: drop-shadow(0px 1px 2px rgba(0, 0, 0, 0.3));\n",
              "      fill: #FFFFFF;\n",
              "    }\n",
              "  </style>\n",
              "\n",
              "      <script>\n",
              "        const buttonEl =\n",
              "          document.querySelector('#df-8e572d3f-e5ae-4af5-a5a4-6ad710db95ae button.colab-df-convert');\n",
              "        buttonEl.style.display =\n",
              "          google.colab.kernel.accessAllowed ? 'block' : 'none';\n",
              "\n",
              "        async function convertToInteractive(key) {\n",
              "          const element = document.querySelector('#df-8e572d3f-e5ae-4af5-a5a4-6ad710db95ae');\n",
              "          const dataTable =\n",
              "            await google.colab.kernel.invokeFunction('convertToInteractive',\n",
              "                                                     [key], {});\n",
              "          if (!dataTable) return;\n",
              "\n",
              "          const docLinkHtml = 'Like what you see? Visit the ' +\n",
              "            '<a target=\"_blank\" href=https://colab.research.google.com/notebooks/data_table.ipynb>data table notebook</a>'\n",
              "            + ' to learn more about interactive tables.';\n",
              "          element.innerHTML = '';\n",
              "          dataTable['output_type'] = 'display_data';\n",
              "          await google.colab.output.renderOutput(dataTable, element);\n",
              "          const docLink = document.createElement('div');\n",
              "          docLink.innerHTML = docLinkHtml;\n",
              "          element.appendChild(docLink);\n",
              "        }\n",
              "      </script>\n",
              "    </div>\n",
              "  </div>\n",
              "  "
            ]
          },
          "metadata": {},
          "execution_count": 47
        }
      ]
    },
    {
      "cell_type": "code",
      "execution_count": null,
      "metadata": {
        "colab": {
          "base_uri": "https://localhost:8080/",
          "height": 423
        },
        "id": "es0I6RMmsQmz",
        "outputId": "51fcddc4-7167-4c59-cb69-cd255cffe6e5"
      },
      "outputs": [
        {
          "output_type": "execute_result",
          "data": {
            "text/plain": [
              "       Total.Volume      X4046      X4225      X4770  Total.Bags  Small.Bags  \\\n",
              "0         10.844548   7.214777  10.574231   5.107459    9.270828    9.221785   \n",
              "1         12.980532  12.840686   9.750599   6.266916   10.569833    9.800702   \n",
              "2         13.647010  11.180323  13.226470  10.530477   12.105893   12.076951   \n",
              "3         11.155833  10.901014   9.174634   8.022569    8.022625    7.226514   \n",
              "4         13.321190   8.943139  13.113794   5.955138   11.573256   11.565569   \n",
              "...             ...        ...        ...        ...         ...         ...   \n",
              "17501      9.582143   4.393832   5.013099   0.693147    9.566486    9.209771   \n",
              "17502      9.213185   4.942713   6.653147   0.693147    9.118129    9.013208   \n",
              "17503     14.260175  11.703628  12.745063   6.977505   13.905226   13.713231   \n",
              "17504     12.512539  10.203528  11.262711   4.783818   12.024250   11.374927   \n",
              "17505      9.635830   7.752464   7.684168   0.693147    9.288083    9.265945   \n",
              "\n",
              "       Large.Bags  type  region  Year  Month  Day  first_lag  Fifthlag_XL.Bag  \\\n",
              "0        6.235273     0       0  2015      2    8   1.247037         1.477449   \n",
              "1        9.947398     0       1  2015      2    8   1.247037         1.477449   \n",
              "2        8.549383     0       2  2015      2    8   1.247037         1.477449   \n",
              "3        7.424016     0       3  2015      2    8   1.247037         1.477449   \n",
              "4        6.703605     0       4  2015      2    8   1.247037         1.477449   \n",
              "...           ...   ...     ...   ...    ...  ...        ...              ...   \n",
              "17501    8.363072     1      49  2018      3   25   1.313704         3.830688   \n",
              "17502    6.813774     1      50  2018      3   25   1.313704         3.830688   \n",
              "17503   12.159735     1      51  2018      3   25   1.313704         3.830688   \n",
              "17504   11.283479     1      52  2018      3   25   1.313704         3.830688   \n",
              "17505    5.474956     1      53  2018      3   25   1.313704         3.830688   \n",
              "\n",
              "       Time_Index  \n",
              "0               1  \n",
              "1               1  \n",
              "2               1  \n",
              "3               1  \n",
              "4               1  \n",
              "...           ...  \n",
              "17501         164  \n",
              "17502         164  \n",
              "17503         164  \n",
              "17504         164  \n",
              "17505         164  \n",
              "\n",
              "[17506 rows x 15 columns]"
            ],
            "text/html": [
              "\n",
              "  <div id=\"df-405aaf1c-fb1a-4e40-8a00-59490185b000\">\n",
              "    <div class=\"colab-df-container\">\n",
              "      <div>\n",
              "<style scoped>\n",
              "    .dataframe tbody tr th:only-of-type {\n",
              "        vertical-align: middle;\n",
              "    }\n",
              "\n",
              "    .dataframe tbody tr th {\n",
              "        vertical-align: top;\n",
              "    }\n",
              "\n",
              "    .dataframe thead th {\n",
              "        text-align: right;\n",
              "    }\n",
              "</style>\n",
              "<table border=\"1\" class=\"dataframe\">\n",
              "  <thead>\n",
              "    <tr style=\"text-align: right;\">\n",
              "      <th></th>\n",
              "      <th>Total.Volume</th>\n",
              "      <th>X4046</th>\n",
              "      <th>X4225</th>\n",
              "      <th>X4770</th>\n",
              "      <th>Total.Bags</th>\n",
              "      <th>Small.Bags</th>\n",
              "      <th>Large.Bags</th>\n",
              "      <th>type</th>\n",
              "      <th>region</th>\n",
              "      <th>Year</th>\n",
              "      <th>Month</th>\n",
              "      <th>Day</th>\n",
              "      <th>first_lag</th>\n",
              "      <th>Fifthlag_XL.Bag</th>\n",
              "      <th>Time_Index</th>\n",
              "    </tr>\n",
              "  </thead>\n",
              "  <tbody>\n",
              "    <tr>\n",
              "      <th>0</th>\n",
              "      <td>10.844548</td>\n",
              "      <td>7.214777</td>\n",
              "      <td>10.574231</td>\n",
              "      <td>5.107459</td>\n",
              "      <td>9.270828</td>\n",
              "      <td>9.221785</td>\n",
              "      <td>6.235273</td>\n",
              "      <td>0</td>\n",
              "      <td>0</td>\n",
              "      <td>2015</td>\n",
              "      <td>2</td>\n",
              "      <td>8</td>\n",
              "      <td>1.247037</td>\n",
              "      <td>1.477449</td>\n",
              "      <td>1</td>\n",
              "    </tr>\n",
              "    <tr>\n",
              "      <th>1</th>\n",
              "      <td>12.980532</td>\n",
              "      <td>12.840686</td>\n",
              "      <td>9.750599</td>\n",
              "      <td>6.266916</td>\n",
              "      <td>10.569833</td>\n",
              "      <td>9.800702</td>\n",
              "      <td>9.947398</td>\n",
              "      <td>0</td>\n",
              "      <td>1</td>\n",
              "      <td>2015</td>\n",
              "      <td>2</td>\n",
              "      <td>8</td>\n",
              "      <td>1.247037</td>\n",
              "      <td>1.477449</td>\n",
              "      <td>1</td>\n",
              "    </tr>\n",
              "    <tr>\n",
              "      <th>2</th>\n",
              "      <td>13.647010</td>\n",
              "      <td>11.180323</td>\n",
              "      <td>13.226470</td>\n",
              "      <td>10.530477</td>\n",
              "      <td>12.105893</td>\n",
              "      <td>12.076951</td>\n",
              "      <td>8.549383</td>\n",
              "      <td>0</td>\n",
              "      <td>2</td>\n",
              "      <td>2015</td>\n",
              "      <td>2</td>\n",
              "      <td>8</td>\n",
              "      <td>1.247037</td>\n",
              "      <td>1.477449</td>\n",
              "      <td>1</td>\n",
              "    </tr>\n",
              "    <tr>\n",
              "      <th>3</th>\n",
              "      <td>11.155833</td>\n",
              "      <td>10.901014</td>\n",
              "      <td>9.174634</td>\n",
              "      <td>8.022569</td>\n",
              "      <td>8.022625</td>\n",
              "      <td>7.226514</td>\n",
              "      <td>7.424016</td>\n",
              "      <td>0</td>\n",
              "      <td>3</td>\n",
              "      <td>2015</td>\n",
              "      <td>2</td>\n",
              "      <td>8</td>\n",
              "      <td>1.247037</td>\n",
              "      <td>1.477449</td>\n",
              "      <td>1</td>\n",
              "    </tr>\n",
              "    <tr>\n",
              "      <th>4</th>\n",
              "      <td>13.321190</td>\n",
              "      <td>8.943139</td>\n",
              "      <td>13.113794</td>\n",
              "      <td>5.955138</td>\n",
              "      <td>11.573256</td>\n",
              "      <td>11.565569</td>\n",
              "      <td>6.703605</td>\n",
              "      <td>0</td>\n",
              "      <td>4</td>\n",
              "      <td>2015</td>\n",
              "      <td>2</td>\n",
              "      <td>8</td>\n",
              "      <td>1.247037</td>\n",
              "      <td>1.477449</td>\n",
              "      <td>1</td>\n",
              "    </tr>\n",
              "    <tr>\n",
              "      <th>...</th>\n",
              "      <td>...</td>\n",
              "      <td>...</td>\n",
              "      <td>...</td>\n",
              "      <td>...</td>\n",
              "      <td>...</td>\n",
              "      <td>...</td>\n",
              "      <td>...</td>\n",
              "      <td>...</td>\n",
              "      <td>...</td>\n",
              "      <td>...</td>\n",
              "      <td>...</td>\n",
              "      <td>...</td>\n",
              "      <td>...</td>\n",
              "      <td>...</td>\n",
              "      <td>...</td>\n",
              "    </tr>\n",
              "    <tr>\n",
              "      <th>17501</th>\n",
              "      <td>9.582143</td>\n",
              "      <td>4.393832</td>\n",
              "      <td>5.013099</td>\n",
              "      <td>0.693147</td>\n",
              "      <td>9.566486</td>\n",
              "      <td>9.209771</td>\n",
              "      <td>8.363072</td>\n",
              "      <td>1</td>\n",
              "      <td>49</td>\n",
              "      <td>2018</td>\n",
              "      <td>3</td>\n",
              "      <td>25</td>\n",
              "      <td>1.313704</td>\n",
              "      <td>3.830688</td>\n",
              "      <td>164</td>\n",
              "    </tr>\n",
              "    <tr>\n",
              "      <th>17502</th>\n",
              "      <td>9.213185</td>\n",
              "      <td>4.942713</td>\n",
              "      <td>6.653147</td>\n",
              "      <td>0.693147</td>\n",
              "      <td>9.118129</td>\n",
              "      <td>9.013208</td>\n",
              "      <td>6.813774</td>\n",
              "      <td>1</td>\n",
              "      <td>50</td>\n",
              "      <td>2018</td>\n",
              "      <td>3</td>\n",
              "      <td>25</td>\n",
              "      <td>1.313704</td>\n",
              "      <td>3.830688</td>\n",
              "      <td>164</td>\n",
              "    </tr>\n",
              "    <tr>\n",
              "      <th>17503</th>\n",
              "      <td>14.260175</td>\n",
              "      <td>11.703628</td>\n",
              "      <td>12.745063</td>\n",
              "      <td>6.977505</td>\n",
              "      <td>13.905226</td>\n",
              "      <td>13.713231</td>\n",
              "      <td>12.159735</td>\n",
              "      <td>1</td>\n",
              "      <td>51</td>\n",
              "      <td>2018</td>\n",
              "      <td>3</td>\n",
              "      <td>25</td>\n",
              "      <td>1.313704</td>\n",
              "      <td>3.830688</td>\n",
              "      <td>164</td>\n",
              "    </tr>\n",
              "    <tr>\n",
              "      <th>17504</th>\n",
              "      <td>12.512539</td>\n",
              "      <td>10.203528</td>\n",
              "      <td>11.262711</td>\n",
              "      <td>4.783818</td>\n",
              "      <td>12.024250</td>\n",
              "      <td>11.374927</td>\n",
              "      <td>11.283479</td>\n",
              "      <td>1</td>\n",
              "      <td>52</td>\n",
              "      <td>2018</td>\n",
              "      <td>3</td>\n",
              "      <td>25</td>\n",
              "      <td>1.313704</td>\n",
              "      <td>3.830688</td>\n",
              "      <td>164</td>\n",
              "    </tr>\n",
              "    <tr>\n",
              "      <th>17505</th>\n",
              "      <td>9.635830</td>\n",
              "      <td>7.752464</td>\n",
              "      <td>7.684168</td>\n",
              "      <td>0.693147</td>\n",
              "      <td>9.288083</td>\n",
              "      <td>9.265945</td>\n",
              "      <td>5.474956</td>\n",
              "      <td>1</td>\n",
              "      <td>53</td>\n",
              "      <td>2018</td>\n",
              "      <td>3</td>\n",
              "      <td>25</td>\n",
              "      <td>1.313704</td>\n",
              "      <td>3.830688</td>\n",
              "      <td>164</td>\n",
              "    </tr>\n",
              "  </tbody>\n",
              "</table>\n",
              "<p>17506 rows × 15 columns</p>\n",
              "</div>\n",
              "      <button class=\"colab-df-convert\" onclick=\"convertToInteractive('df-405aaf1c-fb1a-4e40-8a00-59490185b000')\"\n",
              "              title=\"Convert this dataframe to an interactive table.\"\n",
              "              style=\"display:none;\">\n",
              "        \n",
              "  <svg xmlns=\"http://www.w3.org/2000/svg\" height=\"24px\"viewBox=\"0 0 24 24\"\n",
              "       width=\"24px\">\n",
              "    <path d=\"M0 0h24v24H0V0z\" fill=\"none\"/>\n",
              "    <path d=\"M18.56 5.44l.94 2.06.94-2.06 2.06-.94-2.06-.94-.94-2.06-.94 2.06-2.06.94zm-11 1L8.5 8.5l.94-2.06 2.06-.94-2.06-.94L8.5 2.5l-.94 2.06-2.06.94zm10 10l.94 2.06.94-2.06 2.06-.94-2.06-.94-.94-2.06-.94 2.06-2.06.94z\"/><path d=\"M17.41 7.96l-1.37-1.37c-.4-.4-.92-.59-1.43-.59-.52 0-1.04.2-1.43.59L10.3 9.45l-7.72 7.72c-.78.78-.78 2.05 0 2.83L4 21.41c.39.39.9.59 1.41.59.51 0 1.02-.2 1.41-.59l7.78-7.78 2.81-2.81c.8-.78.8-2.07 0-2.86zM5.41 20L4 18.59l7.72-7.72 1.47 1.35L5.41 20z\"/>\n",
              "  </svg>\n",
              "      </button>\n",
              "      \n",
              "  <style>\n",
              "    .colab-df-container {\n",
              "      display:flex;\n",
              "      flex-wrap:wrap;\n",
              "      gap: 12px;\n",
              "    }\n",
              "\n",
              "    .colab-df-convert {\n",
              "      background-color: #E8F0FE;\n",
              "      border: none;\n",
              "      border-radius: 50%;\n",
              "      cursor: pointer;\n",
              "      display: none;\n",
              "      fill: #1967D2;\n",
              "      height: 32px;\n",
              "      padding: 0 0 0 0;\n",
              "      width: 32px;\n",
              "    }\n",
              "\n",
              "    .colab-df-convert:hover {\n",
              "      background-color: #E2EBFA;\n",
              "      box-shadow: 0px 1px 2px rgba(60, 64, 67, 0.3), 0px 1px 3px 1px rgba(60, 64, 67, 0.15);\n",
              "      fill: #174EA6;\n",
              "    }\n",
              "\n",
              "    [theme=dark] .colab-df-convert {\n",
              "      background-color: #3B4455;\n",
              "      fill: #D2E3FC;\n",
              "    }\n",
              "\n",
              "    [theme=dark] .colab-df-convert:hover {\n",
              "      background-color: #434B5C;\n",
              "      box-shadow: 0px 1px 3px 1px rgba(0, 0, 0, 0.15);\n",
              "      filter: drop-shadow(0px 1px 2px rgba(0, 0, 0, 0.3));\n",
              "      fill: #FFFFFF;\n",
              "    }\n",
              "  </style>\n",
              "\n",
              "      <script>\n",
              "        const buttonEl =\n",
              "          document.querySelector('#df-405aaf1c-fb1a-4e40-8a00-59490185b000 button.colab-df-convert');\n",
              "        buttonEl.style.display =\n",
              "          google.colab.kernel.accessAllowed ? 'block' : 'none';\n",
              "\n",
              "        async function convertToInteractive(key) {\n",
              "          const element = document.querySelector('#df-405aaf1c-fb1a-4e40-8a00-59490185b000');\n",
              "          const dataTable =\n",
              "            await google.colab.kernel.invokeFunction('convertToInteractive',\n",
              "                                                     [key], {});\n",
              "          if (!dataTable) return;\n",
              "\n",
              "          const docLinkHtml = 'Like what you see? Visit the ' +\n",
              "            '<a target=\"_blank\" href=https://colab.research.google.com/notebooks/data_table.ipynb>data table notebook</a>'\n",
              "            + ' to learn more about interactive tables.';\n",
              "          element.innerHTML = '';\n",
              "          dataTable['output_type'] = 'display_data';\n",
              "          await google.colab.output.renderOutput(dataTable, element);\n",
              "          const docLink = document.createElement('div');\n",
              "          docLink.innerHTML = docLinkHtml;\n",
              "          element.appendChild(docLink);\n",
              "        }\n",
              "      </script>\n",
              "    </div>\n",
              "  </div>\n",
              "  "
            ]
          },
          "metadata": {},
          "execution_count": 12
        }
      ],
      "source": [
        "x"
      ]
    },
    {
      "cell_type": "code",
      "execution_count": null,
      "metadata": {
        "id": "43-5yS-BsSYB"
      },
      "outputs": [],
      "source": [
        "# Seperating the target variable \n",
        "y =avo.AveragePrice"
      ]
    },
    {
      "cell_type": "code",
      "source": [
        "b = avo_without.AveragePrice"
      ],
      "metadata": {
        "id": "fm8HIRq5Vrxj"
      },
      "execution_count": null,
      "outputs": []
    },
    {
      "cell_type": "code",
      "source": [
        "b"
      ],
      "metadata": {
        "colab": {
          "base_uri": "https://localhost:8080/"
        },
        "id": "YmEOmMy-c8df",
        "outputId": "1d87c68a-9bda-4a81-d52e-41eca708ad34"
      },
      "execution_count": null,
      "outputs": [
        {
          "output_type": "execute_result",
          "data": {
            "text/plain": [
              "0        0.99\n",
              "1        1.03\n",
              "2        1.09\n",
              "3        1.07\n",
              "4        1.04\n",
              "         ... \n",
              "17704    1.04\n",
              "17705    1.41\n",
              "17706    1.55\n",
              "17707    1.60\n",
              "17708    1.62\n",
              "Name: AveragePrice, Length: 17709, dtype: float64"
            ]
          },
          "metadata": {},
          "execution_count": 49
        }
      ]
    },
    {
      "cell_type": "code",
      "execution_count": null,
      "metadata": {
        "colab": {
          "base_uri": "https://localhost:8080/"
        },
        "id": "DgBoIW4wsXfM",
        "outputId": "226a08e4-c17c-43bf-f0b3-87b015a9d929"
      },
      "outputs": [
        {
          "output_type": "execute_result",
          "data": {
            "text/plain": [
              "0        0.99\n",
              "1        1.03\n",
              "2        1.09\n",
              "3        1.07\n",
              "4        1.04\n",
              "         ... \n",
              "17501    1.04\n",
              "17502    1.41\n",
              "17503    1.55\n",
              "17504    1.60\n",
              "17505    1.62\n",
              "Name: AveragePrice, Length: 17506, dtype: float64"
            ]
          },
          "metadata": {},
          "execution_count": 14
        }
      ],
      "source": [
        "y"
      ]
    },
    {
      "cell_type": "code",
      "execution_count": null,
      "metadata": {
        "id": "aLmIjx8JsYSk"
      },
      "outputs": [],
      "source": [
        "# Apply Extra Tree Regressor to select important features\n",
        "etr = ExtraTreesRegressor()"
      ]
    },
    {
      "cell_type": "code",
      "execution_count": null,
      "metadata": {
        "colab": {
          "base_uri": "https://localhost:8080/"
        },
        "id": "JJwNoKy8spOz",
        "outputId": "e707a14b-d9f9-4821-dd86-ba702ee37246"
      },
      "outputs": [
        {
          "output_type": "execute_result",
          "data": {
            "text/plain": [
              "ExtraTreesRegressor()"
            ]
          },
          "metadata": {},
          "execution_count": 16
        }
      ],
      "source": [
        "etr.fit(x,y)"
      ]
    },
    {
      "cell_type": "code",
      "execution_count": null,
      "metadata": {
        "colab": {
          "base_uri": "https://localhost:8080/"
        },
        "id": "PyO0tcZIssvL",
        "outputId": "3d629199-4138-4a5a-dc2a-97562224fe09"
      },
      "outputs": [
        {
          "output_type": "execute_result",
          "data": {
            "text/plain": [
              "array([0.03481154, 0.0656639 , 0.06336172, 0.03738461, 0.03895176,\n",
              "       0.03220602, 0.07971609, 0.38076618, 0.05008465, 0.02148411,\n",
              "       0.02239696, 0.00785722, 0.10516259, 0.02117872, 0.03897395])"
            ]
          },
          "metadata": {},
          "execution_count": 17
        }
      ],
      "source": [
        "# Feature coefficients\n",
        "etr.feature_importances_"
      ]
    },
    {
      "cell_type": "code",
      "execution_count": null,
      "metadata": {
        "id": "qBjSLvJltDJo"
      },
      "outputs": [],
      "source": [
        "important_features = pd.Series(etr.feature_importances_, index=x.columns)"
      ]
    },
    {
      "cell_type": "code",
      "execution_count": null,
      "metadata": {
        "colab": {
          "base_uri": "https://localhost:8080/"
        },
        "id": "nYVIs0lEtWH6",
        "outputId": "da40b3d4-b5ae-48c9-d1c9-3e1640a87ea0"
      },
      "outputs": [
        {
          "output_type": "execute_result",
          "data": {
            "text/plain": [
              "Total.Volume       0.034812\n",
              "X4046              0.065664\n",
              "X4225              0.063362\n",
              "X4770              0.037385\n",
              "Total.Bags         0.038952\n",
              "Small.Bags         0.032206\n",
              "Large.Bags         0.079716\n",
              "type               0.380766\n",
              "region             0.050085\n",
              "Year               0.021484\n",
              "Month              0.022397\n",
              "Day                0.007857\n",
              "first_lag          0.105163\n",
              "Fifthlag_XL.Bag    0.021179\n",
              "Time_Index         0.038974\n",
              "dtype: float64"
            ]
          },
          "metadata": {},
          "execution_count": 19
        }
      ],
      "source": [
        "important_features"
      ]
    },
    {
      "cell_type": "code",
      "execution_count": null,
      "metadata": {
        "colab": {
          "base_uri": "https://localhost:8080/",
          "height": 282
        },
        "id": "x4okDf1utY5N",
        "outputId": "028b8884-6569-4337-94c4-a668d95aafd0"
      },
      "outputs": [
        {
          "output_type": "execute_result",
          "data": {
            "text/plain": [
              "<matplotlib.axes._subplots.AxesSubplot at 0x7fa0b129f450>"
            ]
          },
          "metadata": {},
          "execution_count": 20
        },
        {
          "output_type": "display_data",
          "data": {
            "text/plain": [
              "<Figure size 432x288 with 1 Axes>"
            ],
            "image/png": "[encoded data removed]"
          },
          "metadata": {
            "needs_background": "light"
          }
        }
      ],
      "source": [
        "important_features.nlargest(15).plot(kind='barh')"
      ]
    },
    {
      "cell_type": "code",
      "execution_count": null,
      "metadata": {
        "id": "2A7GyK62tgMy"
      },
      "outputs": [],
      "source": [
        "# New training features \n",
        "new_x = avo[list(important_features.nlargest(15).index)]"
      ]
    },
    {
      "cell_type": "markdown",
      "metadata": {
        "id": "ie_IGh2_lecj"
      },
      "source": [
        "> feature and response train, test split"
      ]
    },
    {
      "cell_type": "code",
      "execution_count": null,
      "metadata": {
        "id": "BRGIVtHKNgQN"
      },
      "outputs": [],
      "source": [
        "# x_train = new_x.loc[0:14329]\n",
        "# x_test = new_x.loc[14330:]\n",
        "# y_train = y.loc[0:14329]\n",
        "# y_test = y.loc[14330:]\n",
        "# train = df.loc[0:14166]\n",
        "x_train = new_x.loc[0:13736]\n",
        "x_test = new_x.loc[13737:]\n",
        "y_train = y.loc[0:13736]\n",
        "y_test = y.loc[13737:]"
      ]
    },
    {
      "cell_type": "code",
      "source": [
        "# with outlier \n",
        "x_train = new_x.loc[0:14166]\n",
        "x_test = new_x.loc[14167:]\n",
        "y_train = y.loc[0:14166]\n",
        "y_test = y.loc[14167:]"
      ],
      "metadata": {
        "id": "zPHXsA5AdEMf"
      },
      "execution_count": null,
      "outputs": []
    },
    {
      "cell_type": "code",
      "execution_count": null,
      "metadata": {
        "colab": {
          "base_uri": "https://localhost:8080/",
          "height": 206
        },
        "id": "AZXkNC2YNjjC",
        "outputId": "bdea7255-efed-4dda-affe-257bb223bd47"
      },
      "outputs": [
        {
          "output_type": "execute_result",
          "data": {
            "text/plain": [
              "       type  first_lag  Large.Bags      X4046      X4225  region  Time_Index  \\\n",
              "14162     0   1.641574    9.700714  10.634021  12.144336      32         133   \n",
              "14163     0   1.641574   11.191207  12.910822  11.752796      33         133   \n",
              "14164     0   1.641574    8.862332  10.648042  10.131044      34         133   \n",
              "14165     0   1.641574   10.448137  13.383253  12.986780      35         133   \n",
              "14166     0   1.641574   10.931933  12.163604  11.787015      36         133   \n",
              "\n",
              "       Total.Bags     X4770  Total.Volume  Small.Bags  Month  Year  \\\n",
              "14162   11.831412  6.958296     12.816105   11.685145      8  2017   \n",
              "14163   12.344207  9.437712     13.559259   11.933672      8  2017   \n",
              "14164   10.472217  7.367904     11.553274   10.192600      8  2017   \n",
              "14165   13.031635  8.704167     14.252667   12.943017      8  2017   \n",
              "14166   12.715240  9.656772     13.417445   12.529466      8  2017   \n",
              "\n",
              "       Fifthlag_XL.Bag  Day  \n",
              "14162         4.275102   20  \n",
              "14163         4.275102   20  \n",
              "14164         4.275102   20  \n",
              "14165         4.275102   20  \n",
              "14166         4.275102   20  "
            ],
            "text/html": [
              "\n",
              "  <div id=\"df-9b99876e-46b1-4263-854e-af1d1d66f56b\">\n",
              "    <div class=\"colab-df-container\">\n",
              "      <div>\n",
              "<style scoped>\n",
              "    .dataframe tbody tr th:only-of-type {\n",
              "        vertical-align: middle;\n",
              "    }\n",
              "\n",
              "    .dataframe tbody tr th {\n",
              "        vertical-align: top;\n",
              "    }\n",
              "\n",
              "    .dataframe thead th {\n",
              "        text-align: right;\n",
              "    }\n",
              "</style>\n",
              "<table border=\"1\" class=\"dataframe\">\n",
              "  <thead>\n",
              "    <tr style=\"text-align: right;\">\n",
              "      <th></th>\n",
              "      <th>type</th>\n",
              "      <th>first_lag</th>\n",
              "      <th>Large.Bags</th>\n",
              "      <th>X4046</th>\n",
              "      <th>X4225</th>\n",
              "      <th>region</th>\n",
              "      <th>Time_Index</th>\n",
              "      <th>Total.Bags</th>\n",
              "      <th>X4770</th>\n",
              "      <th>Total.Volume</th>\n",
              "      <th>Small.Bags</th>\n",
              "      <th>Month</th>\n",
              "      <th>Year</th>\n",
              "      <th>Fifthlag_XL.Bag</th>\n",
              "      <th>Day</th>\n",
              "    </tr>\n",
              "  </thead>\n",
              "  <tbody>\n",
              "    <tr>\n",
              "      <th>14162</th>\n",
              "      <td>0</td>\n",
              "      <td>1.641574</td>\n",
              "      <td>9.700714</td>\n",
              "      <td>10.634021</td>\n",
              "      <td>12.144336</td>\n",
              "      <td>32</td>\n",
              "      <td>133</td>\n",
              "      <td>11.831412</td>\n",
              "      <td>6.958296</td>\n",
              "      <td>12.816105</td>\n",
              "      <td>11.685145</td>\n",
              "      <td>8</td>\n",
              "      <td>2017</td>\n",
              "      <td>4.275102</td>\n",
              "      <td>20</td>\n",
              "    </tr>\n",
              "    <tr>\n",
              "      <th>14163</th>\n",
              "      <td>0</td>\n",
              "      <td>1.641574</td>\n",
              "      <td>11.191207</td>\n",
              "      <td>12.910822</td>\n",
              "      <td>11.752796</td>\n",
              "      <td>33</td>\n",
              "      <td>133</td>\n",
              "      <td>12.344207</td>\n",
              "      <td>9.437712</td>\n",
              "      <td>13.559259</td>\n",
              "      <td>11.933672</td>\n",
              "      <td>8</td>\n",
              "      <td>2017</td>\n",
              "      <td>4.275102</td>\n",
              "      <td>20</td>\n",
              "    </tr>\n",
              "    <tr>\n",
              "      <th>14164</th>\n",
              "      <td>0</td>\n",
              "      <td>1.641574</td>\n",
              "      <td>8.862332</td>\n",
              "      <td>10.648042</td>\n",
              "      <td>10.131044</td>\n",
              "      <td>34</td>\n",
              "      <td>133</td>\n",
              "      <td>10.472217</td>\n",
              "      <td>7.367904</td>\n",
              "      <td>11.553274</td>\n",
              "      <td>10.192600</td>\n",
              "      <td>8</td>\n",
              "      <td>2017</td>\n",
              "      <td>4.275102</td>\n",
              "      <td>20</td>\n",
              "    </tr>\n",
              "    <tr>\n",
              "      <th>14165</th>\n",
              "      <td>0</td>\n",
              "      <td>1.641574</td>\n",
              "      <td>10.448137</td>\n",
              "      <td>13.383253</td>\n",
              "      <td>12.986780</td>\n",
              "      <td>35</td>\n",
              "      <td>133</td>\n",
              "      <td>13.031635</td>\n",
              "      <td>8.704167</td>\n",
              "      <td>14.252667</td>\n",
              "      <td>12.943017</td>\n",
              "      <td>8</td>\n",
              "      <td>2017</td>\n",
              "      <td>4.275102</td>\n",
              "      <td>20</td>\n",
              "    </tr>\n",
              "    <tr>\n",
              "      <th>14166</th>\n",
              "      <td>0</td>\n",
              "      <td>1.641574</td>\n",
              "      <td>10.931933</td>\n",
              "      <td>12.163604</td>\n",
              "      <td>11.787015</td>\n",
              "      <td>36</td>\n",
              "      <td>133</td>\n",
              "      <td>12.715240</td>\n",
              "      <td>9.656772</td>\n",
              "      <td>13.417445</td>\n",
              "      <td>12.529466</td>\n",
              "      <td>8</td>\n",
              "      <td>2017</td>\n",
              "      <td>4.275102</td>\n",
              "      <td>20</td>\n",
              "    </tr>\n",
              "  </tbody>\n",
              "</table>\n",
              "</div>\n",
              "      <button class=\"colab-df-convert\" onclick=\"convertToInteractive('df-9b99876e-46b1-4263-854e-af1d1d66f56b')\"\n",
              "              title=\"Convert this dataframe to an interactive table.\"\n",
              "              style=\"display:none;\">\n",
              "        \n",
              "  <svg xmlns=\"http://www.w3.org/2000/svg\" height=\"24px\"viewBox=\"0 0 24 24\"\n",
              "       width=\"24px\">\n",
              "    <path d=\"M0 0h24v24H0V0z\" fill=\"none\"/>\n",
              "    <path d=\"M18.56 5.44l.94 2.06.94-2.06 2.06-.94-2.06-.94-.94-2.06-.94 2.06-2.06.94zm-11 1L8.5 8.5l.94-2.06 2.06-.94-2.06-.94L8.5 2.5l-.94 2.06-2.06.94zm10 10l.94 2.06.94-2.06 2.06-.94-2.06-.94-.94-2.06-.94 2.06-2.06.94z\"/><path d=\"M17.41 7.96l-1.37-1.37c-.4-.4-.92-.59-1.43-.59-.52 0-1.04.2-1.43.59L10.3 9.45l-7.72 7.72c-.78.78-.78 2.05 0 2.83L4 21.41c.39.39.9.59 1.41.59.51 0 1.02-.2 1.41-.59l7.78-7.78 2.81-2.81c.8-.78.8-2.07 0-2.86zM5.41 20L4 18.59l7.72-7.72 1.47 1.35L5.41 20z\"/>\n",
              "  </svg>\n",
              "      </button>\n",
              "      \n",
              "  <style>\n",
              "    .colab-df-container {\n",
              "      display:flex;\n",
              "      flex-wrap:wrap;\n",
              "      gap: 12px;\n",
              "    }\n",
              "\n",
              "    .colab-df-convert {\n",
              "      background-color: #E8F0FE;\n",
              "      border: none;\n",
              "      border-radius: 50%;\n",
              "      cursor: pointer;\n",
              "      display: none;\n",
              "      fill: #1967D2;\n",
              "      height: 32px;\n",
              "      padding: 0 0 0 0;\n",
              "      width: 32px;\n",
              "    }\n",
              "\n",
              "    .colab-df-convert:hover {\n",
              "      background-color: #E2EBFA;\n",
              "      box-shadow: 0px 1px 2px rgba(60, 64, 67, 0.3), 0px 1px 3px 1px rgba(60, 64, 67, 0.15);\n",
              "      fill: #174EA6;\n",
              "    }\n",
              "\n",
              "    [theme=dark] .colab-df-convert {\n",
              "      background-color: #3B4455;\n",
              "      fill: #D2E3FC;\n",
              "    }\n",
              "\n",
              "    [theme=dark] .colab-df-convert:hover {\n",
              "      background-color: #434B5C;\n",
              "      box-shadow: 0px 1px 3px 1px rgba(0, 0, 0, 0.15);\n",
              "      filter: drop-shadow(0px 1px 2px rgba(0, 0, 0, 0.3));\n",
              "      fill: #FFFFFF;\n",
              "    }\n",
              "  </style>\n",
              "\n",
              "      <script>\n",
              "        const buttonEl =\n",
              "          document.querySelector('#df-9b99876e-46b1-4263-854e-af1d1d66f56b button.colab-df-convert');\n",
              "        buttonEl.style.display =\n",
              "          google.colab.kernel.accessAllowed ? 'block' : 'none';\n",
              "\n",
              "        async function convertToInteractive(key) {\n",
              "          const element = document.querySelector('#df-9b99876e-46b1-4263-854e-af1d1d66f56b');\n",
              "          const dataTable =\n",
              "            await google.colab.kernel.invokeFunction('convertToInteractive',\n",
              "                                                     [key], {});\n",
              "          if (!dataTable) return;\n",
              "\n",
              "          const docLinkHtml = 'Like what you see? Visit the ' +\n",
              "            '<a target=\"_blank\" href=https://colab.research.google.com/notebooks/data_table.ipynb>data table notebook</a>'\n",
              "            + ' to learn more about interactive tables.';\n",
              "          element.innerHTML = '';\n",
              "          dataTable['output_type'] = 'display_data';\n",
              "          await google.colab.output.renderOutput(dataTable, element);\n",
              "          const docLink = document.createElement('div');\n",
              "          docLink.innerHTML = docLinkHtml;\n",
              "          element.appendChild(docLink);\n",
              "        }\n",
              "      </script>\n",
              "    </div>\n",
              "  </div>\n",
              "  "
            ]
          },
          "metadata": {},
          "execution_count": 51
        }
      ],
      "source": [
        "x_train.tail()"
      ]
    },
    {
      "cell_type": "code",
      "execution_count": null,
      "metadata": {
        "colab": {
          "base_uri": "https://localhost:8080/",
          "height": 206
        },
        "id": "eVjly2IHNl2D",
        "outputId": "4c966abb-28df-4d6b-a296-a8ffe2476a79"
      },
      "outputs": [
        {
          "output_type": "execute_result",
          "data": {
            "text/plain": [
              "       type  first_lag  Large.Bags      X4046      X4225  region  Time_Index  \\\n",
              "13737     0   1.581019   10.509611  12.377090  10.413949      31         129   \n",
              "13738     0   1.581019    9.228774  10.490445  12.335357      32         129   \n",
              "13739     0   1.581019   11.556094  13.199572  12.495320      33         129   \n",
              "13740     0   1.581019    8.886296  10.662549  10.152822      34         129   \n",
              "13741     0   1.581019   10.737941  13.486887  13.295130      35         129   \n",
              "\n",
              "       Total.Bags     X4770  Total.Volume  Small.Bags  Month  Year  \\\n",
              "13737   11.417730  5.291544     12.798664   10.781310      7  2017   \n",
              "13738   11.770500  6.033470     12.882482   11.670710      7  2017   \n",
              "13739   12.441458  9.417416     13.885587   11.906190      7  2017   \n",
              "13740   10.470517  7.223602     11.561836   10.203355      7  2017   \n",
              "13741   13.177466  9.386490     14.433099   13.052328      7  2017   \n",
              "\n",
              "       Fifthlag_XL.Bag  Day  \n",
              "13737         4.182253   23  \n",
              "13738         4.182253   23  \n",
              "13739         4.182253   23  \n",
              "13740         4.182253   23  \n",
              "13741         4.182253   23  "
            ],
            "text/html": [
              "\n",
              "  <div id=\"df-910ab232-5fef-42c7-bbee-ebb99e4d291d\">\n",
              "    <div class=\"colab-df-container\">\n",
              "      <div>\n",
              "<style scoped>\n",
              "    .dataframe tbody tr th:only-of-type {\n",
              "        vertical-align: middle;\n",
              "    }\n",
              "\n",
              "    .dataframe tbody tr th {\n",
              "        vertical-align: top;\n",
              "    }\n",
              "\n",
              "    .dataframe thead th {\n",
              "        text-align: right;\n",
              "    }\n",
              "</style>\n",
              "<table border=\"1\" class=\"dataframe\">\n",
              "  <thead>\n",
              "    <tr style=\"text-align: right;\">\n",
              "      <th></th>\n",
              "      <th>type</th>\n",
              "      <th>first_lag</th>\n",
              "      <th>Large.Bags</th>\n",
              "      <th>X4046</th>\n",
              "      <th>X4225</th>\n",
              "      <th>region</th>\n",
              "      <th>Time_Index</th>\n",
              "      <th>Total.Bags</th>\n",
              "      <th>X4770</th>\n",
              "      <th>Total.Volume</th>\n",
              "      <th>Small.Bags</th>\n",
              "      <th>Month</th>\n",
              "      <th>Year</th>\n",
              "      <th>Fifthlag_XL.Bag</th>\n",
              "      <th>Day</th>\n",
              "    </tr>\n",
              "  </thead>\n",
              "  <tbody>\n",
              "    <tr>\n",
              "      <th>13737</th>\n",
              "      <td>0</td>\n",
              "      <td>1.581019</td>\n",
              "      <td>10.509611</td>\n",
              "      <td>12.377090</td>\n",
              "      <td>10.413949</td>\n",
              "      <td>31</td>\n",
              "      <td>129</td>\n",
              "      <td>11.417730</td>\n",
              "      <td>5.291544</td>\n",
              "      <td>12.798664</td>\n",
              "      <td>10.781310</td>\n",
              "      <td>7</td>\n",
              "      <td>2017</td>\n",
              "      <td>4.182253</td>\n",
              "      <td>23</td>\n",
              "    </tr>\n",
              "    <tr>\n",
              "      <th>13738</th>\n",
              "      <td>0</td>\n",
              "      <td>1.581019</td>\n",
              "      <td>9.228774</td>\n",
              "      <td>10.490445</td>\n",
              "      <td>12.335357</td>\n",
              "      <td>32</td>\n",
              "      <td>129</td>\n",
              "      <td>11.770500</td>\n",
              "      <td>6.033470</td>\n",
              "      <td>12.882482</td>\n",
              "      <td>11.670710</td>\n",
              "      <td>7</td>\n",
              "      <td>2017</td>\n",
              "      <td>4.182253</td>\n",
              "      <td>23</td>\n",
              "    </tr>\n",
              "    <tr>\n",
              "      <th>13739</th>\n",
              "      <td>0</td>\n",
              "      <td>1.581019</td>\n",
              "      <td>11.556094</td>\n",
              "      <td>13.199572</td>\n",
              "      <td>12.495320</td>\n",
              "      <td>33</td>\n",
              "      <td>129</td>\n",
              "      <td>12.441458</td>\n",
              "      <td>9.417416</td>\n",
              "      <td>13.885587</td>\n",
              "      <td>11.906190</td>\n",
              "      <td>7</td>\n",
              "      <td>2017</td>\n",
              "      <td>4.182253</td>\n",
              "      <td>23</td>\n",
              "    </tr>\n",
              "    <tr>\n",
              "      <th>13740</th>\n",
              "      <td>0</td>\n",
              "      <td>1.581019</td>\n",
              "      <td>8.886296</td>\n",
              "      <td>10.662549</td>\n",
              "      <td>10.152822</td>\n",
              "      <td>34</td>\n",
              "      <td>129</td>\n",
              "      <td>10.470517</td>\n",
              "      <td>7.223602</td>\n",
              "      <td>11.561836</td>\n",
              "      <td>10.203355</td>\n",
              "      <td>7</td>\n",
              "      <td>2017</td>\n",
              "      <td>4.182253</td>\n",
              "      <td>23</td>\n",
              "    </tr>\n",
              "    <tr>\n",
              "      <th>13741</th>\n",
              "      <td>0</td>\n",
              "      <td>1.581019</td>\n",
              "      <td>10.737941</td>\n",
              "      <td>13.486887</td>\n",
              "      <td>13.295130</td>\n",
              "      <td>35</td>\n",
              "      <td>129</td>\n",
              "      <td>13.177466</td>\n",
              "      <td>9.386490</td>\n",
              "      <td>14.433099</td>\n",
              "      <td>13.052328</td>\n",
              "      <td>7</td>\n",
              "      <td>2017</td>\n",
              "      <td>4.182253</td>\n",
              "      <td>23</td>\n",
              "    </tr>\n",
              "  </tbody>\n",
              "</table>\n",
              "</div>\n",
              "      <button class=\"colab-df-convert\" onclick=\"convertToInteractive('df-910ab232-5fef-42c7-bbee-ebb99e4d291d')\"\n",
              "              title=\"Convert this dataframe to an interactive table.\"\n",
              "              style=\"display:none;\">\n",
              "        \n",
              "  <svg xmlns=\"http://www.w3.org/2000/svg\" height=\"24px\"viewBox=\"0 0 24 24\"\n",
              "       width=\"24px\">\n",
              "    <path d=\"M0 0h24v24H0V0z\" fill=\"none\"/>\n",
              "    <path d=\"M18.56 5.44l.94 2.06.94-2.06 2.06-.94-2.06-.94-.94-2.06-.94 2.06-2.06.94zm-11 1L8.5 8.5l.94-2.06 2.06-.94-2.06-.94L8.5 2.5l-.94 2.06-2.06.94zm10 10l.94 2.06.94-2.06 2.06-.94-2.06-.94-.94-2.06-.94 2.06-2.06.94z\"/><path d=\"M17.41 7.96l-1.37-1.37c-.4-.4-.92-.59-1.43-.59-.52 0-1.04.2-1.43.59L10.3 9.45l-7.72 7.72c-.78.78-.78 2.05 0 2.83L4 21.41c.39.39.9.59 1.41.59.51 0 1.02-.2 1.41-.59l7.78-7.78 2.81-2.81c.8-.78.8-2.07 0-2.86zM5.41 20L4 18.59l7.72-7.72 1.47 1.35L5.41 20z\"/>\n",
              "  </svg>\n",
              "      </button>\n",
              "      \n",
              "  <style>\n",
              "    .colab-df-container {\n",
              "      display:flex;\n",
              "      flex-wrap:wrap;\n",
              "      gap: 12px;\n",
              "    }\n",
              "\n",
              "    .colab-df-convert {\n",
              "      background-color: #E8F0FE;\n",
              "      border: none;\n",
              "      border-radius: 50%;\n",
              "      cursor: pointer;\n",
              "      display: none;\n",
              "      fill: #1967D2;\n",
              "      height: 32px;\n",
              "      padding: 0 0 0 0;\n",
              "      width: 32px;\n",
              "    }\n",
              "\n",
              "    .colab-df-convert:hover {\n",
              "      background-color: #E2EBFA;\n",
              "      box-shadow: 0px 1px 2px rgba(60, 64, 67, 0.3), 0px 1px 3px 1px rgba(60, 64, 67, 0.15);\n",
              "      fill: #174EA6;\n",
              "    }\n",
              "\n",
              "    [theme=dark] .colab-df-convert {\n",
              "      background-color: #3B4455;\n",
              "      fill: #D2E3FC;\n",
              "    }\n",
              "\n",
              "    [theme=dark] .colab-df-convert:hover {\n",
              "      background-color: #434B5C;\n",
              "      box-shadow: 0px 1px 3px 1px rgba(0, 0, 0, 0.15);\n",
              "      filter: drop-shadow(0px 1px 2px rgba(0, 0, 0, 0.3));\n",
              "      fill: #FFFFFF;\n",
              "    }\n",
              "  </style>\n",
              "\n",
              "      <script>\n",
              "        const buttonEl =\n",
              "          document.querySelector('#df-910ab232-5fef-42c7-bbee-ebb99e4d291d button.colab-df-convert');\n",
              "        buttonEl.style.display =\n",
              "          google.colab.kernel.accessAllowed ? 'block' : 'none';\n",
              "\n",
              "        async function convertToInteractive(key) {\n",
              "          const element = document.querySelector('#df-910ab232-5fef-42c7-bbee-ebb99e4d291d');\n",
              "          const dataTable =\n",
              "            await google.colab.kernel.invokeFunction('convertToInteractive',\n",
              "                                                     [key], {});\n",
              "          if (!dataTable) return;\n",
              "\n",
              "          const docLinkHtml = 'Like what you see? Visit the ' +\n",
              "            '<a target=\"_blank\" href=https://colab.research.google.com/notebooks/data_table.ipynb>data table notebook</a>'\n",
              "            + ' to learn more about interactive tables.';\n",
              "          element.innerHTML = '';\n",
              "          dataTable['output_type'] = 'display_data';\n",
              "          await google.colab.output.renderOutput(dataTable, element);\n",
              "          const docLink = document.createElement('div');\n",
              "          docLink.innerHTML = docLinkHtml;\n",
              "          element.appendChild(docLink);\n",
              "        }\n",
              "      </script>\n",
              "    </div>\n",
              "  </div>\n",
              "  "
            ]
          },
          "metadata": {},
          "execution_count": 24
        }
      ],
      "source": [
        "x_test.head()"
      ]
    },
    {
      "cell_type": "code",
      "execution_count": null,
      "metadata": {
        "colab": {
          "base_uri": "https://localhost:8080/"
        },
        "id": "t_kV2zU2Ntlq",
        "outputId": "90142f06-ed36-462c-f012-c9f273b3c115"
      },
      "outputs": [
        {
          "output_type": "execute_result",
          "data": {
            "text/plain": [
              "14167"
            ]
          },
          "metadata": {},
          "execution_count": 52
        }
      ],
      "source": [
        "len(x_train)"
      ]
    },
    {
      "cell_type": "code",
      "execution_count": null,
      "metadata": {
        "colab": {
          "base_uri": "https://localhost:8080/"
        },
        "id": "SzvOeuGpNwP6",
        "outputId": "c11649be-de01-41d2-ab02-6cc6386c0809"
      },
      "outputs": [
        {
          "output_type": "execute_result",
          "data": {
            "text/plain": [
              "3339"
            ]
          },
          "metadata": {},
          "execution_count": 53
        }
      ],
      "source": [
        "len(x_test)"
      ]
    },
    {
      "cell_type": "code",
      "execution_count": null,
      "metadata": {
        "colab": {
          "base_uri": "https://localhost:8080/"
        },
        "id": "vgT-FsAfNyLT",
        "outputId": "de7e27c6-b5d4-4842-cf29-ded9f9c41516"
      },
      "outputs": [
        {
          "output_type": "execute_result",
          "data": {
            "text/plain": [
              "14167"
            ]
          },
          "metadata": {},
          "execution_count": 54
        }
      ],
      "source": [
        "len(y_train)"
      ]
    },
    {
      "cell_type": "code",
      "execution_count": null,
      "metadata": {
        "colab": {
          "base_uri": "https://localhost:8080/"
        },
        "id": "HUoZA2TWNz_r",
        "outputId": "61ea44f8-3a7c-4828-dbfd-dd14c67489ef"
      },
      "outputs": [
        {
          "output_type": "execute_result",
          "data": {
            "text/plain": [
              "3339"
            ]
          },
          "metadata": {},
          "execution_count": 55
        }
      ],
      "source": [
        "len(y_test)"
      ]
    },
    {
      "cell_type": "markdown",
      "metadata": {
        "id": "watfjpj9Ks-t"
      },
      "source": [
        "## Training Phase\n",
        "\n"
      ]
    },
    {
      "cell_type": "markdown",
      "metadata": {
        "id": "S8Mo2_Xj--DA"
      },
      "source": [
        "## Decision tree"
      ]
    },
    {
      "cell_type": "code",
      "execution_count": null,
      "metadata": {
        "id": "dAPqbfOMKzjs"
      },
      "outputs": [],
      "source": [
        "dt = DecisionTreeRegressor()"
      ]
    },
    {
      "cell_type": "markdown",
      "metadata": {
        "id": "LV2jGBsLqV2z"
      },
      "source": [
        ">  hyper parameter tunning"
      ]
    },
    {
      "cell_type": "code",
      "execution_count": null,
      "metadata": {
        "id": "MAqXMcY7LbWl"
      },
      "outputs": [],
      "source": [
        "decision_grid = {\n",
        "    'max_features' : ['auto', 'sqrt'],\n",
        "    'min_samples_leaf': [5, 10, 20, 50, 100],\n",
        "    'min_samples_split' : [2, 5, 10, 15, 100],\n",
        "    'max_depth' : [i for i in np.linspace(start=5, stop=30, num=6)]\n",
        "}"
      ]
    },
    {
      "cell_type": "code",
      "execution_count": null,
      "metadata": {
        "colab": {
          "base_uri": "https://localhost:8080/"
        },
        "id": "wfCoKLepMqbf",
        "outputId": "e51d4d1d-bfda-4c4f-9bcf-e7c258771d13"
      },
      "outputs": [
        {
          "output_type": "execute_result",
          "data": {
            "text/plain": [
              "{'max_depth': [5.0, 10.0, 15.0, 20.0, 25.0, 30.0],\n",
              " 'max_features': ['auto', 'sqrt'],\n",
              " 'min_samples_leaf': [5, 10, 20, 50, 100],\n",
              " 'min_samples_split': [2, 5, 10, 15, 100]}"
            ]
          },
          "metadata": {},
          "execution_count": 58
        }
      ],
      "source": [
        "decision_grid"
      ]
    },
    {
      "cell_type": "code",
      "execution_count": null,
      "metadata": {
        "id": "KeRwaOMHsZl0"
      },
      "outputs": [],
      "source": [
        "dt_random = RandomizedSearchCV(estimator=dt,\n",
        "                               param_distributions=decision_grid,\n",
        "                               scoring = 'neg_mean_squared_error',\n",
        "                               n_jobs = 1,\n",
        "                               random_state = 42,\n",
        "                               verbose=2,\n",
        "                               cv=5)"
      ]
    },
    {
      "cell_type": "code",
      "execution_count": null,
      "metadata": {
        "colab": {
          "base_uri": "https://localhost:8080/"
        },
        "id": "oYMgqOG8NcLb",
        "outputId": "57bddc16-27d8-419c-9c75-3e3ab7ecd2e1"
      },
      "outputs": [
        {
          "output_type": "stream",
          "name": "stdout",
          "text": [
            "Fitting 5 folds for each of 10 candidates, totalling 50 fits\n",
            "[CV] END max_depth=25.0, max_features=auto, min_samples_leaf=5, min_samples_split=15; total time=   0.1s\n",
            "[CV] END max_depth=25.0, max_features=auto, min_samples_leaf=5, min_samples_split=15; total time=   0.1s\n",
            "[CV] END max_depth=25.0, max_features=auto, min_samples_leaf=5, min_samples_split=15; total time=   0.1s\n",
            "[CV] END max_depth=25.0, max_features=auto, min_samples_leaf=5, min_samples_split=15; total time=   0.1s\n",
            "[CV] END max_depth=25.0, max_features=auto, min_samples_leaf=5, min_samples_split=15; total time=   0.1s\n",
            "[CV] END max_depth=30.0, max_features=auto, min_samples_leaf=50, min_samples_split=5; total time=   0.1s\n",
            "[CV] END max_depth=30.0, max_features=auto, min_samples_leaf=50, min_samples_split=5; total time=   0.1s\n",
            "[CV] END max_depth=30.0, max_features=auto, min_samples_leaf=50, min_samples_split=5; total time=   0.1s\n",
            "[CV] END max_depth=30.0, max_features=auto, min_samples_leaf=50, min_samples_split=5; total time=   0.1s\n",
            "[CV] END max_depth=30.0, max_features=auto, min_samples_leaf=50, min_samples_split=5; total time=   0.1s\n",
            "[CV] END max_depth=20.0, max_features=auto, min_samples_leaf=5, min_samples_split=10; total time=   0.1s\n",
            "[CV] END max_depth=20.0, max_features=auto, min_samples_leaf=5, min_samples_split=10; total time=   0.1s\n",
            "[CV] END max_depth=20.0, max_features=auto, min_samples_leaf=5, min_samples_split=10; total time=   0.1s\n",
            "[CV] END max_depth=20.0, max_features=auto, min_samples_leaf=5, min_samples_split=10; total time=   0.1s\n",
            "[CV] END max_depth=20.0, max_features=auto, min_samples_leaf=5, min_samples_split=10; total time=   0.1s\n",
            "[CV] END max_depth=5.0, max_features=auto, min_samples_leaf=10, min_samples_split=100; total time=   0.1s\n",
            "[CV] END max_depth=5.0, max_features=auto, min_samples_leaf=10, min_samples_split=100; total time=   0.1s\n",
            "[CV] END max_depth=5.0, max_features=auto, min_samples_leaf=10, min_samples_split=100; total time=   0.1s\n",
            "[CV] END max_depth=5.0, max_features=auto, min_samples_leaf=10, min_samples_split=100; total time=   0.1s\n",
            "[CV] END max_depth=5.0, max_features=auto, min_samples_leaf=10, min_samples_split=100; total time=   0.1s\n",
            "[CV] END max_depth=25.0, max_features=sqrt, min_samples_leaf=10, min_samples_split=15; total time=   0.0s\n",
            "[CV] END max_depth=25.0, max_features=sqrt, min_samples_leaf=10, min_samples_split=15; total time=   0.0s\n",
            "[CV] END max_depth=25.0, max_features=sqrt, min_samples_leaf=10, min_samples_split=15; total time=   0.0s\n",
            "[CV] END max_depth=25.0, max_features=sqrt, min_samples_leaf=10, min_samples_split=15; total time=   0.0s\n",
            "[CV] END max_depth=25.0, max_features=sqrt, min_samples_leaf=10, min_samples_split=15; total time=   0.0s\n",
            "[CV] END max_depth=25.0, max_features=sqrt, min_samples_leaf=5, min_samples_split=5; total time=   0.0s\n",
            "[CV] END max_depth=25.0, max_features=sqrt, min_samples_leaf=5, min_samples_split=5; total time=   0.0s\n",
            "[CV] END max_depth=25.0, max_features=sqrt, min_samples_leaf=5, min_samples_split=5; total time=   0.0s\n",
            "[CV] END max_depth=25.0, max_features=sqrt, min_samples_leaf=5, min_samples_split=5; total time=   0.0s\n",
            "[CV] END max_depth=25.0, max_features=sqrt, min_samples_leaf=5, min_samples_split=5; total time=   0.0s\n",
            "[CV] END max_depth=20.0, max_features=sqrt, min_samples_leaf=100, min_samples_split=5; total time=   0.0s\n",
            "[CV] END max_depth=20.0, max_features=sqrt, min_samples_leaf=100, min_samples_split=5; total time=   0.0s\n",
            "[CV] END max_depth=20.0, max_features=sqrt, min_samples_leaf=100, min_samples_split=5; total time=   0.0s\n",
            "[CV] END max_depth=20.0, max_features=sqrt, min_samples_leaf=100, min_samples_split=5; total time=   0.0s\n",
            "[CV] END max_depth=20.0, max_features=sqrt, min_samples_leaf=100, min_samples_split=5; total time=   0.0s\n",
            "[CV] END max_depth=15.0, max_features=auto, min_samples_leaf=10, min_samples_split=100; total time=   0.1s\n",
            "[CV] END max_depth=15.0, max_features=auto, min_samples_leaf=10, min_samples_split=100; total time=   0.1s\n",
            "[CV] END max_depth=15.0, max_features=auto, min_samples_leaf=10, min_samples_split=100; total time=   0.1s\n",
            "[CV] END max_depth=15.0, max_features=auto, min_samples_leaf=10, min_samples_split=100; total time=   0.1s\n",
            "[CV] END max_depth=15.0, max_features=auto, min_samples_leaf=10, min_samples_split=100; total time=   0.1s\n",
            "[CV] END max_depth=5.0, max_features=auto, min_samples_leaf=10, min_samples_split=2; total time=   0.1s\n",
            "[CV] END max_depth=5.0, max_features=auto, min_samples_leaf=10, min_samples_split=2; total time=   0.1s\n",
            "[CV] END max_depth=5.0, max_features=auto, min_samples_leaf=10, min_samples_split=2; total time=   0.1s\n",
            "[CV] END max_depth=5.0, max_features=auto, min_samples_leaf=10, min_samples_split=2; total time=   0.1s\n",
            "[CV] END max_depth=5.0, max_features=auto, min_samples_leaf=10, min_samples_split=2; total time=   0.1s\n",
            "[CV] END max_depth=20.0, max_features=sqrt, min_samples_leaf=5, min_samples_split=2; total time=   0.0s\n",
            "[CV] END max_depth=20.0, max_features=sqrt, min_samples_leaf=5, min_samples_split=2; total time=   0.0s\n",
            "[CV] END max_depth=20.0, max_features=sqrt, min_samples_leaf=5, min_samples_split=2; total time=   0.0s\n",
            "[CV] END max_depth=20.0, max_features=sqrt, min_samples_leaf=5, min_samples_split=2; total time=   0.0s\n",
            "[CV] END max_depth=20.0, max_features=sqrt, min_samples_leaf=5, min_samples_split=2; total time=   0.0s\n"
          ]
        },
        {
          "output_type": "execute_result",
          "data": {
            "text/plain": [
              "RandomizedSearchCV(cv=5, estimator=DecisionTreeRegressor(), n_jobs=1,\n",
              "                   param_distributions={'max_depth': [5.0, 10.0, 15.0, 20.0,\n",
              "                                                      25.0, 30.0],\n",
              "                                        'max_features': ['auto', 'sqrt'],\n",
              "                                        'min_samples_leaf': [5, 10, 20, 50,\n",
              "                                                             100],\n",
              "                                        'min_samples_split': [2, 5, 10, 15,\n",
              "                                                              100]},\n",
              "                   random_state=42, scoring='neg_mean_squared_error',\n",
              "                   verbose=2)"
            ]
          },
          "metadata": {},
          "execution_count": 60
        }
      ],
      "source": [
        "dt_random.fit(x_train, y_train)"
      ]
    },
    {
      "cell_type": "code",
      "execution_count": null,
      "metadata": {
        "colab": {
          "base_uri": "https://localhost:8080/"
        },
        "id": "eE2eDN_RPrnu",
        "outputId": "a6267fef-ad49-4a3e-e7c0-ddf29bea1afa"
      },
      "outputs": [
        {
          "output_type": "execute_result",
          "data": {
            "text/plain": [
              "{'max_depth': 15.0,\n",
              " 'max_features': 'auto',\n",
              " 'min_samples_leaf': 10,\n",
              " 'min_samples_split': 100}"
            ]
          },
          "metadata": {},
          "execution_count": 61
        }
      ],
      "source": [
        "dt_random.best_params_"
      ]
    },
    {
      "cell_type": "code",
      "execution_count": null,
      "metadata": {
        "id": "ZFz6t-h5613T"
      },
      "outputs": [],
      "source": [
        "# {'max_depth': 15.0,\n",
        "#  'max_features': 'auto',\n",
        "#  'min_samples_leaf': 10,\n",
        "#  'min_samples_split': 100}\n",
        "\n",
        "# {'max_depth': 30.0,\n",
        "#  'max_features': 'auto',\n",
        "#  'min_samples_leaf': 50,\n",
        "#  'min_samples_split': 5}\n",
        "\n",
        "# {'max_depth': 25.0,\n",
        "#  'max_features': 'sqrt',\n",
        "#  'min_samples_leaf': 10,\n",
        "#  'min_samples_split': 15}"
      ]
    },
    {
      "cell_type": "code",
      "execution_count": null,
      "metadata": {
        "colab": {
          "base_uri": "https://localhost:8080/"
        },
        "id": "pv0Sqb2kPz7g",
        "outputId": "b73e7198-6739-498d-82f1-e0a36c3380d8"
      },
      "outputs": [
        {
          "output_type": "execute_result",
          "data": {
            "text/plain": [
              "0.16145331520936823"
            ]
          },
          "metadata": {},
          "execution_count": 62
        }
      ],
      "source": [
        "y_pred_train_dt = dt_random.predict(x_train)\n",
        "final_train_dt = pd.DataFrame({'Actual':y_train, \"Predicted\":y_pred_train_dt})\n",
        "#r2_score(y_train, y_pred_train_dt)\n",
        "np.sqrt(mean_squared_error(y_train, y_pred_train_dt))"
      ]
    },
    {
      "cell_type": "code",
      "execution_count": null,
      "metadata": {
        "colab": {
          "base_uri": "https://localhost:8080/"
        },
        "id": "qdA4xIwBP-Pv",
        "outputId": "651cd8c3-afe7-4434-b151-81cbdc56c318"
      },
      "outputs": [
        {
          "output_type": "execute_result",
          "data": {
            "text/plain": [
              "0.28499977795133075"
            ]
          },
          "metadata": {},
          "execution_count": 63
        }
      ],
      "source": [
        "y_pred_test_dt =dt_random.predict(x_test)\n",
        "final_test_dt = pd.DataFrame({'Actual':y_test, \"Predicted\":y_pred_test_dt})\n",
        "#r2_score(y_test, y_pred_test_dt)\n",
        "np.sqrt(mean_squared_error(y_test, y_pred_test_dt))"
      ]
    },
    {
      "cell_type": "code",
      "execution_count": null,
      "metadata": {
        "colab": {
          "base_uri": "https://localhost:8080/"
        },
        "id": "eC27oiovHg1O",
        "outputId": "5a9cd21e-f9b5-4876-e3cf-2b111308ad98"
      },
      "outputs": [
        {
          "output_type": "execute_result",
          "data": {
            "text/plain": [
              "0.026067172992095614"
            ]
          },
          "metadata": {},
          "execution_count": 64
        }
      ],
      "source": [
        "mean_squared_error(y_train, y_pred_train_dt)\n",
        "# train MSE"
      ]
    },
    {
      "cell_type": "code",
      "execution_count": null,
      "metadata": {
        "colab": {
          "base_uri": "https://localhost:8080/"
        },
        "id": "1TnkUctLHfWM",
        "outputId": "1fb2d73b-e455-4ca5-d10d-17132d96064c"
      },
      "outputs": [
        {
          "output_type": "execute_result",
          "data": {
            "text/plain": [
              "0.08122487343230785"
            ]
          },
          "metadata": {},
          "execution_count": 65
        }
      ],
      "source": [
        "mean_squared_error(y_test, y_pred_test_dt)\n",
        "# test MSE"
      ]
    },
    {
      "cell_type": "code",
      "execution_count": null,
      "metadata": {
        "colab": {
          "base_uri": "https://localhost:8080/",
          "height": 268
        },
        "id": "Xzfk8eOb_zm_",
        "outputId": "f843d8b7-1291-468a-e26a-f8466eeb1fa8"
      },
      "outputs": [
        {
          "output_type": "execute_result",
          "data": {
            "text/plain": [
              "       Actual  Predicted\n",
              "13737    1.38   1.376038\n",
              "13738    1.47   1.547027\n",
              "13739    0.89   0.825059\n",
              "13740    1.29   1.376038\n",
              "13741    1.39   1.304000\n",
              "13742    1.15   1.471875\n",
              "13743    1.31   1.298333"
            ],
            "text/html": [
              "\n",
              "  <div id=\"df-3b0eac93-c36a-4d92-88cd-3c44526ae05d\">\n",
              "    <div class=\"colab-df-container\">\n",
              "      <div>\n",
              "<style scoped>\n",
              "    .dataframe tbody tr th:only-of-type {\n",
              "        vertical-align: middle;\n",
              "    }\n",
              "\n",
              "    .dataframe tbody tr th {\n",
              "        vertical-align: top;\n",
              "    }\n",
              "\n",
              "    .dataframe thead th {\n",
              "        text-align: right;\n",
              "    }\n",
              "</style>\n",
              "<table border=\"1\" class=\"dataframe\">\n",
              "  <thead>\n",
              "    <tr style=\"text-align: right;\">\n",
              "      <th></th>\n",
              "      <th>Actual</th>\n",
              "      <th>Predicted</th>\n",
              "    </tr>\n",
              "  </thead>\n",
              "  <tbody>\n",
              "    <tr>\n",
              "      <th>13737</th>\n",
              "      <td>1.38</td>\n",
              "      <td>1.376038</td>\n",
              "    </tr>\n",
              "    <tr>\n",
              "      <th>13738</th>\n",
              "      <td>1.47</td>\n",
              "      <td>1.547027</td>\n",
              "    </tr>\n",
              "    <tr>\n",
              "      <th>13739</th>\n",
              "      <td>0.89</td>\n",
              "      <td>0.825059</td>\n",
              "    </tr>\n",
              "    <tr>\n",
              "      <th>13740</th>\n",
              "      <td>1.29</td>\n",
              "      <td>1.376038</td>\n",
              "    </tr>\n",
              "    <tr>\n",
              "      <th>13741</th>\n",
              "      <td>1.39</td>\n",
              "      <td>1.304000</td>\n",
              "    </tr>\n",
              "    <tr>\n",
              "      <th>13742</th>\n",
              "      <td>1.15</td>\n",
              "      <td>1.471875</td>\n",
              "    </tr>\n",
              "    <tr>\n",
              "      <th>13743</th>\n",
              "      <td>1.31</td>\n",
              "      <td>1.298333</td>\n",
              "    </tr>\n",
              "  </tbody>\n",
              "</table>\n",
              "</div>\n",
              "      <button class=\"colab-df-convert\" onclick=\"convertToInteractive('df-3b0eac93-c36a-4d92-88cd-3c44526ae05d')\"\n",
              "              title=\"Convert this dataframe to an interactive table.\"\n",
              "              style=\"display:none;\">\n",
              "        \n",
              "  <svg xmlns=\"http://www.w3.org/2000/svg\" height=\"24px\"viewBox=\"0 0 24 24\"\n",
              "       width=\"24px\">\n",
              "    <path d=\"M0 0h24v24H0V0z\" fill=\"none\"/>\n",
              "    <path d=\"M18.56 5.44l.94 2.06.94-2.06 2.06-.94-2.06-.94-.94-2.06-.94 2.06-2.06.94zm-11 1L8.5 8.5l.94-2.06 2.06-.94-2.06-.94L8.5 2.5l-.94 2.06-2.06.94zm10 10l.94 2.06.94-2.06 2.06-.94-2.06-.94-.94-2.06-.94 2.06-2.06.94z\"/><path d=\"M17.41 7.96l-1.37-1.37c-.4-.4-.92-.59-1.43-.59-.52 0-1.04.2-1.43.59L10.3 9.45l-7.72 7.72c-.78.78-.78 2.05 0 2.83L4 21.41c.39.39.9.59 1.41.59.51 0 1.02-.2 1.41-.59l7.78-7.78 2.81-2.81c.8-.78.8-2.07 0-2.86zM5.41 20L4 18.59l7.72-7.72 1.47 1.35L5.41 20z\"/>\n",
              "  </svg>\n",
              "      </button>\n",
              "      \n",
              "  <style>\n",
              "    .colab-df-container {\n",
              "      display:flex;\n",
              "      flex-wrap:wrap;\n",
              "      gap: 12px;\n",
              "    }\n",
              "\n",
              "    .colab-df-convert {\n",
              "      background-color: #E8F0FE;\n",
              "      border: none;\n",
              "      border-radius: 50%;\n",
              "      cursor: pointer;\n",
              "      display: none;\n",
              "      fill: #1967D2;\n",
              "      height: 32px;\n",
              "      padding: 0 0 0 0;\n",
              "      width: 32px;\n",
              "    }\n",
              "\n",
              "    .colab-df-convert:hover {\n",
              "      background-color: #E2EBFA;\n",
              "      box-shadow: 0px 1px 2px rgba(60, 64, 67, 0.3), 0px 1px 3px 1px rgba(60, 64, 67, 0.15);\n",
              "      fill: #174EA6;\n",
              "    }\n",
              "\n",
              "    [theme=dark] .colab-df-convert {\n",
              "      background-color: #3B4455;\n",
              "      fill: #D2E3FC;\n",
              "    }\n",
              "\n",
              "    [theme=dark] .colab-df-convert:hover {\n",
              "      background-color: #434B5C;\n",
              "      box-shadow: 0px 1px 3px 1px rgba(0, 0, 0, 0.15);\n",
              "      filter: drop-shadow(0px 1px 2px rgba(0, 0, 0, 0.3));\n",
              "      fill: #FFFFFF;\n",
              "    }\n",
              "  </style>\n",
              "\n",
              "      <script>\n",
              "        const buttonEl =\n",
              "          document.querySelector('#df-3b0eac93-c36a-4d92-88cd-3c44526ae05d button.colab-df-convert');\n",
              "        buttonEl.style.display =\n",
              "          google.colab.kernel.accessAllowed ? 'block' : 'none';\n",
              "\n",
              "        async function convertToInteractive(key) {\n",
              "          const element = document.querySelector('#df-3b0eac93-c36a-4d92-88cd-3c44526ae05d');\n",
              "          const dataTable =\n",
              "            await google.colab.kernel.invokeFunction('convertToInteractive',\n",
              "                                                     [key], {});\n",
              "          if (!dataTable) return;\n",
              "\n",
              "          const docLinkHtml = 'Like what you see? Visit the ' +\n",
              "            '<a target=\"_blank\" href=https://colab.research.google.com/notebooks/data_table.ipynb>data table notebook</a>'\n",
              "            + ' to learn more about interactive tables.';\n",
              "          element.innerHTML = '';\n",
              "          dataTable['output_type'] = 'display_data';\n",
              "          await google.colab.output.renderOutput(dataTable, element);\n",
              "          const docLink = document.createElement('div');\n",
              "          docLink.innerHTML = docLinkHtml;\n",
              "          element.appendChild(docLink);\n",
              "        }\n",
              "      </script>\n",
              "    </div>\n",
              "  </div>\n",
              "  "
            ]
          },
          "metadata": {},
          "execution_count": 39
        }
      ],
      "source": [
        "final_test_dt.head(7)"
      ]
    },
    {
      "cell_type": "code",
      "execution_count": null,
      "metadata": {
        "colab": {
          "base_uri": "https://localhost:8080/"
        },
        "id": "g6w_eDFhvJKh",
        "outputId": "b420d4a0-3f1c-4a0d-98f5-ec9fcb697d89"
      },
      "outputs": [
        {
          "output_type": "execute_result",
          "data": {
            "text/plain": [
              "15.708905309943766"
            ]
          },
          "metadata": {},
          "execution_count": 66
        }
      ],
      "source": [
        "np.mean(((np.abs(final_test_dt.Actual-final_test_dt.Predicted))/final_test_dt.Actual)*100)"
      ]
    },
    {
      "cell_type": "code",
      "execution_count": null,
      "metadata": {
        "colab": {
          "base_uri": "https://localhost:8080/",
          "height": 286
        },
        "id": "qtSVkk1DRrJK",
        "outputId": "2bc8f01e-5341-489c-f281-42b0acd3cd47"
      },
      "outputs": [
        {
          "data": {
            "text/plain": [
              "<matplotlib.axes._subplots.AxesSubplot at 0x7fb1ffe4c090>"
            ]
          },
          "execution_count": 47,
          "metadata": {},
          "output_type": "execute_result"
        },
        {
          "data": {
            "image/png": "[encoded data removed]",
            "text/plain": [
              "<Figure size 432x288 with 2 Axes>"
            ]
          },
          "metadata": {},
          "output_type": "display_data"
        }
      ],
      "source": [
        "sns.heatmap(final_test_dt.corr(), annot=True, cmap='Greens')"
      ]
    },
    {
      "cell_type": "code",
      "execution_count": null,
      "metadata": {
        "id": "fq_BPNU2BHlr"
      },
      "outputs": [],
      "source": [
        "from sklearn import tree"
      ]
    },
    {
      "cell_type": "code",
      "execution_count": null,
      "metadata": {
        "id": "SOyPp_USBTsx"
      },
      "outputs": [],
      "source": [
        "#y_train = pd.DataFrame(y_train)"
      ]
    },
    {
      "cell_type": "code",
      "execution_count": null,
      "metadata": {
        "colab": {
          "base_uri": "https://localhost:8080/"
        },
        "id": "Dz5_H59_C6AL",
        "outputId": "84998788-5f04-4b5d-dbb5-38a88e133275"
      },
      "outputs": [
        {
          "data": {
            "text/plain": [
              "DecisionTreeRegressor()"
            ]
          },
          "execution_count": 33,
          "metadata": {},
          "output_type": "execute_result"
        }
      ],
      "source": [
        "# dt.fit(x_train, y_train)"
      ]
    },
    {
      "cell_type": "code",
      "execution_count": null,
      "metadata": {
        "id": "j9QJO8fSBAoL"
      },
      "outputs": [],
      "source": [
        "# fig = plt.figure(figsize=(25,20))\n",
        "# _ = tree.plot_tree(dt, \n",
        "#                    feature_names=x_train.columns,  \n",
        "#                    class_names=y_train.columns,\n",
        "#                    filled=True)"
      ]
    },
    {
      "cell_type": "markdown",
      "metadata": {
        "id": "ajmMnNxBRhGL"
      },
      "source": [
        "## Multiple linear regression"
      ]
    },
    {
      "cell_type": "code",
      "execution_count": null,
      "metadata": {
        "id": "w0ldLUJ8RkEP"
      },
      "outputs": [],
      "source": [
        "lr = LinearRegression()"
      ]
    },
    {
      "cell_type": "code",
      "execution_count": null,
      "metadata": {
        "id": "bl7RseUxC-xX"
      },
      "outputs": [],
      "source": [
        "# lr_x_train = x_train.drop(['log.Total_Volume'], axis=1)\n",
        "# lr_x_test = x_test.drop(['log.Total_Volume'], axis=1)"
      ]
    },
    {
      "cell_type": "code",
      "execution_count": null,
      "metadata": {
        "colab": {
          "base_uri": "https://localhost:8080/"
        },
        "id": "J54CYhvoSRH5",
        "outputId": "96ad4d03-39e3-49ff-c421-fd55f4f44294"
      },
      "outputs": [
        {
          "data": {
            "text/plain": [
              "LinearRegression()"
            ]
          },
          "execution_count": 50,
          "metadata": {},
          "output_type": "execute_result"
        }
      ],
      "source": [
        "lr.fit(x_train, y_train)"
      ]
    },
    {
      "cell_type": "code",
      "execution_count": null,
      "metadata": {
        "colab": {
          "base_uri": "https://localhost:8080/"
        },
        "id": "V_Oob9FiShPj",
        "outputId": "f2138f07-6794-4c2f-bb5e-2706e1d47b35"
      },
      "outputs": [
        {
          "data": {
            "text/plain": [
              "0.25128002264381966"
            ]
          },
          "execution_count": 52,
          "metadata": {},
          "output_type": "execute_result"
        }
      ],
      "source": [
        "y_pred_train_lr = lr.predict(x_train)\n",
        "final_train_lr = pd.DataFrame({'Actual':y_train, \"Predicted\":y_pred_train_lr})\n",
        "#r2_score(y_train, y_pred_train_lr)\n",
        "np.sqrt(mean_squared_error(y_train, y_pred_train_lr))"
      ]
    },
    {
      "cell_type": "code",
      "execution_count": null,
      "metadata": {
        "colab": {
          "base_uri": "https://localhost:8080/"
        },
        "id": "he0mpiVVSp-L",
        "outputId": "d3e0f420-32b1-4039-ad88-23afe32df1a1"
      },
      "outputs": [
        {
          "data": {
            "text/plain": [
              "0.31519589958673105"
            ]
          },
          "execution_count": 53,
          "metadata": {},
          "output_type": "execute_result"
        }
      ],
      "source": [
        "y_pred_test_lr = lr.predict(x_test)\n",
        "final_test_lr = pd.DataFrame({'Actual':y_test, \"Predicted\":y_pred_test_lr})\n",
        "#r2_score(y_test, y_pred_test_lr)\n",
        "np.sqrt(mean_squared_error(y_test, y_pred_test_lr))"
      ]
    },
    {
      "cell_type": "code",
      "execution_count": null,
      "metadata": {
        "colab": {
          "base_uri": "https://localhost:8080/"
        },
        "id": "rQtx93ngIrhO",
        "outputId": "4365a2e6-a393-499d-d076-79cb8ba1c63e"
      },
      "outputs": [
        {
          "data": {
            "text/plain": [
              "0.06314164977987852"
            ]
          },
          "execution_count": 112,
          "metadata": {},
          "output_type": "execute_result"
        }
      ],
      "source": [
        "mean_squared_error(y_train, y_pred_train_lr)\n",
        "# training MSE"
      ]
    },
    {
      "cell_type": "code",
      "execution_count": null,
      "metadata": {
        "colab": {
          "base_uri": "https://localhost:8080/"
        },
        "id": "UWtCs6w3ItBH",
        "outputId": "c6953533-4e48-48d7-d044-86d96211a32a"
      },
      "outputs": [
        {
          "data": {
            "text/plain": [
              "0.09934845511628863"
            ]
          },
          "execution_count": 113,
          "metadata": {},
          "output_type": "execute_result"
        }
      ],
      "source": [
        "mean_squared_error(y_test, y_pred_test_lr)\n",
        "# testing MSE"
      ]
    },
    {
      "cell_type": "code",
      "execution_count": null,
      "metadata": {
        "colab": {
          "base_uri": "https://localhost:8080/",
          "height": 269
        },
        "id": "RxIqrKoI_p7h",
        "outputId": "eff1dc6d-da8b-40be-c547-8fefbb21911c"
      },
      "outputs": [
        {
          "data": {
            "text/html": [
              "\n",
              "  <div id=\"df-1429fd89-bf77-4b21-bd9c-cb032b54dce6\">\n",
              "    <div class=\"colab-df-container\">\n",
              "      <div>\n",
              "<style scoped>\n",
              "    .dataframe tbody tr th:only-of-type {\n",
              "        vertical-align: middle;\n",
              "    }\n",
              "\n",
              "    .dataframe tbody tr th {\n",
              "        vertical-align: top;\n",
              "    }\n",
              "\n",
              "    .dataframe thead th {\n",
              "        text-align: right;\n",
              "    }\n",
              "</style>\n",
              "<table border=\"1\" class=\"dataframe\">\n",
              "  <thead>\n",
              "    <tr style=\"text-align: right;\">\n",
              "      <th></th>\n",
              "      <th>Actual</th>\n",
              "      <th>Predicted</th>\n",
              "    </tr>\n",
              "  </thead>\n",
              "  <tbody>\n",
              "    <tr>\n",
              "      <th>14207</th>\n",
              "      <td>1.30</td>\n",
              "      <td>1.272468</td>\n",
              "    </tr>\n",
              "    <tr>\n",
              "      <th>14208</th>\n",
              "      <td>1.48</td>\n",
              "      <td>1.086225</td>\n",
              "    </tr>\n",
              "    <tr>\n",
              "      <th>14209</th>\n",
              "      <td>1.34</td>\n",
              "      <td>1.164762</td>\n",
              "    </tr>\n",
              "    <tr>\n",
              "      <th>14210</th>\n",
              "      <td>1.13</td>\n",
              "      <td>1.182956</td>\n",
              "    </tr>\n",
              "    <tr>\n",
              "      <th>14211</th>\n",
              "      <td>1.33</td>\n",
              "      <td>1.186405</td>\n",
              "    </tr>\n",
              "    <tr>\n",
              "      <th>14212</th>\n",
              "      <td>1.56</td>\n",
              "      <td>1.241633</td>\n",
              "    </tr>\n",
              "    <tr>\n",
              "      <th>14213</th>\n",
              "      <td>1.52</td>\n",
              "      <td>1.158501</td>\n",
              "    </tr>\n",
              "  </tbody>\n",
              "</table>\n",
              "</div>\n",
              "      <button class=\"colab-df-convert\" onclick=\"convertToInteractive('df-1429fd89-bf77-4b21-bd9c-cb032b54dce6')\"\n",
              "              title=\"Convert this dataframe to an interactive table.\"\n",
              "              style=\"display:none;\">\n",
              "        \n",
              "  <svg xmlns=\"http://www.w3.org/2000/svg\" height=\"24px\"viewBox=\"0 0 24 24\"\n",
              "       width=\"24px\">\n",
              "    <path d=\"M0 0h24v24H0V0z\" fill=\"none\"/>\n",
              "    <path d=\"M18.56 5.44l.94 2.06.94-2.06 2.06-.94-2.06-.94-.94-2.06-.94 2.06-2.06.94zm-11 1L8.5 8.5l.94-2.06 2.06-.94-2.06-.94L8.5 2.5l-.94 2.06-2.06.94zm10 10l.94 2.06.94-2.06 2.06-.94-2.06-.94-.94-2.06-.94 2.06-2.06.94z\"/><path d=\"M17.41 7.96l-1.37-1.37c-.4-.4-.92-.59-1.43-.59-.52 0-1.04.2-1.43.59L10.3 9.45l-7.72 7.72c-.78.78-.78 2.05 0 2.83L4 21.41c.39.39.9.59 1.41.59.51 0 1.02-.2 1.41-.59l7.78-7.78 2.81-2.81c.8-.78.8-2.07 0-2.86zM5.41 20L4 18.59l7.72-7.72 1.47 1.35L5.41 20z\"/>\n",
              "  </svg>\n",
              "      </button>\n",
              "      \n",
              "  <style>\n",
              "    .colab-df-container {\n",
              "      display:flex;\n",
              "      flex-wrap:wrap;\n",
              "      gap: 12px;\n",
              "    }\n",
              "\n",
              "    .colab-df-convert {\n",
              "      background-color: #E8F0FE;\n",
              "      border: none;\n",
              "      border-radius: 50%;\n",
              "      cursor: pointer;\n",
              "      display: none;\n",
              "      fill: #1967D2;\n",
              "      height: 32px;\n",
              "      padding: 0 0 0 0;\n",
              "      width: 32px;\n",
              "    }\n",
              "\n",
              "    .colab-df-convert:hover {\n",
              "      background-color: #E2EBFA;\n",
              "      box-shadow: 0px 1px 2px rgba(60, 64, 67, 0.3), 0px 1px 3px 1px rgba(60, 64, 67, 0.15);\n",
              "      fill: #174EA6;\n",
              "    }\n",
              "\n",
              "    [theme=dark] .colab-df-convert {\n",
              "      background-color: #3B4455;\n",
              "      fill: #D2E3FC;\n",
              "    }\n",
              "\n",
              "    [theme=dark] .colab-df-convert:hover {\n",
              "      background-color: #434B5C;\n",
              "      box-shadow: 0px 1px 3px 1px rgba(0, 0, 0, 0.15);\n",
              "      filter: drop-shadow(0px 1px 2px rgba(0, 0, 0, 0.3));\n",
              "      fill: #FFFFFF;\n",
              "    }\n",
              "  </style>\n",
              "\n",
              "      <script>\n",
              "        const buttonEl =\n",
              "          document.querySelector('#df-1429fd89-bf77-4b21-bd9c-cb032b54dce6 button.colab-df-convert');\n",
              "        buttonEl.style.display =\n",
              "          google.colab.kernel.accessAllowed ? 'block' : 'none';\n",
              "\n",
              "        async function convertToInteractive(key) {\n",
              "          const element = document.querySelector('#df-1429fd89-bf77-4b21-bd9c-cb032b54dce6');\n",
              "          const dataTable =\n",
              "            await google.colab.kernel.invokeFunction('convertToInteractive',\n",
              "                                                     [key], {});\n",
              "          if (!dataTable) return;\n",
              "\n",
              "          const docLinkHtml = 'Like what you see? Visit the ' +\n",
              "            '<a target=\"_blank\" href=https://colab.research.google.com/notebooks/data_table.ipynb>data table notebook</a>'\n",
              "            + ' to learn more about interactive tables.';\n",
              "          element.innerHTML = '';\n",
              "          dataTable['output_type'] = 'display_data';\n",
              "          await google.colab.output.renderOutput(dataTable, element);\n",
              "          const docLink = document.createElement('div');\n",
              "          docLink.innerHTML = docLinkHtml;\n",
              "          element.appendChild(docLink);\n",
              "        }\n",
              "      </script>\n",
              "    </div>\n",
              "  </div>\n",
              "  "
            ],
            "text/plain": [
              "       Actual  Predicted\n",
              "14207    1.30   1.272468\n",
              "14208    1.48   1.086225\n",
              "14209    1.34   1.164762\n",
              "14210    1.13   1.182956\n",
              "14211    1.33   1.186405\n",
              "14212    1.56   1.241633\n",
              "14213    1.52   1.158501"
            ]
          },
          "execution_count": 55,
          "metadata": {},
          "output_type": "execute_result"
        }
      ],
      "source": [
        "final_test_lr.head(7)"
      ]
    },
    {
      "cell_type": "code",
      "execution_count": null,
      "metadata": {
        "colab": {
          "base_uri": "https://localhost:8080/"
        },
        "id": "SD15cgjY9hAL",
        "outputId": "079d8cc6-b7bb-44a1-f86d-d6c4901d6f84"
      },
      "outputs": [
        {
          "data": {
            "text/plain": [
              "15.420789627572235"
            ]
          },
          "execution_count": 56,
          "metadata": {},
          "output_type": "execute_result"
        }
      ],
      "source": [
        "np.mean(((np.abs(final_test_lr.Actual-final_test_lr.Predicted))/final_test_lr.Actual)*100)"
      ]
    },
    {
      "cell_type": "code",
      "execution_count": null,
      "metadata": {
        "colab": {
          "base_uri": "https://localhost:8080/",
          "height": 286
        },
        "id": "kIH7Jm5-S-hL",
        "outputId": "aed4afad-347b-444d-8038-280537b376c2"
      },
      "outputs": [
        {
          "data": {
            "text/plain": [
              "<matplotlib.axes._subplots.AxesSubplot at 0x7f1e6576d6d0>"
            ]
          },
          "execution_count": 223,
          "metadata": {},
          "output_type": "execute_result"
        },
        {
          "data": {
            "image/png": "[encoded data removed]",
            "text/plain": [
              "<Figure size 432x288 with 2 Axes>"
            ]
          },
          "metadata": {},
          "output_type": "display_data"
        }
      ],
      "source": [
        "sns.heatmap(final_test_lr.corr(), annot=True, cmap='Greens')"
      ]
    },
    {
      "cell_type": "markdown",
      "metadata": {
        "id": "KSRAALSGWlOk"
      },
      "source": [
        "## Random Forest"
      ]
    },
    {
      "cell_type": "code",
      "execution_count": null,
      "metadata": {
        "id": "tUK_eyYsuevZ"
      },
      "outputs": [],
      "source": [
        "# Applying Random Forest\n",
        "rf_random = RandomForestRegressor(max_depth= 25, max_features='sqrt', min_samples_leaf=1, min_samples_split=2, n_estimators=1000)"
      ]
    },
    {
      "cell_type": "markdown",
      "metadata": {
        "id": "k0FGRMQYWtCK"
      },
      "source": [
        "\n",
        "\n",
        "> Hyper parameter tuning "
      ]
    },
    {
      "cell_type": "code",
      "execution_count": null,
      "metadata": {
        "id": "wsYMLtPgyd-F"
      },
      "outputs": [],
      "source": [
        "# # No. of trees in a random forest\n",
        "# n_estimators = [int(i) for i in range(100,1201,100)]\n",
        "\n",
        "# # No. of features to consider at every split\n",
        "# max_features = ['auto', 'sqrt']\n",
        "\n",
        "# # Maximum number of levels in a tree\n",
        "# max_depth = [i for i in np.linspace(start=5, stop=30, num=6)]\n",
        "\n",
        "# # Minimum number of samples required to split a node\n",
        "# min_samples_split = [2, 5, 10, 15, 100]\n",
        "\n",
        "# # Minimum number of samples required at each leaf node\n",
        "# min_samples_leaf = [1, 2, 5, 10]"
      ]
    },
    {
      "cell_type": "code",
      "execution_count": null,
      "metadata": {
        "id": "ZbUew1aRymQM"
      },
      "outputs": [],
      "source": [
        "# random_grid = {\n",
        "#     'n_estimators': n_estimators,\n",
        "#     'max_features': max_features,\n",
        "#     'max_depth': max_depth,\n",
        "#     'min_samples_split': min_samples_split,\n",
        "#     'min_samples_leaf': min_samples_leaf\n",
        "# }"
      ]
    },
    {
      "cell_type": "code",
      "execution_count": null,
      "metadata": {
        "colab": {
          "base_uri": "https://localhost:8080/"
        },
        "id": "de_biLdiynN4",
        "outputId": "cb8d252e-ef67-4142-df1d-e3b72e05c23d"
      },
      "outputs": [
        {
          "data": {
            "text/plain": [
              "{'max_depth': [5.0, 10.0, 15.0, 20.0, 25.0, 30.0],\n",
              " 'max_features': ['auto', 'sqrt'],\n",
              " 'min_samples_leaf': [1, 2, 5, 10],\n",
              " 'min_samples_split': [2, 5, 10, 15, 100],\n",
              " 'n_estimators': [100,\n",
              "  200,\n",
              "  300,\n",
              "  400,\n",
              "  500,\n",
              "  600,\n",
              "  700,\n",
              "  800,\n",
              "  900,\n",
              "  1000,\n",
              "  1100,\n",
              "  1200]}"
            ]
          },
          "execution_count": 226,
          "metadata": {},
          "output_type": "execute_result"
        }
      ],
      "source": [
        "# random_grid"
      ]
    },
    {
      "cell_type": "code",
      "execution_count": null,
      "metadata": {
        "id": "FXCy6XiiytLS"
      },
      "outputs": [],
      "source": [
        "# rf_random = RandomizedSearchCV(estimator=rf,\n",
        "#                                param_distributions=random_grid,\n",
        "#                                scoring = 'neg_mean_squared_error',\n",
        "#                                n_jobs = 1,\n",
        "#                                random_state = 42,\n",
        "#                                verbose=2,\n",
        "#                                cv=5)"
      ]
    },
    {
      "cell_type": "code",
      "execution_count": null,
      "metadata": {
        "id": "r1JNY-6PzIr6"
      },
      "outputs": [],
      "source": [
        "# training phase\n",
        "# rf_random.fit(x_train,y_train)"
      ]
    },
    {
      "cell_type": "code",
      "execution_count": null,
      "metadata": {
        "colab": {
          "base_uri": "https://localhost:8080/"
        },
        "id": "6R8KSTHfzWxk",
        "outputId": "4d7e8556-c535-4eae-e7e0-33cac3b062d8"
      },
      "outputs": [
        {
          "data": {
            "text/plain": [
              "{'max_depth': 25.0,\n",
              " 'max_features': 'sqrt',\n",
              " 'min_samples_leaf': 1,\n",
              " 'min_samples_split': 2,\n",
              " 'n_estimators': 1000}"
            ]
          },
          "execution_count": 80,
          "metadata": {},
          "output_type": "execute_result"
        }
      ],
      "source": [
        "# Best combination of paramaters \n",
        "# rf_random.best_params_"
      ]
    },
    {
      "cell_type": "code",
      "execution_count": null,
      "metadata": {
        "id": "BqkG-RE-wldw"
      },
      "outputs": [],
      "source": [
        "# {'max_depth': 25.0,\n",
        "#  'max_features': 'sqrt',\n",
        "#  'min_samples_leaf': 1,\n",
        "#  'min_samples_split': 2,\n",
        "#  'n_estimators': 1000}"
      ]
    },
    {
      "cell_type": "code",
      "execution_count": null,
      "metadata": {
        "colab": {
          "base_uri": "https://localhost:8080/"
        },
        "id": "swtyBvDQJBTX",
        "outputId": "920c866a-f834-471b-e751-ccd56e3515d0"
      },
      "outputs": [
        {
          "data": {
            "text/plain": [
              "RandomForestRegressor(max_depth=25, max_features='sqrt', n_estimators=1000)"
            ]
          },
          "execution_count": 21,
          "metadata": {},
          "output_type": "execute_result"
        }
      ],
      "source": [
        "rf_random.fit(x_train, y_train)"
      ]
    },
    {
      "cell_type": "code",
      "execution_count": null,
      "metadata": {
        "id": "Ndw7beypmAA7"
      },
      "outputs": [],
      "source": [
        "import pickle"
      ]
    },
    {
      "cell_type": "code",
      "execution_count": null,
      "metadata": {
        "id": "lqi7fLp-kw8a"
      },
      "outputs": [],
      "source": [
        "with open('model2.pkl','wb') as files:\n",
        "  pickle.dump(rf_random, files)"
      ]
    },
    {
      "cell_type": "code",
      "execution_count": null,
      "metadata": {
        "colab": {
          "base_uri": "https://localhost:8080/"
        },
        "id": "2DYAKYt7YatM",
        "outputId": "b9f0730b-d60d-4614-adfe-e1b4abe238b6"
      },
      "outputs": [
        {
          "data": {
            "text/plain": [
              "0.03950252044800875"
            ]
          },
          "execution_count": 22,
          "metadata": {},
          "output_type": "execute_result"
        }
      ],
      "source": [
        "y_pred_train_rf = rf_random.predict(x_train)\n",
        "final_train = pd.DataFrame({'Actual':y_train, \"Predicted\":y_pred_train_rf})\n",
        "#r2_score(y_train, y_pred_train_rf)\n",
        "np.sqrt(mean_squared_error(y_train, y_pred_train_rf))"
      ]
    },
    {
      "cell_type": "code",
      "execution_count": null,
      "metadata": {
        "colab": {
          "base_uri": "https://localhost:8080/"
        },
        "id": "1DB3k_L46fHc",
        "outputId": "57fd7183-8e6a-4687-e64f-10059e8bb036"
      },
      "outputs": [
        {
          "data": {
            "text/plain": [
              "0.26303386995200867"
            ]
          },
          "execution_count": 23,
          "metadata": {},
          "output_type": "execute_result"
        }
      ],
      "source": [
        "y_pred_test_rf = rf_random.predict(x_test)\n",
        "final_test_rf = pd.DataFrame({'Actual':y_test, \"Predicted\":y_pred_test_rf})\n",
        "#r2_score(y_test, y_pred_test_rf)\n",
        "np.sqrt(mean_squared_error(y_test, y_pred_test_rf))"
      ]
    },
    {
      "cell_type": "code",
      "execution_count": null,
      "metadata": {
        "colab": {
          "base_uri": "https://localhost:8080/",
          "height": 269
        },
        "id": "rjQ458wwYyRK",
        "outputId": "37164ac7-37c2-449e-ac6c-00edd4008540"
      },
      "outputs": [
        {
          "data": {
            "text/html": [
              "\n",
              "  <div id=\"df-deff8552-6e0c-422f-81ce-a5afd40364b0\">\n",
              "    <div class=\"colab-df-container\">\n",
              "      <div>\n",
              "<style scoped>\n",
              "    .dataframe tbody tr th:only-of-type {\n",
              "        vertical-align: middle;\n",
              "    }\n",
              "\n",
              "    .dataframe tbody tr th {\n",
              "        vertical-align: top;\n",
              "    }\n",
              "\n",
              "    .dataframe thead th {\n",
              "        text-align: right;\n",
              "    }\n",
              "</style>\n",
              "<table border=\"1\" class=\"dataframe\">\n",
              "  <thead>\n",
              "    <tr style=\"text-align: right;\">\n",
              "      <th></th>\n",
              "      <th>Actual</th>\n",
              "      <th>Predicted</th>\n",
              "    </tr>\n",
              "  </thead>\n",
              "  <tbody>\n",
              "    <tr>\n",
              "      <th>14207</th>\n",
              "      <td>1.30</td>\n",
              "      <td>1.325997</td>\n",
              "    </tr>\n",
              "    <tr>\n",
              "      <th>14208</th>\n",
              "      <td>1.48</td>\n",
              "      <td>1.440384</td>\n",
              "    </tr>\n",
              "    <tr>\n",
              "      <th>14209</th>\n",
              "      <td>1.34</td>\n",
              "      <td>1.333776</td>\n",
              "    </tr>\n",
              "    <tr>\n",
              "      <th>14210</th>\n",
              "      <td>1.13</td>\n",
              "      <td>1.138789</td>\n",
              "    </tr>\n",
              "    <tr>\n",
              "      <th>14211</th>\n",
              "      <td>1.33</td>\n",
              "      <td>1.345167</td>\n",
              "    </tr>\n",
              "    <tr>\n",
              "      <th>14212</th>\n",
              "      <td>1.56</td>\n",
              "      <td>1.574657</td>\n",
              "    </tr>\n",
              "    <tr>\n",
              "      <th>14213</th>\n",
              "      <td>1.52</td>\n",
              "      <td>1.571580</td>\n",
              "    </tr>\n",
              "  </tbody>\n",
              "</table>\n",
              "</div>\n",
              "      <button class=\"colab-df-convert\" onclick=\"convertToInteractive('df-deff8552-6e0c-422f-81ce-a5afd40364b0')\"\n",
              "              title=\"Convert this dataframe to an interactive table.\"\n",
              "              style=\"display:none;\">\n",
              "        \n",
              "  <svg xmlns=\"http://www.w3.org/2000/svg\" height=\"24px\"viewBox=\"0 0 24 24\"\n",
              "       width=\"24px\">\n",
              "    <path d=\"M0 0h24v24H0V0z\" fill=\"none\"/>\n",
              "    <path d=\"M18.56 5.44l.94 2.06.94-2.06 2.06-.94-2.06-.94-.94-2.06-.94 2.06-2.06.94zm-11 1L8.5 8.5l.94-2.06 2.06-.94-2.06-.94L8.5 2.5l-.94 2.06-2.06.94zm10 10l.94 2.06.94-2.06 2.06-.94-2.06-.94-.94-2.06-.94 2.06-2.06.94z\"/><path d=\"M17.41 7.96l-1.37-1.37c-.4-.4-.92-.59-1.43-.59-.52 0-1.04.2-1.43.59L10.3 9.45l-7.72 7.72c-.78.78-.78 2.05 0 2.83L4 21.41c.39.39.9.59 1.41.59.51 0 1.02-.2 1.41-.59l7.78-7.78 2.81-2.81c.8-.78.8-2.07 0-2.86zM5.41 20L4 18.59l7.72-7.72 1.47 1.35L5.41 20z\"/>\n",
              "  </svg>\n",
              "      </button>\n",
              "      \n",
              "  <style>\n",
              "    .colab-df-container {\n",
              "      display:flex;\n",
              "      flex-wrap:wrap;\n",
              "      gap: 12px;\n",
              "    }\n",
              "\n",
              "    .colab-df-convert {\n",
              "      background-color: #E8F0FE;\n",
              "      border: none;\n",
              "      border-radius: 50%;\n",
              "      cursor: pointer;\n",
              "      display: none;\n",
              "      fill: #1967D2;\n",
              "      height: 32px;\n",
              "      padding: 0 0 0 0;\n",
              "      width: 32px;\n",
              "    }\n",
              "\n",
              "    .colab-df-convert:hover {\n",
              "      background-color: #E2EBFA;\n",
              "      box-shadow: 0px 1px 2px rgba(60, 64, 67, 0.3), 0px 1px 3px 1px rgba(60, 64, 67, 0.15);\n",
              "      fill: #174EA6;\n",
              "    }\n",
              "\n",
              "    [theme=dark] .colab-df-convert {\n",
              "      background-color: #3B4455;\n",
              "      fill: #D2E3FC;\n",
              "    }\n",
              "\n",
              "    [theme=dark] .colab-df-convert:hover {\n",
              "      background-color: #434B5C;\n",
              "      box-shadow: 0px 1px 3px 1px rgba(0, 0, 0, 0.15);\n",
              "      filter: drop-shadow(0px 1px 2px rgba(0, 0, 0, 0.3));\n",
              "      fill: #FFFFFF;\n",
              "    }\n",
              "  </style>\n",
              "\n",
              "      <script>\n",
              "        const buttonEl =\n",
              "          document.querySelector('#df-deff8552-6e0c-422f-81ce-a5afd40364b0 button.colab-df-convert');\n",
              "        buttonEl.style.display =\n",
              "          google.colab.kernel.accessAllowed ? 'block' : 'none';\n",
              "\n",
              "        async function convertToInteractive(key) {\n",
              "          const element = document.querySelector('#df-deff8552-6e0c-422f-81ce-a5afd40364b0');\n",
              "          const dataTable =\n",
              "            await google.colab.kernel.invokeFunction('convertToInteractive',\n",
              "                                                     [key], {});\n",
              "          if (!dataTable) return;\n",
              "\n",
              "          const docLinkHtml = 'Like what you see? Visit the ' +\n",
              "            '<a target=\"_blank\" href=https://colab.research.google.com/notebooks/data_table.ipynb>data table notebook</a>'\n",
              "            + ' to learn more about interactive tables.';\n",
              "          element.innerHTML = '';\n",
              "          dataTable['output_type'] = 'display_data';\n",
              "          await google.colab.output.renderOutput(dataTable, element);\n",
              "          const docLink = document.createElement('div');\n",
              "          docLink.innerHTML = docLinkHtml;\n",
              "          element.appendChild(docLink);\n",
              "        }\n",
              "      </script>\n",
              "    </div>\n",
              "  </div>\n",
              "  "
            ],
            "text/plain": [
              "       Actual  Predicted\n",
              "14207    1.30   1.325997\n",
              "14208    1.48   1.440384\n",
              "14209    1.34   1.333776\n",
              "14210    1.13   1.138789\n",
              "14211    1.33   1.345167\n",
              "14212    1.56   1.574657\n",
              "14213    1.52   1.571580"
            ]
          },
          "execution_count": 61,
          "metadata": {},
          "output_type": "execute_result"
        }
      ],
      "source": [
        "final_test_rf.head(7)"
      ]
    },
    {
      "cell_type": "code",
      "execution_count": null,
      "metadata": {
        "colab": {
          "base_uri": "https://localhost:8080/"
        },
        "id": "l1Wreprc6d7g",
        "outputId": "13e78ba7-e393-40bd-d1bd-e692a291a514"
      },
      "outputs": [
        {
          "data": {
            "text/plain": [
              "12.383848315898787"
            ]
          },
          "execution_count": 24,
          "metadata": {},
          "output_type": "execute_result"
        }
      ],
      "source": [
        "# mean absolute error for random forest model\n",
        "np.mean(((np.abs(final_test_rf.Actual-\n",
        "                 final_test_rf.Predicted))/\n",
        "         final_test_rf.Actual)*100)"
      ]
    },
    {
      "cell_type": "code",
      "execution_count": null,
      "metadata": {
        "colab": {
          "base_uri": "https://localhost:8080/",
          "height": 286
        },
        "id": "xJPCs8DwR0KD",
        "outputId": "320bf33a-bae9-4038-d942-a087d1b341e1"
      },
      "outputs": [
        {
          "data": {
            "text/plain": [
              "<matplotlib.axes._subplots.AxesSubplot at 0x7fb1f3fb8f50>"
            ]
          },
          "execution_count": 63,
          "metadata": {},
          "output_type": "execute_result"
        },
        {
          "data": {
            "image/png": "[encoded data removed]",
            "text/plain": [
              "<Figure size 432x288 with 2 Axes>"
            ]
          },
          "metadata": {},
          "output_type": "display_data"
        }
      ],
      "source": [
        "sns.heatmap(final_test_rf.corr(), annot=True, cmap='Greens')"
      ]
    },
    {
      "cell_type": "markdown",
      "metadata": {
        "id": "kajcf3FGNaig"
      },
      "source": [
        "> Suggesion: split the test as 2017 data and 2018 data seperately and to check the mean absolute error percentage, to analyze whether the time series data has an impact on the 12% of mae% in the original test set. "
      ]
    },
    {
      "cell_type": "code",
      "execution_count": null,
      "metadata": {
        "id": "AeglUjBaFLyy"
      },
      "outputs": [],
      "source": [
        "x_test2017 = x_test[x_test['year']==2017]"
      ]
    },
    {
      "cell_type": "code",
      "execution_count": null,
      "metadata": {
        "id": "7imFQSv7FUnJ"
      },
      "outputs": [],
      "source": [
        "x_test2018 = x_test[x_test['year']==2018]"
      ]
    },
    {
      "cell_type": "code",
      "execution_count": null,
      "metadata": {
        "id": "Yr6Y7WAdDRI2"
      },
      "outputs": [],
      "source": [
        "y_test2017 = test.loc[test.year == 2017, ['AveragePrice']]\n",
        "# convert dataframe to series\n",
        "y_test2017 = y_test2017.loc[:,'AveragePrice']"
      ]
    },
    {
      "cell_type": "code",
      "execution_count": null,
      "metadata": {
        "colab": {
          "base_uri": "https://localhost:8080/"
        },
        "id": "Bsfv2IujBgJu",
        "outputId": "227b56b8-9f06-45f7-a0d2-28e725a065c5"
      },
      "outputs": [
        {
          "data": {
            "text/plain": [
              "(2309, 12)"
            ]
          },
          "execution_count": 67,
          "metadata": {},
          "output_type": "execute_result"
        }
      ],
      "source": [
        "x_test2017.shape"
      ]
    },
    {
      "cell_type": "code",
      "execution_count": null,
      "metadata": {
        "colab": {
          "base_uri": "https://localhost:8080/"
        },
        "id": "VO-7iSh7Ay65",
        "outputId": "d425c3f8-2d9b-43f3-cd33-ffb8d1dd03d2"
      },
      "outputs": [
        {
          "data": {
            "text/plain": [
              "(2309,)"
            ]
          },
          "execution_count": 68,
          "metadata": {},
          "output_type": "execute_result"
        }
      ],
      "source": [
        "y_test2017.shape"
      ]
    },
    {
      "cell_type": "code",
      "execution_count": null,
      "metadata": {
        "id": "RNtDTNEtHVfI"
      },
      "outputs": [],
      "source": [
        "y_test2018 = test.loc[test.year == 2018, ['AveragePrice']]\n",
        "# convert dataframe to series\n",
        "y_test2018 = y_test2018.loc[:,'AveragePrice']"
      ]
    },
    {
      "cell_type": "code",
      "execution_count": null,
      "metadata": {
        "colab": {
          "base_uri": "https://localhost:8080/"
        },
        "id": "KIa59oc1CwF-",
        "outputId": "770c214b-f221-43d7-cdae-214388225379"
      },
      "outputs": [
        {
          "data": {
            "text/plain": [
              "12.70782704387198"
            ]
          },
          "execution_count": 70,
          "metadata": {},
          "output_type": "execute_result"
        }
      ],
      "source": [
        "y_pred_test_rf2017 = rf_random.predict(x_test2017)\n",
        "final_test_rf2017 = pd.DataFrame({'Actual':y_test2017, \"Predicted\":y_pred_test_rf2017})\n",
        "#r2_score(y_test, y_pred_test_rf)\n",
        "#np.sqrt(mean_squared_error(y_test2017, y_pred_test_rf2017))\n",
        "## mean absolute error percentage\n",
        "np.mean(((np.abs(y_test2017-\n",
        "                 y_pred_test_rf2017))/\n",
        "         y_test2017)*100)"
      ]
    },
    {
      "cell_type": "code",
      "execution_count": null,
      "metadata": {
        "colab": {
          "base_uri": "https://localhost:8080/"
        },
        "id": "glzVJJ4ZJ4Q4",
        "outputId": "6886badd-8a79-4ba5-dd07-3580839f1a6d"
      },
      "outputs": [
        {
          "data": {
            "text/plain": [
              "(2309,)"
            ]
          },
          "execution_count": 250,
          "metadata": {},
          "output_type": "execute_result"
        }
      ],
      "source": [
        "y_pred_test_rf2017.shape"
      ]
    },
    {
      "cell_type": "code",
      "execution_count": null,
      "metadata": {
        "colab": {
          "base_uri": "https://localhost:8080/"
        },
        "id": "O2Cmac2fKz6F",
        "outputId": "31a0dfae-bcb0-4223-88b7-94021ca56b2e"
      },
      "outputs": [
        {
          "data": {
            "text/plain": [
              "11.852209007630185"
            ]
          },
          "execution_count": 71,
          "metadata": {},
          "output_type": "execute_result"
        }
      ],
      "source": [
        "y_pred_test_rf2018 = rf_random.predict(x_test2018)\n",
        "final_test_rf2018 = pd.DataFrame({'Actual':y_test2018, \"Predicted\":y_pred_test_rf2018})\n",
        "#r2_score(y_test, y_pred_test_rf)\n",
        "#np.sqrt(mean_squared_error(y_test2018, y_pred_test_rf2018))\n",
        "## mean absolute error percentage\n",
        "np.mean(((np.abs(y_test2018-\n",
        "                 y_pred_test_rf2018))/\n",
        "         y_test2018)*100)"
      ]
    },
    {
      "cell_type": "markdown",
      "metadata": {
        "id": "qhvuEohKXbdt"
      },
      "source": [
        "> There is no big difference between the two years"
      ]
    },
    {
      "cell_type": "code",
      "execution_count": null,
      "metadata": {
        "colab": {
          "base_uri": "https://localhost:8080/"
        },
        "id": "cOJ8VJznO3xQ",
        "outputId": "a615ea1b-d76c-4aeb-97eb-d2b29019dcb3"
      },
      "outputs": [
        {
          "data": {
            "text/plain": [
              "0.8591450000000032"
            ]
          },
          "execution_count": 72,
          "metadata": {},
          "output_type": "execute_result"
        }
      ],
      "source": [
        "np.max(np.abs(y_pred_test_rf2018-y_test2018))"
      ]
    },
    {
      "cell_type": "code",
      "execution_count": null,
      "metadata": {
        "colab": {
          "base_uri": "https://localhost:8080/"
        },
        "id": "trZqL1TZPemJ",
        "outputId": "b5821076-30ee-429e-f8bf-0eddcd26f8e7"
      },
      "outputs": [
        {
          "data": {
            "text/plain": [
              "1.473739999999999"
            ]
          },
          "execution_count": 73,
          "metadata": {},
          "output_type": "execute_result"
        }
      ],
      "source": [
        "np.max(np.abs(y_pred_test_rf2017-y_test2017))"
      ]
    },
    {
      "cell_type": "code",
      "execution_count": null,
      "metadata": {
        "colab": {
          "base_uri": "https://localhost:8080/",
          "height": 206
        },
        "id": "PBtE1uLaMWzw",
        "outputId": "150025c7-7ebf-455a-efe1-6e20a7918f45"
      },
      "outputs": [
        {
          "data": {
            "text/html": [
              "\n",
              "  <div id=\"df-b75c239f-b697-48a5-a4b9-48528cc94605\">\n",
              "    <div class=\"colab-df-container\">\n",
              "      <div>\n",
              "<style scoped>\n",
              "    .dataframe tbody tr th:only-of-type {\n",
              "        vertical-align: middle;\n",
              "    }\n",
              "\n",
              "    .dataframe tbody tr th {\n",
              "        vertical-align: top;\n",
              "    }\n",
              "\n",
              "    .dataframe thead th {\n",
              "        text-align: right;\n",
              "    }\n",
              "</style>\n",
              "<table border=\"1\" class=\"dataframe\">\n",
              "  <thead>\n",
              "    <tr style=\"text-align: right;\">\n",
              "      <th></th>\n",
              "      <th>Actual</th>\n",
              "      <th>Predicted</th>\n",
              "    </tr>\n",
              "  </thead>\n",
              "  <tbody>\n",
              "    <tr>\n",
              "      <th>0</th>\n",
              "      <td>1.30</td>\n",
              "      <td>1.325997</td>\n",
              "    </tr>\n",
              "    <tr>\n",
              "      <th>1</th>\n",
              "      <td>1.48</td>\n",
              "      <td>1.440384</td>\n",
              "    </tr>\n",
              "    <tr>\n",
              "      <th>2</th>\n",
              "      <td>1.34</td>\n",
              "      <td>1.333776</td>\n",
              "    </tr>\n",
              "    <tr>\n",
              "      <th>3</th>\n",
              "      <td>1.13</td>\n",
              "      <td>1.138789</td>\n",
              "    </tr>\n",
              "    <tr>\n",
              "      <th>4</th>\n",
              "      <td>1.33</td>\n",
              "      <td>1.345167</td>\n",
              "    </tr>\n",
              "  </tbody>\n",
              "</table>\n",
              "</div>\n",
              "      <button class=\"colab-df-convert\" onclick=\"convertToInteractive('df-b75c239f-b697-48a5-a4b9-48528cc94605')\"\n",
              "              title=\"Convert this dataframe to an interactive table.\"\n",
              "              style=\"display:none;\">\n",
              "        \n",
              "  <svg xmlns=\"http://www.w3.org/2000/svg\" height=\"24px\"viewBox=\"0 0 24 24\"\n",
              "       width=\"24px\">\n",
              "    <path d=\"M0 0h24v24H0V0z\" fill=\"none\"/>\n",
              "    <path d=\"M18.56 5.44l.94 2.06.94-2.06 2.06-.94-2.06-.94-.94-2.06-.94 2.06-2.06.94zm-11 1L8.5 8.5l.94-2.06 2.06-.94-2.06-.94L8.5 2.5l-.94 2.06-2.06.94zm10 10l.94 2.06.94-2.06 2.06-.94-2.06-.94-.94-2.06-.94 2.06-2.06.94z\"/><path d=\"M17.41 7.96l-1.37-1.37c-.4-.4-.92-.59-1.43-.59-.52 0-1.04.2-1.43.59L10.3 9.45l-7.72 7.72c-.78.78-.78 2.05 0 2.83L4 21.41c.39.39.9.59 1.41.59.51 0 1.02-.2 1.41-.59l7.78-7.78 2.81-2.81c.8-.78.8-2.07 0-2.86zM5.41 20L4 18.59l7.72-7.72 1.47 1.35L5.41 20z\"/>\n",
              "  </svg>\n",
              "      </button>\n",
              "      \n",
              "  <style>\n",
              "    .colab-df-container {\n",
              "      display:flex;\n",
              "      flex-wrap:wrap;\n",
              "      gap: 12px;\n",
              "    }\n",
              "\n",
              "    .colab-df-convert {\n",
              "      background-color: #E8F0FE;\n",
              "      border: none;\n",
              "      border-radius: 50%;\n",
              "      cursor: pointer;\n",
              "      display: none;\n",
              "      fill: #1967D2;\n",
              "      height: 32px;\n",
              "      padding: 0 0 0 0;\n",
              "      width: 32px;\n",
              "    }\n",
              "\n",
              "    .colab-df-convert:hover {\n",
              "      background-color: #E2EBFA;\n",
              "      box-shadow: 0px 1px 2px rgba(60, 64, 67, 0.3), 0px 1px 3px 1px rgba(60, 64, 67, 0.15);\n",
              "      fill: #174EA6;\n",
              "    }\n",
              "\n",
              "    [theme=dark] .colab-df-convert {\n",
              "      background-color: #3B4455;\n",
              "      fill: #D2E3FC;\n",
              "    }\n",
              "\n",
              "    [theme=dark] .colab-df-convert:hover {\n",
              "      background-color: #434B5C;\n",
              "      box-shadow: 0px 1px 3px 1px rgba(0, 0, 0, 0.15);\n",
              "      filter: drop-shadow(0px 1px 2px rgba(0, 0, 0, 0.3));\n",
              "      fill: #FFFFFF;\n",
              "    }\n",
              "  </style>\n",
              "\n",
              "      <script>\n",
              "        const buttonEl =\n",
              "          document.querySelector('#df-b75c239f-b697-48a5-a4b9-48528cc94605 button.colab-df-convert');\n",
              "        buttonEl.style.display =\n",
              "          google.colab.kernel.accessAllowed ? 'block' : 'none';\n",
              "\n",
              "        async function convertToInteractive(key) {\n",
              "          const element = document.querySelector('#df-b75c239f-b697-48a5-a4b9-48528cc94605');\n",
              "          const dataTable =\n",
              "            await google.colab.kernel.invokeFunction('convertToInteractive',\n",
              "                                                     [key], {});\n",
              "          if (!dataTable) return;\n",
              "\n",
              "          const docLinkHtml = 'Like what you see? Visit the ' +\n",
              "            '<a target=\"_blank\" href=https://colab.research.google.com/notebooks/data_table.ipynb>data table notebook</a>'\n",
              "            + ' to learn more about interactive tables.';\n",
              "          element.innerHTML = '';\n",
              "          dataTable['output_type'] = 'display_data';\n",
              "          await google.colab.output.renderOutput(dataTable, element);\n",
              "          const docLink = document.createElement('div');\n",
              "          docLink.innerHTML = docLinkHtml;\n",
              "          element.appendChild(docLink);\n",
              "        }\n",
              "      </script>\n",
              "    </div>\n",
              "  </div>\n",
              "  "
            ],
            "text/plain": [
              "   Actual  Predicted\n",
              "0    1.30   1.325997\n",
              "1    1.48   1.440384\n",
              "2    1.34   1.333776\n",
              "3    1.13   1.138789\n",
              "4    1.33   1.345167"
            ]
          },
          "execution_count": 74,
          "metadata": {},
          "output_type": "execute_result"
        }
      ],
      "source": [
        "final_test_rf2017.head()"
      ]
    },
    {
      "cell_type": "code",
      "execution_count": null,
      "metadata": {
        "colab": {
          "base_uri": "https://localhost:8080/",
          "height": 206
        },
        "id": "UM59t3Y2Orjm",
        "outputId": "f12669ef-fcc5-4c3f-da66-2e3544bce4b8"
      },
      "outputs": [
        {
          "data": {
            "text/html": [
              "\n",
              "  <div id=\"df-8ee82104-f236-4fe1-b81b-f0f0dea167e9\">\n",
              "    <div class=\"colab-df-container\">\n",
              "      <div>\n",
              "<style scoped>\n",
              "    .dataframe tbody tr th:only-of-type {\n",
              "        vertical-align: middle;\n",
              "    }\n",
              "\n",
              "    .dataframe tbody tr th {\n",
              "        vertical-align: top;\n",
              "    }\n",
              "\n",
              "    .dataframe thead th {\n",
              "        text-align: right;\n",
              "    }\n",
              "</style>\n",
              "<table border=\"1\" class=\"dataframe\">\n",
              "  <thead>\n",
              "    <tr style=\"text-align: right;\">\n",
              "      <th></th>\n",
              "      <th>Actual</th>\n",
              "      <th>Predicted</th>\n",
              "    </tr>\n",
              "  </thead>\n",
              "  <tbody>\n",
              "    <tr>\n",
              "      <th>3576</th>\n",
              "      <td>1.82</td>\n",
              "      <td>1.834347</td>\n",
              "    </tr>\n",
              "    <tr>\n",
              "      <th>3577</th>\n",
              "      <td>1.04</td>\n",
              "      <td>1.441430</td>\n",
              "    </tr>\n",
              "    <tr>\n",
              "      <th>3578</th>\n",
              "      <td>1.41</td>\n",
              "      <td>1.684140</td>\n",
              "    </tr>\n",
              "    <tr>\n",
              "      <th>3579</th>\n",
              "      <td>1.60</td>\n",
              "      <td>1.436786</td>\n",
              "    </tr>\n",
              "    <tr>\n",
              "      <th>3580</th>\n",
              "      <td>1.62</td>\n",
              "      <td>1.641900</td>\n",
              "    </tr>\n",
              "  </tbody>\n",
              "</table>\n",
              "</div>\n",
              "      <button class=\"colab-df-convert\" onclick=\"convertToInteractive('df-8ee82104-f236-4fe1-b81b-f0f0dea167e9')\"\n",
              "              title=\"Convert this dataframe to an interactive table.\"\n",
              "              style=\"display:none;\">\n",
              "        \n",
              "  <svg xmlns=\"http://www.w3.org/2000/svg\" height=\"24px\"viewBox=\"0 0 24 24\"\n",
              "       width=\"24px\">\n",
              "    <path d=\"M0 0h24v24H0V0z\" fill=\"none\"/>\n",
              "    <path d=\"M18.56 5.44l.94 2.06.94-2.06 2.06-.94-2.06-.94-.94-2.06-.94 2.06-2.06.94zm-11 1L8.5 8.5l.94-2.06 2.06-.94-2.06-.94L8.5 2.5l-.94 2.06-2.06.94zm10 10l.94 2.06.94-2.06 2.06-.94-2.06-.94-.94-2.06-.94 2.06-2.06.94z\"/><path d=\"M17.41 7.96l-1.37-1.37c-.4-.4-.92-.59-1.43-.59-.52 0-1.04.2-1.43.59L10.3 9.45l-7.72 7.72c-.78.78-.78 2.05 0 2.83L4 21.41c.39.39.9.59 1.41.59.51 0 1.02-.2 1.41-.59l7.78-7.78 2.81-2.81c.8-.78.8-2.07 0-2.86zM5.41 20L4 18.59l7.72-7.72 1.47 1.35L5.41 20z\"/>\n",
              "  </svg>\n",
              "      </button>\n",
              "      \n",
              "  <style>\n",
              "    .colab-df-container {\n",
              "      display:flex;\n",
              "      flex-wrap:wrap;\n",
              "      gap: 12px;\n",
              "    }\n",
              "\n",
              "    .colab-df-convert {\n",
              "      background-color: #E8F0FE;\n",
              "      border: none;\n",
              "      border-radius: 50%;\n",
              "      cursor: pointer;\n",
              "      display: none;\n",
              "      fill: #1967D2;\n",
              "      height: 32px;\n",
              "      padding: 0 0 0 0;\n",
              "      width: 32px;\n",
              "    }\n",
              "\n",
              "    .colab-df-convert:hover {\n",
              "      background-color: #E2EBFA;\n",
              "      box-shadow: 0px 1px 2px rgba(60, 64, 67, 0.3), 0px 1px 3px 1px rgba(60, 64, 67, 0.15);\n",
              "      fill: #174EA6;\n",
              "    }\n",
              "\n",
              "    [theme=dark] .colab-df-convert {\n",
              "      background-color: #3B4455;\n",
              "      fill: #D2E3FC;\n",
              "    }\n",
              "\n",
              "    [theme=dark] .colab-df-convert:hover {\n",
              "      background-color: #434B5C;\n",
              "      box-shadow: 0px 1px 3px 1px rgba(0, 0, 0, 0.15);\n",
              "      filter: drop-shadow(0px 1px 2px rgba(0, 0, 0, 0.3));\n",
              "      fill: #FFFFFF;\n",
              "    }\n",
              "  </style>\n",
              "\n",
              "      <script>\n",
              "        const buttonEl =\n",
              "          document.querySelector('#df-8ee82104-f236-4fe1-b81b-f0f0dea167e9 button.colab-df-convert');\n",
              "        buttonEl.style.display =\n",
              "          google.colab.kernel.accessAllowed ? 'block' : 'none';\n",
              "\n",
              "        async function convertToInteractive(key) {\n",
              "          const element = document.querySelector('#df-8ee82104-f236-4fe1-b81b-f0f0dea167e9');\n",
              "          const dataTable =\n",
              "            await google.colab.kernel.invokeFunction('convertToInteractive',\n",
              "                                                     [key], {});\n",
              "          if (!dataTable) return;\n",
              "\n",
              "          const docLinkHtml = 'Like what you see? Visit the ' +\n",
              "            '<a target=\"_blank\" href=https://colab.research.google.com/notebooks/data_table.ipynb>data table notebook</a>'\n",
              "            + ' to learn more about interactive tables.';\n",
              "          element.innerHTML = '';\n",
              "          dataTable['output_type'] = 'display_data';\n",
              "          await google.colab.output.renderOutput(dataTable, element);\n",
              "          const docLink = document.createElement('div');\n",
              "          docLink.innerHTML = docLinkHtml;\n",
              "          element.appendChild(docLink);\n",
              "        }\n",
              "      </script>\n",
              "    </div>\n",
              "  </div>\n",
              "  "
            ],
            "text/plain": [
              "      Actual  Predicted\n",
              "3576    1.82   1.834347\n",
              "3577    1.04   1.441430\n",
              "3578    1.41   1.684140\n",
              "3579    1.60   1.436786\n",
              "3580    1.62   1.641900"
            ]
          },
          "execution_count": 77,
          "metadata": {},
          "output_type": "execute_result"
        }
      ],
      "source": [
        "final_test_rf2018.tail()"
      ]
    },
    {
      "cell_type": "code",
      "execution_count": null,
      "metadata": {
        "id": "XwhUmOf1W0fn"
      },
      "outputs": [],
      "source": [
        "import xgboost"
      ]
    },
    {
      "cell_type": "code",
      "execution_count": null,
      "metadata": {
        "colab": {
          "base_uri": "https://localhost:8080/"
        },
        "id": "68ntfVcGW54R",
        "outputId": "7253e026-e32c-49c3-c824-a9fc0881980c"
      },
      "outputs": [
        {
          "name": "stdout",
          "output_type": "stream",
          "text": [
            "0.90\n"
          ]
        }
      ],
      "source": [
        "print(xgboost.__version__)"
      ]
    },
    {
      "cell_type": "code",
      "execution_count": null,
      "metadata": {
        "colab": {
          "base_uri": "https://localhost:8080/"
        },
        "id": "4gAJPH3mW84d",
        "outputId": "cdc1b537-136b-4bb4-cec0-720d0a3fea17"
      },
      "outputs": [
        {
          "name": "stdout",
          "output_type": "stream",
          "text": [
            "Requirement already satisfied: xgboost==1.0.1 in /usr/local/lib/python3.7/dist-packages (1.0.1)\n",
            "Requirement already satisfied: scipy in /usr/local/lib/python3.7/dist-packages (from xgboost==1.0.1) (1.4.1)\n",
            "Requirement already satisfied: numpy in /usr/local/lib/python3.7/dist-packages (from xgboost==1.0.1) (1.19.5)\n"
          ]
        }
      ],
      "source": [
        "!pip install xgboost==1.0.1"
      ]
    },
    {
      "cell_type": "code",
      "execution_count": null,
      "metadata": {
        "colab": {
          "base_uri": "https://localhost:8080/"
        },
        "id": "hNnK7rVfXkzt",
        "outputId": "2d3a8ca2-a512-4f8b-a78d-7de8b20496a4"
      },
      "outputs": [
        {
          "name": "stdout",
          "output_type": "stream",
          "text": [
            "1.0.1\n"
          ]
        }
      ],
      "source": [
        "print(xgboost.__version__)"
      ]
    },
    {
      "cell_type": "markdown",
      "metadata": {
        "id": "G9RoPGzO2a9j"
      },
      "source": [
        "## XGBoost"
      ]
    },
    {
      "cell_type": "code",
      "execution_count": null,
      "metadata": {
        "id": "w8Tts3SXYBB9"
      },
      "outputs": [],
      "source": [
        "from xgboost import XGBRegressor"
      ]
    },
    {
      "cell_type": "code",
      "execution_count": null,
      "metadata": {
        "id": "9JQRZBVSXzoj"
      },
      "outputs": [],
      "source": [
        "model = XGBRegressor()"
      ]
    },
    {
      "cell_type": "code",
      "execution_count": null,
      "metadata": {
        "id": "nwW6W8GpYfOJ"
      },
      "outputs": [],
      "source": [
        "cv = RepeatedKFold(n_splits=10, n_repeats=5, random_state=1)"
      ]
    },
    {
      "cell_type": "code",
      "execution_count": null,
      "metadata": {
        "colab": {
          "base_uri": "https://localhost:8080/"
        },
        "id": "l_3755OsYi9L",
        "outputId": "02914b6c-0087-4464-f619-0baaa66745a3"
      },
      "outputs": [
        {
          "name": "stdout",
          "output_type": "stream",
          "text": [
            "Mean MAE: 0.083 (0.002)\n"
          ]
        }
      ],
      "source": [
        "scores = cross_val_score(model, x_train, y_train, scoring='neg_mean_absolute_error', cv=cv, n_jobs=-1)\n",
        "# force scores to be positive\n",
        "scores = np.absolute(scores)\n",
        "print('Mean MAE: %.3f (%.3f)' % (scores.mean(), scores.std()) )"
      ]
    },
    {
      "cell_type": "code",
      "execution_count": null,
      "metadata": {
        "colab": {
          "base_uri": "https://localhost:8080/"
        },
        "id": "4IWIpxVybXvZ",
        "outputId": "02ef1def-4ffd-4249-dc6f-1bdf44c97236"
      },
      "outputs": [
        {
          "data": {
            "text/plain": [
              "XGBRegressor(base_score=0.5, booster=None, colsample_bylevel=1,\n",
              "             colsample_bynode=1, colsample_bytree=1, gamma=0, gpu_id=-1,\n",
              "             importance_type='gain', interaction_constraints=None,\n",
              "             learning_rate=0.300000012, max_delta_step=0, max_depth=6,\n",
              "             min_child_weight=1, missing=nan, monotone_constraints=None,\n",
              "             n_estimators=100, n_jobs=0, num_parallel_tree=1, random_state=0,\n",
              "             reg_alpha=0, reg_lambda=1, scale_pos_weight=1, subsample=1,\n",
              "             tree_method=None, validate_parameters=False, verbosity=None)"
            ]
          },
          "execution_count": 163,
          "metadata": {},
          "output_type": "execute_result"
        }
      ],
      "source": [
        "model.fit(x_train, y_train)"
      ]
    },
    {
      "cell_type": "code",
      "execution_count": null,
      "metadata": {
        "colab": {
          "base_uri": "https://localhost:8080/"
        },
        "id": "rW7JKHgh2q-P",
        "outputId": "8912a706-515a-4cf6-cfed-cd9ec0dcca36"
      },
      "outputs": [
        {
          "data": {
            "text/plain": [
              "0.0703282650708739"
            ]
          },
          "execution_count": 164,
          "metadata": {},
          "output_type": "execute_result"
        }
      ],
      "source": [
        "y_pred_train_xg = model.predict(x_train)\n",
        "final_train = pd.DataFrame({'Actual':y_train, \"Predicted\":y_pred_train_xg})\n",
        "#r2_score(y_train, y_pred_train_xg)\n",
        "np.sqrt(mean_squared_error(y_train, y_pred_train_xg))"
      ]
    },
    {
      "cell_type": "code",
      "execution_count": null,
      "metadata": {
        "colab": {
          "base_uri": "https://localhost:8080/"
        },
        "id": "SrMmRUD63Q_x",
        "outputId": "dc96f82b-59c3-4143-84c9-4e9d79b9f65c"
      },
      "outputs": [
        {
          "data": {
            "text/plain": [
              "0.9662787351628949"
            ]
          },
          "execution_count": 166,
          "metadata": {},
          "output_type": "execute_result"
        }
      ],
      "source": [
        "r2_score(y_train, y_pred_train_xg)"
      ]
    },
    {
      "cell_type": "code",
      "execution_count": null,
      "metadata": {
        "colab": {
          "base_uri": "https://localhost:8080/"
        },
        "id": "cTtyABTXbE9X",
        "outputId": "bf68953a-2fed-4ade-9806-a43689e6f636"
      },
      "outputs": [
        {
          "data": {
            "text/plain": [
              "0.28269427979544665"
            ]
          },
          "execution_count": 171,
          "metadata": {},
          "output_type": "execute_result"
        }
      ],
      "source": [
        "y_pred_test_xg = model.predict(x_test)\n",
        "final_test_xg = pd.DataFrame({'Actual':y_test, \"Predicted\":y_pred_test_xg})\n",
        "#r2_score(y_test, y_pred_test_xg)\n",
        "np.sqrt(mean_squared_error(y_test, y_pred_test_xg))"
      ]
    },
    {
      "cell_type": "code",
      "execution_count": null,
      "metadata": {
        "colab": {
          "base_uri": "https://localhost:8080/"
        },
        "id": "gxKaNdHh3OXr",
        "outputId": "a1cbf418-4df2-4b08-b746-f3e06996bf0c"
      },
      "outputs": [
        {
          "data": {
            "text/plain": [
              "0.4910117889161556"
            ]
          },
          "execution_count": 167,
          "metadata": {},
          "output_type": "execute_result"
        }
      ],
      "source": [
        "r2_score(y_test, y_pred_test_xg)"
      ]
    },
    {
      "cell_type": "code",
      "execution_count": null,
      "metadata": {
        "colab": {
          "base_uri": "https://localhost:8080/",
          "height": 286
        },
        "id": "99u5CnFB33qv",
        "outputId": "64e9c86b-7342-4598-ff0a-dc7d53f20884"
      },
      "outputs": [
        {
          "data": {
            "text/plain": [
              "<matplotlib.axes._subplots.AxesSubplot at 0x7ff0cbf936d0>"
            ]
          },
          "execution_count": 173,
          "metadata": {},
          "output_type": "execute_result"
        },
        {
          "data": {
            "image/png": "[encoded data removed]",
            "text/plain": [
              "<Figure size 432x288 with 2 Axes>"
            ]
          },
          "metadata": {},
          "output_type": "display_data"
        }
      ],
      "source": [
        "sns.heatmap(final_test_xg.corr(), annot=True, cmap='Greens')"
      ]
    },
    {
      "cell_type": "markdown",
      "metadata": {
        "id": "leUcygYq4q-H"
      },
      "source": [
        "> **Finally considering all the heat maps, 'Random Forest regressor' gives a better prediction.**\n",
        "\n",
        "> **Comparing all the methods with test root mean squared error,**\n",
        "* ***multiple linear regression***\n",
        "* ***ridge regression***\n",
        "* ***lasso regression***\n",
        "* ***elasticnet regression***\n",
        "* ***decision tree***\n",
        "* ***random forest*** \n",
        "\n",
        "**random forest model suits best.**\n",
        "\n",
        "> But notice that the daaset is time series related. Therefore using **'time series regression'** will be the most suitable one. \n"
      ]
    },
    {
      "cell_type": "code",
      "execution_count": null,
      "metadata": {
        "id": "apUC8yglxJLa"
      },
      "outputs": [],
      "source": [
        "# log.Total_Volume\tlog.X4046\tlog.X4225\tlog.X4770\tlog.Small_Bags\tlog.Large_Bags\tlog.XLarge_Bags\tMonth_Ex"
      ]
    },
    {
      "cell_type": "code",
      "execution_count": null,
      "metadata": {
        "id": "BX6oy7WlxnRs"
      },
      "outputs": [],
      "source": [
        "import math"
      ]
    },
    {
      "cell_type": "code",
      "execution_count": null,
      "metadata": {
        "colab": {
          "base_uri": "https://localhost:8080/",
          "height": 321
        },
        "id": "Rv-z_vbjvDWM",
        "outputId": "de982ccf-6be2-49f6-d96e-63824b7ef21e"
      },
      "outputs": [
        {
          "name": "stdout",
          "output_type": "stream",
          "text": [
            "input type (conventional-0, organic-1): 0\n",
            "year: 2019\n",
            "region: 26\n",
            "Date new: 170\n",
            "Total volume: 36521\n"
          ]
        },
        {
          "ename": "NameError",
          "evalue": "ignored",
          "output_type": "error",
          "traceback": [
            "\u001b[0;31m---------------------------------------------------------------------------\u001b[0m",
            "\u001b[0;31mNameError\u001b[0m                                 Traceback (most recent call last)",
            "\u001b[0;32m<ipython-input-102-b15d1738aa93>\u001b[0m in \u001b[0;36m<module>\u001b[0;34m()\u001b[0m\n\u001b[1;32m      3\u001b[0m \u001b[0mregion\u001b[0m \u001b[0;34m=\u001b[0m \u001b[0mint\u001b[0m\u001b[0;34m(\u001b[0m\u001b[0minput\u001b[0m\u001b[0;34m(\u001b[0m\u001b[0;34m'region: '\u001b[0m\u001b[0;34m)\u001b[0m\u001b[0;34m)\u001b[0m\u001b[0;34m\u001b[0m\u001b[0;34m\u001b[0m\u001b[0m\n\u001b[1;32m      4\u001b[0m \u001b[0mdate_new\u001b[0m \u001b[0;34m=\u001b[0m \u001b[0mint\u001b[0m\u001b[0;34m(\u001b[0m\u001b[0minput\u001b[0m\u001b[0;34m(\u001b[0m\u001b[0;34m'Date new: '\u001b[0m\u001b[0;34m)\u001b[0m\u001b[0;34m)\u001b[0m\u001b[0;34m\u001b[0m\u001b[0;34m\u001b[0m\u001b[0m\n\u001b[0;32m----> 5\u001b[0;31m \u001b[0mlog\u001b[0m\u001b[0;34m.\u001b[0m\u001b[0mTotal_Volume\u001b[0m \u001b[0;34m=\u001b[0m \u001b[0mmath\u001b[0m\u001b[0;34m.\u001b[0m\u001b[0mlog\u001b[0m\u001b[0;34m(\u001b[0m\u001b[0mint\u001b[0m\u001b[0;34m(\u001b[0m\u001b[0minput\u001b[0m\u001b[0;34m(\u001b[0m\u001b[0;34m'Total volume: '\u001b[0m\u001b[0;34m)\u001b[0m\u001b[0;34m)\u001b[0m\u001b[0;34m+\u001b[0m\u001b[0;36m2\u001b[0m\u001b[0;34m)\u001b[0m\u001b[0;34m\u001b[0m\u001b[0;34m\u001b[0m\u001b[0m\n\u001b[0m\u001b[1;32m      6\u001b[0m \u001b[0mlog\u001b[0m\u001b[0;34m.\u001b[0m\u001b[0mx4046\u001b[0m \u001b[0;34m=\u001b[0m \u001b[0mmath\u001b[0m\u001b[0;34m.\u001b[0m\u001b[0mlog\u001b[0m\u001b[0;34m(\u001b[0m\u001b[0mint\u001b[0m\u001b[0;34m(\u001b[0m\u001b[0minput\u001b[0m\u001b[0;34m(\u001b[0m\u001b[0;34m'x4046 total: '\u001b[0m\u001b[0;34m)\u001b[0m\u001b[0;34m)\u001b[0m\u001b[0;34m+\u001b[0m\u001b[0;36m2\u001b[0m\u001b[0;34m)\u001b[0m\u001b[0;34m\u001b[0m\u001b[0;34m\u001b[0m\u001b[0m\n\u001b[1;32m      7\u001b[0m \u001b[0mlog\u001b[0m\u001b[0;34m.\u001b[0m\u001b[0mX4225\u001b[0m       \u001b[0;34m=\u001b[0m \u001b[0mmath\u001b[0m\u001b[0;34m.\u001b[0m\u001b[0mlog\u001b[0m\u001b[0;34m(\u001b[0m\u001b[0mint\u001b[0m\u001b[0;34m(\u001b[0m\u001b[0minput\u001b[0m\u001b[0;34m(\u001b[0m\u001b[0;34m'x4225 total: '\u001b[0m\u001b[0;34m)\u001b[0m\u001b[0;34m)\u001b[0m\u001b[0;34m+\u001b[0m\u001b[0;36m2\u001b[0m\u001b[0;34m)\u001b[0m\u001b[0;34m\u001b[0m\u001b[0;34m\u001b[0m\u001b[0m\n",
            "\u001b[0;31mNameError\u001b[0m: name 'log' is not defined"
          ]
        }
      ],
      "source": [
        "type = int(input('input type (conventional-0, organic-1): '))\n",
        "year = int(input('year: '))\n",
        "region = int(input('region: '))\n",
        "date_new = int(input('Date new: '))\n",
        "log.Total_Volume = math.log(int(input('Total volume: '))+2)\n",
        "log.x4046 = math.log(int(input('x4046 total: '))+2)\n",
        "log.X4225\t= math.log(int(input('x4225 total: '))+2)\n",
        "log.X4770\t= math.log(int(input('x4770 total: '))+2)\n",
        "log.Small_Bags\t= math.log(int(input('Total small bags: '))+2)\n",
        "log.Large_Bags\t= math.log(int(input('Total large bags: '))+2)\n",
        "log.XLarge_Bags\t= math.log(int(input('Total Xlarge bags: '))+2)\n",
        "Month_Ex = int(input('month: '))"
      ]
    },
    {
      "cell_type": "code",
      "execution_count": null,
      "metadata": {
        "id": "qlm5i9aXy0gd"
      },
      "outputs": [],
      "source": [
        "data = pd.DataFrame([type, year, region, date_new, log_Total_Volume, log_x4046, log_X4225, log_X4770, log_Small_Bags, log_Large_Bags, log_XLarge_Bags, Month_Ex])"
      ]
    },
    {
      "cell_type": "code",
      "execution_count": null,
      "metadata": {
        "id": "EY0LH-di0XTB"
      },
      "outputs": [],
      "source": [
        "frame = [x_test, data]\n",
        "avo2 = pd.concat(frame, ignore_index=True)"
      ]
    },
    {
      "cell_type": "code",
      "execution_count": null,
      "metadata": {
        "colab": {
          "base_uri": "https://localhost:8080/",
          "height": 206
        },
        "id": "fc2C78PuyXYn",
        "outputId": "22998ee7-3121-43c1-cd30-ce221cd0d0c6"
      },
      "outputs": [
        {
          "data": {
            "text/html": [
              "\n",
              "  <div id=\"df-f0e10371-9356-41df-9b70-c3510673df6b\">\n",
              "    <div class=\"colab-df-container\">\n",
              "      <div>\n",
              "<style scoped>\n",
              "    .dataframe tbody tr th:only-of-type {\n",
              "        vertical-align: middle;\n",
              "    }\n",
              "\n",
              "    .dataframe tbody tr th {\n",
              "        vertical-align: top;\n",
              "    }\n",
              "\n",
              "    .dataframe thead th {\n",
              "        text-align: right;\n",
              "    }\n",
              "</style>\n",
              "<table border=\"1\" class=\"dataframe\">\n",
              "  <thead>\n",
              "    <tr style=\"text-align: right;\">\n",
              "      <th></th>\n",
              "      <th>0</th>\n",
              "      <th>Month_Ex</th>\n",
              "      <th>date_new</th>\n",
              "      <th>log.Large_Bags</th>\n",
              "      <th>log.Small_Bags</th>\n",
              "      <th>log.Total_Volume</th>\n",
              "      <th>log.X4046</th>\n",
              "      <th>log.X4225</th>\n",
              "      <th>log.X4770</th>\n",
              "      <th>log.XLarge_Bags</th>\n",
              "      <th>region</th>\n",
              "      <th>type</th>\n",
              "      <th>year</th>\n",
              "    </tr>\n",
              "  </thead>\n",
              "  <tbody>\n",
              "    <tr>\n",
              "      <th>0</th>\n",
              "      <td>NaN</td>\n",
              "      <td>8.0</td>\n",
              "      <td>136.0</td>\n",
              "      <td>10.093078</td>\n",
              "      <td>10.295957</td>\n",
              "      <td>11.463115</td>\n",
              "      <td>7.748934</td>\n",
              "      <td>10.535087</td>\n",
              "      <td>5.393628</td>\n",
              "      <td>7.101478</td>\n",
              "      <td>23.0</td>\n",
              "      <td>0.0</td>\n",
              "      <td>2017.0</td>\n",
              "    </tr>\n",
              "    <tr>\n",
              "      <th>1</th>\n",
              "      <td>NaN</td>\n",
              "      <td>8.0</td>\n",
              "      <td>136.0</td>\n",
              "      <td>10.786238</td>\n",
              "      <td>10.562380</td>\n",
              "      <td>13.124671</td>\n",
              "      <td>12.740190</td>\n",
              "      <td>11.078935</td>\n",
              "      <td>5.788062</td>\n",
              "      <td>8.969090</td>\n",
              "      <td>24.0</td>\n",
              "      <td>0.0</td>\n",
              "      <td>2017.0</td>\n",
              "    </tr>\n",
              "    <tr>\n",
              "      <th>2</th>\n",
              "      <td>NaN</td>\n",
              "      <td>8.0</td>\n",
              "      <td>136.0</td>\n",
              "      <td>11.716401</td>\n",
              "      <td>13.660556</td>\n",
              "      <td>14.882826</td>\n",
              "      <td>13.306671</td>\n",
              "      <td>14.056795</td>\n",
              "      <td>10.194487</td>\n",
              "      <td>10.230057</td>\n",
              "      <td>25.0</td>\n",
              "      <td>0.0</td>\n",
              "      <td>2017.0</td>\n",
              "    </tr>\n",
              "    <tr>\n",
              "      <th>3</th>\n",
              "      <td>NaN</td>\n",
              "      <td>8.0</td>\n",
              "      <td>136.0</td>\n",
              "      <td>9.460197</td>\n",
              "      <td>11.364160</td>\n",
              "      <td>12.402980</td>\n",
              "      <td>11.572897</td>\n",
              "      <td>10.511345</td>\n",
              "      <td>3.936130</td>\n",
              "      <td>7.353088</td>\n",
              "      <td>26.0</td>\n",
              "      <td>0.0</td>\n",
              "      <td>2017.0</td>\n",
              "    </tr>\n",
              "    <tr>\n",
              "      <th>4</th>\n",
              "      <td>NaN</td>\n",
              "      <td>8.0</td>\n",
              "      <td>136.0</td>\n",
              "      <td>9.281429</td>\n",
              "      <td>10.948063</td>\n",
              "      <td>12.392484</td>\n",
              "      <td>11.775316</td>\n",
              "      <td>10.438327</td>\n",
              "      <td>3.828641</td>\n",
              "      <td>9.129347</td>\n",
              "      <td>27.0</td>\n",
              "      <td>0.0</td>\n",
              "      <td>2017.0</td>\n",
              "    </tr>\n",
              "  </tbody>\n",
              "</table>\n",
              "</div>\n",
              "      <button class=\"colab-df-convert\" onclick=\"convertToInteractive('df-f0e10371-9356-41df-9b70-c3510673df6b')\"\n",
              "              title=\"Convert this dataframe to an interactive table.\"\n",
              "              style=\"display:none;\">\n",
              "        \n",
              "  <svg xmlns=\"http://www.w3.org/2000/svg\" height=\"24px\"viewBox=\"0 0 24 24\"\n",
              "       width=\"24px\">\n",
              "    <path d=\"M0 0h24v24H0V0z\" fill=\"none\"/>\n",
              "    <path d=\"M18.56 5.44l.94 2.06.94-2.06 2.06-.94-2.06-.94-.94-2.06-.94 2.06-2.06.94zm-11 1L8.5 8.5l.94-2.06 2.06-.94-2.06-.94L8.5 2.5l-.94 2.06-2.06.94zm10 10l.94 2.06.94-2.06 2.06-.94-2.06-.94-.94-2.06-.94 2.06-2.06.94z\"/><path d=\"M17.41 7.96l-1.37-1.37c-.4-.4-.92-.59-1.43-.59-.52 0-1.04.2-1.43.59L10.3 9.45l-7.72 7.72c-.78.78-.78 2.05 0 2.83L4 21.41c.39.39.9.59 1.41.59.51 0 1.02-.2 1.41-.59l7.78-7.78 2.81-2.81c.8-.78.8-2.07 0-2.86zM5.41 20L4 18.59l7.72-7.72 1.47 1.35L5.41 20z\"/>\n",
              "  </svg>\n",
              "      </button>\n",
              "      \n",
              "  <style>\n",
              "    .colab-df-container {\n",
              "      display:flex;\n",
              "      flex-wrap:wrap;\n",
              "      gap: 12px;\n",
              "    }\n",
              "\n",
              "    .colab-df-convert {\n",
              "      background-color: #E8F0FE;\n",
              "      border: none;\n",
              "      border-radius: 50%;\n",
              "      cursor: pointer;\n",
              "      display: none;\n",
              "      fill: #1967D2;\n",
              "      height: 32px;\n",
              "      padding: 0 0 0 0;\n",
              "      width: 32px;\n",
              "    }\n",
              "\n",
              "    .colab-df-convert:hover {\n",
              "      background-color: #E2EBFA;\n",
              "      box-shadow: 0px 1px 2px rgba(60, 64, 67, 0.3), 0px 1px 3px 1px rgba(60, 64, 67, 0.15);\n",
              "      fill: #174EA6;\n",
              "    }\n",
              "\n",
              "    [theme=dark] .colab-df-convert {\n",
              "      background-color: #3B4455;\n",
              "      fill: #D2E3FC;\n",
              "    }\n",
              "\n",
              "    [theme=dark] .colab-df-convert:hover {\n",
              "      background-color: #434B5C;\n",
              "      box-shadow: 0px 1px 3px 1px rgba(0, 0, 0, 0.15);\n",
              "      filter: drop-shadow(0px 1px 2px rgba(0, 0, 0, 0.3));\n",
              "      fill: #FFFFFF;\n",
              "    }\n",
              "  </style>\n",
              "\n",
              "      <script>\n",
              "        const buttonEl =\n",
              "          document.querySelector('#df-f0e10371-9356-41df-9b70-c3510673df6b button.colab-df-convert');\n",
              "        buttonEl.style.display =\n",
              "          google.colab.kernel.accessAllowed ? 'block' : 'none';\n",
              "\n",
              "        async function convertToInteractive(key) {\n",
              "          const element = document.querySelector('#df-f0e10371-9356-41df-9b70-c3510673df6b');\n",
              "          const dataTable =\n",
              "            await google.colab.kernel.invokeFunction('convertToInteractive',\n",
              "                                                     [key], {});\n",
              "          if (!dataTable) return;\n",
              "\n",
              "          const docLinkHtml = 'Like what you see? Visit the ' +\n",
              "            '<a target=\"_blank\" href=https://colab.research.google.com/notebooks/data_table.ipynb>data table notebook</a>'\n",
              "            + ' to learn more about interactive tables.';\n",
              "          element.innerHTML = '';\n",
              "          dataTable['output_type'] = 'display_data';\n",
              "          await google.colab.output.renderOutput(dataTable, element);\n",
              "          const docLink = document.createElement('div');\n",
              "          docLink.innerHTML = docLinkHtml;\n",
              "          element.appendChild(docLink);\n",
              "        }\n",
              "      </script>\n",
              "    </div>\n",
              "  </div>\n",
              "  "
            ],
            "text/plain": [
              "    0  Month_Ex  date_new  ...  region  type    year\n",
              "0 NaN       8.0     136.0  ...    23.0   0.0  2017.0\n",
              "1 NaN       8.0     136.0  ...    24.0   0.0  2017.0\n",
              "2 NaN       8.0     136.0  ...    25.0   0.0  2017.0\n",
              "3 NaN       8.0     136.0  ...    26.0   0.0  2017.0\n",
              "4 NaN       8.0     136.0  ...    27.0   0.0  2017.0\n",
              "\n",
              "[5 rows x 13 columns]"
            ]
          },
          "execution_count": 99,
          "metadata": {},
          "output_type": "execute_result"
        }
      ],
      "source": [
        "avo2.head()"
      ]
    },
    {
      "cell_type": "code",
      "execution_count": null,
      "metadata": {
        "colab": {
          "base_uri": "https://localhost:8080/"
        },
        "id": "RiMBzP3mycql",
        "outputId": "ba7d75c9-1b2d-4ea3-daa4-5c775a051cbd"
      },
      "outputs": [
        {
          "data": {
            "text/plain": [
              "0                   5.0\n",
              "Month_Ex            NaN\n",
              "date_new            NaN\n",
              "log.Large_Bags      NaN\n",
              "log.Small_Bags      NaN\n",
              "log.Total_Volume    NaN\n",
              "log.X4046           NaN\n",
              "log.X4225           NaN\n",
              "log.X4770           NaN\n",
              "log.XLarge_Bags     NaN\n",
              "region              NaN\n",
              "type                NaN\n",
              "year                NaN\n",
              "Name: 3592, dtype: float64"
            ]
          },
          "execution_count": 97,
          "metadata": {},
          "output_type": "execute_result"
        }
      ],
      "source": [
        "avo2.loc[3592]"
      ]
    },
    {
      "cell_type": "code",
      "execution_count": null,
      "metadata": {
        "colab": {
          "base_uri": "https://localhost:8080/",
          "height": 397
        },
        "id": "hVUHwaop0RMA",
        "outputId": "cffad185-725e-4539-9009-ee6f1e9125c4"
      },
      "outputs": [
        {
          "name": "stderr",
          "output_type": "stream",
          "text": [
            "/usr/local/lib/python3.7/dist-packages/sklearn/base.py:446: UserWarning: X does not have valid feature names, but RandomForestRegressor was fitted with feature names\n",
            "  \"X does not have valid feature names, but\"\n"
          ]
        },
        {
          "ename": "ValueError",
          "evalue": "ignored",
          "output_type": "error",
          "traceback": [
            "\u001b[0;31m---------------------------------------------------------------------------\u001b[0m",
            "\u001b[0;31mValueError\u001b[0m                                Traceback (most recent call last)",
            "\u001b[0;32m<ipython-input-91-677c98b8d918>\u001b[0m in \u001b[0;36m<module>\u001b[0;34m()\u001b[0m\n\u001b[0;32m----> 1\u001b[0;31m \u001b[0mpred\u001b[0m \u001b[0;34m=\u001b[0m \u001b[0mrf_random\u001b[0m\u001b[0;34m.\u001b[0m\u001b[0mpredict\u001b[0m\u001b[0;34m(\u001b[0m\u001b[0mdata\u001b[0m\u001b[0;34m)\u001b[0m\u001b[0;34m\u001b[0m\u001b[0;34m\u001b[0m\u001b[0m\n\u001b[0m\u001b[1;32m      2\u001b[0m \u001b[0mfinal_train\u001b[0m \u001b[0;34m=\u001b[0m \u001b[0mpd\u001b[0m\u001b[0;34m.\u001b[0m\u001b[0mDataFrame\u001b[0m\u001b[0;34m(\u001b[0m\u001b[0;34m{\u001b[0m\u001b[0;34m'Actual'\u001b[0m\u001b[0;34m:\u001b[0m\u001b[0my_train\u001b[0m\u001b[0;34m,\u001b[0m \u001b[0;34m\"Predicted\"\u001b[0m\u001b[0;34m:\u001b[0m\u001b[0mpred\u001b[0m\u001b[0;34m}\u001b[0m\u001b[0;34m)\u001b[0m\u001b[0;34m\u001b[0m\u001b[0;34m\u001b[0m\u001b[0m\n\u001b[1;32m      3\u001b[0m \u001b[0;31m#r2_score(y_train, y_pred_train_xg)\u001b[0m\u001b[0;34m\u001b[0m\u001b[0;34m\u001b[0m\u001b[0;34m\u001b[0m\u001b[0m\n\u001b[1;32m      4\u001b[0m \u001b[0mnp\u001b[0m\u001b[0;34m.\u001b[0m\u001b[0msqrt\u001b[0m\u001b[0;34m(\u001b[0m\u001b[0mmean_squared_error\u001b[0m\u001b[0;34m(\u001b[0m\u001b[0my_train\u001b[0m\u001b[0;34m,\u001b[0m \u001b[0mpred\u001b[0m\u001b[0;34m)\u001b[0m\u001b[0;34m)\u001b[0m\u001b[0;34m\u001b[0m\u001b[0;34m\u001b[0m\u001b[0m\n",
            "\u001b[0;32m/usr/local/lib/python3.7/dist-packages/sklearn/ensemble/_forest.py\u001b[0m in \u001b[0;36mpredict\u001b[0;34m(self, X)\u001b[0m\n\u001b[1;32m    959\u001b[0m         \u001b[0mcheck_is_fitted\u001b[0m\u001b[0;34m(\u001b[0m\u001b[0mself\u001b[0m\u001b[0;34m)\u001b[0m\u001b[0;34m\u001b[0m\u001b[0;34m\u001b[0m\u001b[0m\n\u001b[1;32m    960\u001b[0m         \u001b[0;31m# Check data\u001b[0m\u001b[0;34m\u001b[0m\u001b[0;34m\u001b[0m\u001b[0;34m\u001b[0m\u001b[0m\n\u001b[0;32m--> 961\u001b[0;31m         \u001b[0mX\u001b[0m \u001b[0;34m=\u001b[0m \u001b[0mself\u001b[0m\u001b[0;34m.\u001b[0m\u001b[0m_validate_X_predict\u001b[0m\u001b[0;34m(\u001b[0m\u001b[0mX\u001b[0m\u001b[0;34m)\u001b[0m\u001b[0;34m\u001b[0m\u001b[0;34m\u001b[0m\u001b[0m\n\u001b[0m\u001b[1;32m    962\u001b[0m \u001b[0;34m\u001b[0m\u001b[0m\n\u001b[1;32m    963\u001b[0m         \u001b[0;31m# Assign chunk of trees to jobs\u001b[0m\u001b[0;34m\u001b[0m\u001b[0;34m\u001b[0m\u001b[0;34m\u001b[0m\u001b[0m\n",
            "\u001b[0;32m/usr/local/lib/python3.7/dist-packages/sklearn/ensemble/_forest.py\u001b[0m in \u001b[0;36m_validate_X_predict\u001b[0;34m(self, X)\u001b[0m\n\u001b[1;32m    567\u001b[0m         Validate X whenever one tries to predict, apply, predict_proba.\"\"\"\n\u001b[1;32m    568\u001b[0m         \u001b[0mcheck_is_fitted\u001b[0m\u001b[0;34m(\u001b[0m\u001b[0mself\u001b[0m\u001b[0;34m)\u001b[0m\u001b[0;34m\u001b[0m\u001b[0;34m\u001b[0m\u001b[0m\n\u001b[0;32m--> 569\u001b[0;31m         \u001b[0mX\u001b[0m \u001b[0;34m=\u001b[0m \u001b[0mself\u001b[0m\u001b[0;34m.\u001b[0m\u001b[0m_validate_data\u001b[0m\u001b[0;34m(\u001b[0m\u001b[0mX\u001b[0m\u001b[0;34m,\u001b[0m \u001b[0mdtype\u001b[0m\u001b[0;34m=\u001b[0m\u001b[0mDTYPE\u001b[0m\u001b[0;34m,\u001b[0m \u001b[0maccept_sparse\u001b[0m\u001b[0;34m=\u001b[0m\u001b[0;34m\"csr\"\u001b[0m\u001b[0;34m,\u001b[0m \u001b[0mreset\u001b[0m\u001b[0;34m=\u001b[0m\u001b[0;32mFalse\u001b[0m\u001b[0;34m)\u001b[0m\u001b[0;34m\u001b[0m\u001b[0;34m\u001b[0m\u001b[0m\n\u001b[0m\u001b[1;32m    570\u001b[0m         \u001b[0;32mif\u001b[0m \u001b[0missparse\u001b[0m\u001b[0;34m(\u001b[0m\u001b[0mX\u001b[0m\u001b[0;34m)\u001b[0m \u001b[0;32mand\u001b[0m \u001b[0;34m(\u001b[0m\u001b[0mX\u001b[0m\u001b[0;34m.\u001b[0m\u001b[0mindices\u001b[0m\u001b[0;34m.\u001b[0m\u001b[0mdtype\u001b[0m \u001b[0;34m!=\u001b[0m \u001b[0mnp\u001b[0m\u001b[0;34m.\u001b[0m\u001b[0mintc\u001b[0m \u001b[0;32mor\u001b[0m \u001b[0mX\u001b[0m\u001b[0;34m.\u001b[0m\u001b[0mindptr\u001b[0m\u001b[0;34m.\u001b[0m\u001b[0mdtype\u001b[0m \u001b[0;34m!=\u001b[0m \u001b[0mnp\u001b[0m\u001b[0;34m.\u001b[0m\u001b[0mintc\u001b[0m\u001b[0;34m)\u001b[0m\u001b[0;34m:\u001b[0m\u001b[0;34m\u001b[0m\u001b[0;34m\u001b[0m\u001b[0m\n\u001b[1;32m    571\u001b[0m             \u001b[0;32mraise\u001b[0m \u001b[0mValueError\u001b[0m\u001b[0;34m(\u001b[0m\u001b[0;34m\"No support for np.int64 index based sparse matrices\"\u001b[0m\u001b[0;34m)\u001b[0m\u001b[0;34m\u001b[0m\u001b[0;34m\u001b[0m\u001b[0m\n",
            "\u001b[0;32m/usr/local/lib/python3.7/dist-packages/sklearn/base.py\u001b[0m in \u001b[0;36m_validate_data\u001b[0;34m(self, X, y, reset, validate_separately, **check_params)\u001b[0m\n\u001b[1;32m    578\u001b[0m \u001b[0;34m\u001b[0m\u001b[0m\n\u001b[1;32m    579\u001b[0m         \u001b[0;32mif\u001b[0m \u001b[0;32mnot\u001b[0m \u001b[0mno_val_X\u001b[0m \u001b[0;32mand\u001b[0m \u001b[0mcheck_params\u001b[0m\u001b[0;34m.\u001b[0m\u001b[0mget\u001b[0m\u001b[0;34m(\u001b[0m\u001b[0;34m\"ensure_2d\"\u001b[0m\u001b[0;34m,\u001b[0m \u001b[0;32mTrue\u001b[0m\u001b[0;34m)\u001b[0m\u001b[0;34m:\u001b[0m\u001b[0;34m\u001b[0m\u001b[0;34m\u001b[0m\u001b[0m\n\u001b[0;32m--> 580\u001b[0;31m             \u001b[0mself\u001b[0m\u001b[0;34m.\u001b[0m\u001b[0m_check_n_features\u001b[0m\u001b[0;34m(\u001b[0m\u001b[0mX\u001b[0m\u001b[0;34m,\u001b[0m \u001b[0mreset\u001b[0m\u001b[0;34m=\u001b[0m\u001b[0mreset\u001b[0m\u001b[0;34m)\u001b[0m\u001b[0;34m\u001b[0m\u001b[0;34m\u001b[0m\u001b[0m\n\u001b[0m\u001b[1;32m    581\u001b[0m \u001b[0;34m\u001b[0m\u001b[0m\n\u001b[1;32m    582\u001b[0m         \u001b[0;32mreturn\u001b[0m \u001b[0mout\u001b[0m\u001b[0;34m\u001b[0m\u001b[0;34m\u001b[0m\u001b[0m\n",
            "\u001b[0;32m/usr/local/lib/python3.7/dist-packages/sklearn/base.py\u001b[0m in \u001b[0;36m_check_n_features\u001b[0;34m(self, X, reset)\u001b[0m\n\u001b[1;32m    394\u001b[0m         \u001b[0;32mif\u001b[0m \u001b[0mn_features\u001b[0m \u001b[0;34m!=\u001b[0m \u001b[0mself\u001b[0m\u001b[0;34m.\u001b[0m\u001b[0mn_features_in_\u001b[0m\u001b[0;34m:\u001b[0m\u001b[0;34m\u001b[0m\u001b[0;34m\u001b[0m\u001b[0m\n\u001b[1;32m    395\u001b[0m             raise ValueError(\n\u001b[0;32m--> 396\u001b[0;31m                 \u001b[0;34mf\"X has {n_features} features, but {self.__class__.__name__} \"\u001b[0m\u001b[0;34m\u001b[0m\u001b[0;34m\u001b[0m\u001b[0m\n\u001b[0m\u001b[1;32m    397\u001b[0m                 \u001b[0;34mf\"is expecting {self.n_features_in_} features as input.\"\u001b[0m\u001b[0;34m\u001b[0m\u001b[0;34m\u001b[0m\u001b[0m\n\u001b[1;32m    398\u001b[0m             )\n",
            "\u001b[0;31mValueError\u001b[0m: X has 1 features, but RandomForestRegressor is expecting 12 features as input."
          ]
        }
      ],
      "source": [
        "pred = rf_random.predict(data)\n",
        "final_train = pd.DataFrame({'Actual':y_train, \"Predicted\":pred})\n",
        "#r2_score(y_train, y_pred_train_xg)\n",
        "np.sqrt(mean_squared_error(y_train, pred))"
      ]
    }
  ],
  "metadata": {
    "colab": {
      "toc_visible": true,
      "provenance": []
    },
    "kernelspec": {
      "display_name": "Python 3",
      "name": "python3"
    },
    "language_info": {
      "name": "python"
    }
  },
  "nbformat": 4,
  "nbformat_minor": 0
}